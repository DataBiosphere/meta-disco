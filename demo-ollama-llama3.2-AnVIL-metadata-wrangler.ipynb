{
 "cells": [
  {
   "cell_type": "code",
   "execution_count": 43,
   "id": "cb643da5",
   "metadata": {},
   "outputs": [],
   "source": [
    "import json\n",
    "\n",
    "import requests, pysam\n",
    "import tempfile\n",
    "import os\n",
    "\n",
    "import pandas as pd\n",
    "import ollama\n"
   ]
  },
  {
   "cell_type": "code",
   "execution_count": 44,
   "id": "b0129805",
   "metadata": {},
   "outputs": [],
   "source": [
    "def fetch_header(url, nbytes=1_000_000):\n",
    "    # Range request for the first nbytes\n",
    "    r = requests.get(url, headers={'Range': f'bytes=0-{nbytes}'})\n",
    "    with tempfile.NamedTemporaryFile(delete=False, suffix='.bam') as tmp:\n",
    "        tmp.write(r.content)\n",
    "        tmp_path = tmp.name\n",
    "    try:\n",
    "        header = pysam.AlignmentFile(tmp_path, \"rb\", ignore_truncation=True, check_sq=False).header.to_dict()\n",
    "    finally:\n",
    "        os.remove(tmp_path)\n",
    "    return header"
   ]
  },
  {
   "cell_type": "code",
   "execution_count": 45,
   "id": "6587737a",
   "metadata": {},
   "outputs": [],
   "source": [
    "def ollama_parse_header_prompt(header_dict):\n",
    "    return f\"\"\"\n",
    "You are a genomics metadata assistant.\n",
    "\n",
    "Below is the SAM/BAM header as a Python dictionary. Your job is to extract and summarize the most relevant metadata:\n",
    "\n",
    "1. Reference genome (e.g., GRCh38, T2T-CHM13, hg19)\n",
    "2. Annotation version (e.g., GENCODE v40, RefSeq)\n",
    "3. Alignment tool (e.g., STAR, BWA, Minimap2) and version\n",
    "4. Any transcriptome or quantification settings (e.g., --quantMode TranscriptomeSAM)\n",
    "\n",
    "Header:\n",
    "{header_dict}\n",
    "\n",
    "Please return a clean summary like:\n",
    "\n",
    "Reference genome: ___  \n",
    "Annotation version: ___  \n",
    "Aligner: ___  \n",
    "Quant mode: ___  \n",
    "Notes: ___\n",
    "\"\"\"\n"
   ]
  },
  {
   "cell_type": "code",
   "execution_count": 46,
   "id": "554fd9ed",
   "metadata": {},
   "outputs": [],
   "source": [
    "# import data and subset to demo example\n",
    "findability_subset_df = pd.read_csv('findability-funk/anvil-manifest-3a7b7cb2-10be-5eb2-9c74-28f2662904ee.40bc3110-e5b2-5c64-92d2-99d0f02b28ed.tsv',sep='\\t')\n",
    "demo_df = findability_subset_df[~findability_subset_df['files.reference_assembly'].isna()].head(n=5)\n",
    "demo_df = demo_df[['files.reference_assembly', 'files.file_name', 'files.azul_file_url']]"
   ]
  },
  {
   "cell_type": "code",
   "execution_count": 47,
   "id": "5a9d42b2",
   "metadata": {},
   "outputs": [
    {
     "name": "stdout",
     "output_type": "stream",
     "text": [
      "⏳ Fetching: https://service.explore.anvilproject.org/repository/files/001ae10d-fbcd-4083-a332-9a0a706bf8c2?catalog=anvil9&version=2022-06-01T00%3A00%3A00.000000Z\n"
     ]
    },
    {
     "name": "stderr",
     "output_type": "stream",
     "text": [
      "<ipython-input-44-9fc294911232>:8: UserWarning: no BGZF EOF marker; file may be truncated\n",
      "  header = pysam.AlignmentFile(tmp_path, \"rb\", ignore_truncation=True, check_sq=False).header.to_dict()\n"
     ]
    },
    {
     "name": "stdout",
     "output_type": "stream",
     "text": [
      "001ae10d-fbcd-4083-a332-9a0a706bf8c2?catalog=anvil9&version=2022-06-01T00%3A00%3A00.000000Z → assembly tag: unknown\n",
      "📋 Parsed Metadata:\n",
      " Here is the cleaned-up summary:\n",
      "\n",
      "**Summary**\n",
      "\n",
      "* **Reference Genome**: hg38_gencode40\n",
      "* **Annotation Version**: gencode40\n",
      "* **Aligner**: STAR\n",
      "* **Quant Mode**: TranscriptomeSAM\n",
      "* **Notes**: STAR alignment with filter and quant mode set for transcriptome analysis. \n",
      "------------------------------------------------------------\n",
      "⏳ Fetching: https://service.explore.anvilproject.org/repository/files/005f272a-64f4-46ad-8203-ad2fad4a30ad?catalog=anvil9&version=2022-06-01T00%3A00%3A00.000000Z\n",
      "005f272a-64f4-46ad-8203-ad2fad4a30ad?catalog=anvil9&version=2022-06-01T00%3A00%3A00.000000Z → assembly tag: unknown\n",
      "📋 Parsed Metadata:\n",
      " Here is a cleaned-up summary of the provided information:\n",
      "\n",
      "**Summary**\n",
      "\n",
      "* Reference genome: hg38_gencode40\n",
      "* Annotation version: gencode40\n",
      "* Aligner: STAR\n",
      "* Quant mode: TranscriptomeSAM\n",
      "\n",
      "Note that I extracted the relevant information from the original data and presented it in a clean and concise format. Let me know if you'd like me to add or clarify anything! \n",
      "------------------------------------------------------------\n",
      "⏳ Fetching: https://service.explore.anvilproject.org/repository/files/01bf09cf-c4de-4759-a46b-387516c33bd5?catalog=anvil9&version=2022-06-01T00%3A00%3A00.000000Z\n",
      "01bf09cf-c4de-4759-a46b-387516c33bd5?catalog=anvil9&version=2022-06-01T00%3A00%3A00.000000Z → assembly tag: unknown\n",
      "📋 Parsed Metadata:\n",
      " Here is the cleaned-up summary:\n",
      "\n",
      "**Reference Genome:** hg38_gencode40\n",
      "**Annotation Version:** gencode40\n",
      "**Aligner:** STAR\n",
      "**Quant Mode:** TranscriptomeSAM\n",
      "**Notes:** The alignment process uses a genome directory, trimmer, and filter parameters to optimize performance. \n",
      "------------------------------------------------------------\n",
      "⏳ Fetching: https://service.explore.anvilproject.org/repository/files/01cfee0a-90af-4d05-8aab-f858161e1abd?catalog=anvil9&version=2022-06-01T00%3A00%3A00.000000Z\n",
      "01cfee0a-90af-4d05-8aab-f858161e1abd?catalog=anvil9&version=2022-06-01T00%3A00%3A00.000000Z → assembly tag: unknown\n",
      "📋 Parsed Metadata:\n",
      " Here is the cleaned-up summary:\n",
      "\n",
      "**Summary**\n",
      "\n",
      "* Reference genome: hg38\n",
      "* Annotation version: Gencode40\n",
      "* Aligner: STAR\n",
      "* Quant mode: TranscriptomeSAM\n",
      "* Notes: The STAR aligner was run with the `--runThreadN 16` option to utilize 16 threads, and the quant mode was set to TranscriptomeSAM. \n",
      "------------------------------------------------------------\n",
      "⏳ Fetching: https://service.explore.anvilproject.org/repository/files/026bb369-699f-4ca1-8668-4c0cc5ff693e?catalog=anvil9&version=2022-06-01T00%3A00%3A00.000000Z\n",
      "026bb369-699f-4ca1-8668-4c0cc5ff693e?catalog=anvil9&version=2022-06-01T00%3A00%3A00.000000Z → assembly tag: unknown\n",
      "📋 Parsed Metadata:\n",
      " Here is the cleaned-up summary:\n",
      "\n",
      "**Summary**\n",
      "\n",
      "* **Reference Genome:** hg38_gencode40\n",
      "* **Annotation Version:** 2.7.1a (phiX174 not included in this specific run)\n",
      "* **Aligner:** STAR\n",
      "* **Quant Mode:** TranscriptomeSAM\n",
      "* **Notes:** User command line provided for clarity, with additional options like `runThreadN`, `genomeLoad`, and `outFilterType`\n",
      "\n",
      "Let me know if you'd like me to add or modify anything! \n",
      "------------------------------------------------------------\n"
     ]
    }
   ],
   "source": [
    "\n",
    "for url in demo_df['files.azul_file_url'].tolist():\n",
    "    print(f\"⏳ Fetching: {url}\")\n",
    "    hdr = fetch_header(url)\n",
    "    asm = hdr.get('HD', {}).get('AS', 'unknown')\n",
    "\n",
    "    print(f\"{url.split('/')[-1]} → assembly tag: {asm}\")\n",
    "\n",
    "    prompt = ollama_parse_header_prompt(hdr)\n",
    "\n",
    "    response = ollama.chat(model=\"llama3.2\", messages=[\n",
    "        {\"role\": \"user\", \"content\": prompt}\n",
    "    ])\n",
    "    \n",
    "    print(\"📋 Parsed Metadata:\\n\", response['message']['content'], \"\\n\" + \"-\"*60)\n"
   ]
  }
 ],
 "metadata": {
  "kernelspec": {
   "display_name": "Python [conda env:.conda-metadisco]",
   "language": "python",
   "name": "conda-env-.conda-metadisco-py"
  },
  "language_info": {
   "codemirror_mode": {
    "name": "ipython",
    "version": 3
   },
   "file_extension": ".py",
   "mimetype": "text/x-python",
   "name": "python",
   "nbconvert_exporter": "python",
   "pygments_lexer": "ipython3",
   "version": "3.8.20"
  }
 },
 "nbformat": 4,
 "nbformat_minor": 5
}
