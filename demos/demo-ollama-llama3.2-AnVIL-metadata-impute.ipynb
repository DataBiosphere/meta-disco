{
 "cells": [
  {
   "cell_type": "code",
   "execution_count": 5,
   "id": "d612b805",
   "metadata": {},
   "outputs": [],
   "source": [
    "from ollama import chat\n",
    "from ollama import ChatResponse\n",
    "import json\n",
    "import pandas as pd"
   ]
  },
  {
   "cell_type": "code",
   "execution_count": 22,
   "id": "c118f82a",
   "metadata": {},
   "outputs": [
    {
     "name": "stdout",
     "output_type": "stream",
     "text": [
      "{\n",
      "  \"data_modality\": \"genomics\",\n",
      "  \"reference_genome\": \"GRCh38\",\n",
      "  \"technology_tag\": \"Illumina\"\n",
      "}\n",
      "{\n",
      "  \"data_modality\": \"genomics\",\n",
      "  \"reference_genome\": \"T2T-CHM13\",\n",
      "  \"technology_tag\": \"Illumina\"\n",
      "}\n",
      "{\n",
      "  \"data_modality\": \"genomics\",\n",
      "  \"reference_genome\": \"mm10\",\n",
      "  \"technology_tag\": \"PacBio\"\n",
      "}\n",
      "{\n",
      "  \"data_modality\": \"genomics\",\n",
      "  \"reference_genome\": \"GRCh38\",\n",
      "  \"technology_tag\": \"Nanopore\"\n",
      "}\n",
      "{\n",
      "  \"data_modality\": \"genomics\",\n",
      "  \"reference_genome\": \"T2T-CHM13\",\n",
      "  \"technology_tag\": \"PacBio\"\n",
      "}\n"
     ]
    }
   ],
   "source": [
    "findability_subset_df = pd.read_csv('findability-funk/anvil-manifest-3a7b7cb2-10be-5eb2-9c74-28f2662904ee.40bc3110-e5b2-5c64-92d2-99d0f02b28ed.tsv',sep='\\t')\n",
    "\n",
    "filenames = findability_subset_df[~findability_subset_df['files.reference_assembly'].isna()]['files.file_name'].tolist()[:5]\n",
    "# Format filenames into a prompt\n",
    "file_list_prompt = \"\\n\".join(f'- {name}' for name in filenames)\n",
    "\n",
    "prompt = f\"\"\"\n",
    "You are a metadata inference agent. You are given a list of filenames corresponding to genomic data files.\n",
    "\n",
    "Your job is to infer and output the following metadata per filename:\n",
    "1. Data modality (e.g., genomics, transcriptomics)\n",
    "2. Reference genome (e.g., GRCh38, T2T-CHM13, mm10)\n",
    "3. Technology tag (e.g., Illumina, PacBio, Nanopore)\n",
    "\n",
    "Respond ONLY in valid JSON array format. Do not return Python code, do not explain. No text, no markdown, no code blocks.\n",
    "\n",
    "Filenames:\n",
    "{file_list_prompt}\n",
    "\"\"\"\n",
    "\n",
    "# Call Ollama with parameters to match your original model\n",
    "response = chat(\n",
    "    model='llama3.2',\n",
    "    messages=[{\"role\": \"user\", \"content\": prompt}],\n",
    "    options={\n",
    "        \"temperature\": 0.3,\n",
    "        \"top_p\": 0.9,\n",
    "        \"num_ctx\": 4096\n",
    "    }\n",
    ")\n",
    "\n",
    "try:\n",
    "    metadata = json.loads(response['message']['content'])\n",
    "    for item in metadata:\n",
    "        print(json.dumps(item, indent=2))\n",
    "except json.JSONDecodeError as e:\n",
    "    print(\"Failed to parse JSON:\", e)\n",
    "    print(\"Raw response:\\n\", repr(response['message']['content']))"
   ]
  }
 ],
 "metadata": {
  "kernelspec": {
   "display_name": "meta-disco",
   "language": "python",
   "name": "myenv"
  },
  "language_info": {
   "codemirror_mode": {
    "name": "ipython",
    "version": 3
   },
   "file_extension": ".py",
   "mimetype": "text/x-python",
   "name": "python",
   "nbconvert_exporter": "python",
   "pygments_lexer": "ipython3",
   "version": "3.8.20"
  }
 },
 "nbformat": 4,
 "nbformat_minor": 5
}
