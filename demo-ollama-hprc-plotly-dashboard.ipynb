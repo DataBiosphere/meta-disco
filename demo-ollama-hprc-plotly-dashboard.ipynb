{
 "cells": [
  {
   "cell_type": "code",
   "execution_count": 8,
   "id": "f1f3aed0",
   "metadata": {},
   "outputs": [],
   "source": [
    "import plotly.express as px\n",
    "import json\n",
    "import pandas as pd\n",
    "import plotly.express as px\n",
    "from ollama import chat\n",
    "from ollama import ChatResponse"
   ]
  },
  {
   "cell_type": "code",
   "execution_count": 2,
   "id": "6f7600ea",
   "metadata": {},
   "outputs": [],
   "source": [
    "hprc_r2_df = pd.read_csv('findability-funk/hprc_release2_sample_metadata.csv',encoding='latin-1')\n",
    "ont_r2_df = pd.read_csv('findability-funk/data_ont_pre_release.index.csv')\n",
    "ont_r2_df.rename(columns={\n",
    "    'sample_ID':'sample_id'\n",
    "}, inplace=True)\n",
    "\n",
    "hprc_ont_r2_df = pd.merge(hprc_r2_df,\n",
    "                          ont_r2_df, \n",
    "                          on='sample_id', \n",
    "                          how='right')"
   ]
  },
  {
   "cell_type": "code",
   "execution_count": 3,
   "id": "b5e488f3",
   "metadata": {},
   "outputs": [],
   "source": [
    "df = hprc_ont_r2_df[['sample_id', 'population_abbreviation', 'read_N50', 'total_Gbp', 'coverage',\n",
    "         '100kb+', '200kb+', '300kb+', '400kb+', '500kb+', '1Mb+']]\n",
    "df = df.dropna()"
   ]
  },
  {
   "cell_type": "code",
   "execution_count": 15,
   "id": "80b8326d",
   "metadata": {},
   "outputs": [
    {
     "name": "stdout",
     "output_type": "stream",
     "text": [
      "import plotly.express as px\n",
      "import pandas as pd\n",
      "\n",
      "fig = px.box(df, x='population_abbreviation', y='coverage', points=\"all\", color='population_abbreviation',\n",
      "              hover_data=['sample_id'], template='plotly_dark')\n",
      "\n",
      "fig.update_traces(hoverinfo='none')\n",
      "\n",
      "fig.update_layout(\n",
      "    title='Coverage Distribution by Population',\n",
      "    xaxis_title='Population',\n",
      "    yaxis_title='Coverage (x)'\n",
      ")\n",
      "\n",
      "fig.show()\n",
      "\n",
      "fig.write_html('demo-ollama-hprc-r2-plotly-dashboard.html')\n"
     ]
    }
   ],
   "source": [
    "prompt_1 = f\"\"\"\n",
    "You are a Python data visualization assistant.\n",
    "\n",
    "A pandas DataFrame called `df` already exists and contains the following columns:\n",
    "- 'sample_id'\n",
    "- 'population_abbreviation'\n",
    "- 'coverage'\n",
    "\n",
    "Do not redefine or create the DataFrame.\n",
    "\n",
    "Write Python code that:\n",
    "- Uses Plotly Express (`px.box`) to create a box plot\n",
    "- Sets `x='population_abbreviation'` and `y='coverage'`\n",
    "- Sets `points=\"all\"` to display all sample points\n",
    "- Colors by `'population_abbreviation'`\n",
    "- Includes `'sample_id'` in `hover_data`\n",
    "- Uses the `'plotly_dark'` template\n",
    "- Updates the layout with:\n",
    "  - Title: \"Coverage Distribution by Population\"\n",
    "  - X-axis label: \"Population\"\n",
    "  - Y-axis label: \"Coverage (x)\"\n",
    "- Removes the legend by setting `hoverinfo='none'` in `fig.update_traces()`\n",
    "- Ends with `fig.show()`\n",
    "\n",
    "Respond ONLY with the Python code. Do not redefine `df`. No markdown or explanations.\n",
    "\"\"\"\n",
    "\n",
    "prompt = prompt = f\"\"\"\n",
    "You are a Python data visualization assistant.\n",
    "\n",
    "A pandas DataFrame called `df` already exists and contains the following columns:\n",
    "- 'sample_id'\n",
    "- 'population_abbreviation'\n",
    "- 'coverage'\n",
    "\n",
    "Do not redefine or create the DataFrame.\n",
    "\n",
    "Write Python code that:\n",
    "- Uses Plotly Express (`px.box`) to create a box plot\n",
    "- Sets `x='population_abbreviation'` and `y='coverage'`\n",
    "- Sets `points=\"all\"` to display all sample points\n",
    "- Colors by `'population_abbreviation'`\n",
    "- Includes `'sample_id'` in `hover_data`\n",
    "- Uses the `'plotly_dark'` template\n",
    "- Updates the layout with:\n",
    "  - Title: \"Coverage Distribution by Population\"\n",
    "  - X-axis label: \"Population\"\n",
    "  - Y-axis label: \"Coverage (x)\"\n",
    "- Removes the legend by setting `hoverinfo='none'` in `fig.update_traces()`\n",
    "- Exports the figure to an HTML file using `fig.write_html('demo-ollama-hprc-r2-plotly-dashboard.html')`\n",
    "- Ends with `fig.show()`\n",
    "- **Do NOT import `write_html` or use `plotly.offline`**\n",
    "\n",
    "Respond ONLY with the valid Python code. No markdown or explanations.\n",
    "\"\"\"\n",
    "\n",
    "# Send to Ollama\n",
    "response = chat(\n",
    "    model='llama3.2',\n",
    "    messages=[{\"role\": \"user\", \"content\": prompt}],\n",
    "    options={\n",
    "        \"temperature\": 0.3,\n",
    "        \"top_p\": 0.9,\n",
    "        \"num_ctx\": 4096\n",
    "    }\n",
    ")\n",
    "\n",
    "# Print output\n",
    "print(response['message']['content'])\n"
   ]
  },
  {
   "cell_type": "code",
   "execution_count": 16,
   "id": "dc26dd17",
   "metadata": {},
   "outputs": [
    {
     "data": {
      "application/vnd.plotly.v1+json": {
       "config": {
        "plotlyServerURL": "https://plot.ly"
       },
       "data": [
        {
         "alignmentgroup": "True",
         "boxpoints": "all",
         "customdata": [
          [
           "HG00621"
          ],
          [
           "HG00621"
          ],
          [
           "HG00673"
          ],
          [
           "HG00673"
          ],
          [
           "HG00438"
          ],
          [
           "HG00438"
          ],
          [
           "HG00438"
          ],
          [
           "HG00438"
          ],
          [
           "HG00438"
          ],
          [
           "HG00438"
          ],
          [
           "HG00438"
          ],
          [
           "HG00438"
          ],
          [
           "HG00438"
          ],
          [
           "HG00438"
          ],
          [
           "HG00621"
          ],
          [
           "HG00621"
          ],
          [
           "HG00621"
          ],
          [
           "HG00673"
          ],
          [
           "HG00673"
          ],
          [
           "HG00673"
          ],
          [
           "HG00408"
          ],
          [
           "HG00408"
          ],
          [
           "HG00408"
          ],
          [
           "HG00558"
          ],
          [
           "HG00558"
          ],
          [
           "HG00558"
          ],
          [
           "HG00597"
          ],
          [
           "HG00597"
          ],
          [
           "HG00597"
          ],
          [
           "HG00597"
          ],
          [
           "HG00658"
          ],
          [
           "HG00658"
          ],
          [
           "HG00658"
          ],
          [
           "HG00423"
          ],
          [
           "HG00423"
          ],
          [
           "HG00706"
          ],
          [
           "HG00706"
          ],
          [
           "HG00706"
          ],
          [
           "HG00423"
          ],
          [
           "HG00544"
          ],
          [
           "HG00544"
          ],
          [
           "HG00544"
          ],
          [
           "HG00609"
          ],
          [
           "HG00609"
          ],
          [
           "HG00609"
          ]
         ],
         "hoverinfo": "none",
         "hovertemplate": "population_abbreviation=%{x}<br>coverage=%{y}<br>sample_id=%{customdata[0]}<extra></extra>",
         "legendgroup": "CHS",
         "marker": {
          "color": "#636efa"
         },
         "name": "CHS",
         "notched": false,
         "offsetgroup": "CHS",
         "orientation": "v",
         "showlegend": true,
         "type": "box",
         "x": [
          "CHS",
          "CHS",
          "CHS",
          "CHS",
          "CHS",
          "CHS",
          "CHS",
          "CHS",
          "CHS",
          "CHS",
          "CHS",
          "CHS",
          "CHS",
          "CHS",
          "CHS",
          "CHS",
          "CHS",
          "CHS",
          "CHS",
          "CHS",
          "CHS",
          "CHS",
          "CHS",
          "CHS",
          "CHS",
          "CHS",
          "CHS",
          "CHS",
          "CHS",
          "CHS",
          "CHS",
          "CHS",
          "CHS",
          "CHS",
          "CHS",
          "CHS",
          "CHS",
          "CHS",
          "CHS",
          "CHS",
          "CHS",
          "CHS",
          "CHS",
          "CHS",
          "CHS"
         ],
         "x0": " ",
         "xaxis": "x",
         "y": [
          20.57,
          18.99,
          17.46,
          15.78,
          11.58,
          10.73,
          12.37,
          13.42,
          8.81,
          16.42,
          12.12,
          12.5,
          19.3,
          19.4,
          13.75,
          5.59,
          7.33,
          9.64,
          10.33,
          8.68,
          34.2,
          12.32,
          25.17,
          19.44,
          15.29,
          19.7,
          35.47,
          36.3,
          4.3,
          7.23,
          20.87,
          26.29,
          21.09,
          21.03,
          18.61,
          22.45,
          27.23,
          22.53,
          20.8,
          23.9,
          21.4,
          23.17,
          28.25,
          32.14,
          28.76
         ],
         "y0": " ",
         "yaxis": "y"
        },
        {
         "alignmentgroup": "True",
         "boxpoints": "all",
         "customdata": [
          [
           "HG01952"
          ],
          [
           "HG01952"
          ],
          [
           "HG02148"
          ],
          [
           "HG02148"
          ],
          [
           "HG01928"
          ],
          [
           "HG01928"
          ],
          [
           "HG01928"
          ],
          [
           "HG01928"
          ],
          [
           "HG01928"
          ],
          [
           "HG01928"
          ],
          [
           "HG01928"
          ],
          [
           "HG01928"
          ],
          [
           "HG01928"
          ],
          [
           "HG01952"
          ],
          [
           "HG01952"
          ],
          [
           "HG01952"
          ],
          [
           "HG01978"
          ],
          [
           "HG01978"
          ],
          [
           "HG01978"
          ],
          [
           "HG01978"
          ],
          [
           "HG01978"
          ],
          [
           "HG01978"
          ],
          [
           "HG01978"
          ],
          [
           "HG01978"
          ],
          [
           "HG01978"
          ],
          [
           "HG02148"
          ],
          [
           "HG02148"
          ],
          [
           "HG02148"
          ],
          [
           "HG01975"
          ],
          [
           "HG01975"
          ],
          [
           "HG01975"
          ],
          [
           "HG02273"
          ],
          [
           "HG02273"
          ],
          [
           "HG02273"
          ],
          [
           "HG01940"
          ],
          [
           "HG01940"
          ],
          [
           "HG01940"
          ],
          [
           "HG01969"
          ],
          [
           "HG01969"
          ],
          [
           "HG01969"
          ],
          [
           "HG01934"
          ],
          [
           "HG01934"
          ],
          [
           "HG01934"
          ],
          [
           "HG01934"
          ],
          [
           "HG01943"
          ],
          [
           "HG01943"
          ],
          [
           "HG01943"
          ],
          [
           "HG01981"
          ],
          [
           "HG01981"
          ],
          [
           "HG01981"
          ],
          [
           "HG01993"
          ],
          [
           "HG01993"
          ],
          [
           "HG01993"
          ],
          [
           "HG02004"
          ],
          [
           "HG02004"
          ],
          [
           "HG02004"
          ],
          [
           "HG02293"
          ],
          [
           "HG02293"
          ],
          [
           "HG02293"
          ],
          [
           "HG02300"
          ],
          [
           "HG02300"
          ],
          [
           "HG02300"
          ]
         ],
         "hoverinfo": "none",
         "hovertemplate": "population_abbreviation=%{x}<br>coverage=%{y}<br>sample_id=%{customdata[0]}<extra></extra>",
         "legendgroup": "PEL",
         "marker": {
          "color": "#EF553B"
         },
         "name": "PEL",
         "notched": false,
         "offsetgroup": "PEL",
         "orientation": "v",
         "showlegend": true,
         "type": "box",
         "x": [
          "PEL",
          "PEL",
          "PEL",
          "PEL",
          "PEL",
          "PEL",
          "PEL",
          "PEL",
          "PEL",
          "PEL",
          "PEL",
          "PEL",
          "PEL",
          "PEL",
          "PEL",
          "PEL",
          "PEL",
          "PEL",
          "PEL",
          "PEL",
          "PEL",
          "PEL",
          "PEL",
          "PEL",
          "PEL",
          "PEL",
          "PEL",
          "PEL",
          "PEL",
          "PEL",
          "PEL",
          "PEL",
          "PEL",
          "PEL",
          "PEL",
          "PEL",
          "PEL",
          "PEL",
          "PEL",
          "PEL",
          "PEL",
          "PEL",
          "PEL",
          "PEL",
          "PEL",
          "PEL",
          "PEL",
          "PEL",
          "PEL",
          "PEL",
          "PEL",
          "PEL",
          "PEL",
          "PEL",
          "PEL",
          "PEL",
          "PEL",
          "PEL",
          "PEL",
          "PEL",
          "PEL",
          "PEL"
         ],
         "x0": " ",
         "xaxis": "x",
         "y": [
          24.65,
          24.03,
          21.02,
          26.33,
          2.03,
          4.82,
          9.83,
          15.72,
          14.6,
          13.39,
          16.55,
          15.09,
          12.18,
          9.23,
          3.58,
          11.37,
          5.12,
          14.47,
          11.79,
          14.77,
          8.84,
          12.67,
          12.27,
          10.67,
          18.42,
          6.02,
          4.93,
          4.33,
          33.07,
          22.43,
          22.93,
          20.93,
          25.46,
          21.61,
          27.88,
          25.97,
          21.6,
          13.87,
          27.65,
          18.7,
          26.3,
          2.75,
          27.69,
          18.86,
          27.02,
          15.07,
          20.55,
          17.09,
          24.49,
          20.99,
          24.6,
          35.76,
          34.76,
          35.45,
          31.24,
          17.74,
          28.51,
          30.04,
          33.18,
          17.64,
          25.98,
          19.23
         ],
         "y0": " ",
         "yaxis": "y"
        },
        {
         "alignmentgroup": "True",
         "boxpoints": "all",
         "customdata": [
          [
           "HG02572"
          ],
          [
           "HG02572"
          ],
          [
           "HG02622"
          ],
          [
           "HG02622"
          ],
          [
           "HG03540"
          ],
          [
           "HG03540"
          ],
          [
           "HG02630"
          ],
          [
           "HG02630"
          ],
          [
           "HG02886"
          ],
          [
           "HG02886"
          ],
          [
           "HG02572"
          ],
          [
           "HG02572"
          ],
          [
           "HG02572"
          ],
          [
           "HG02622"
          ],
          [
           "HG02622"
          ],
          [
           "HG02622"
          ],
          [
           "HG02630"
          ],
          [
           "HG02630"
          ],
          [
           "HG02630"
          ],
          [
           "HG02717"
          ],
          [
           "HG02717"
          ],
          [
           "HG02717"
          ],
          [
           "HG02717"
          ],
          [
           "HG02717"
          ],
          [
           "HG02717"
          ],
          [
           "HG02717"
          ],
          [
           "HG02717"
          ],
          [
           "HG02717"
          ],
          [
           "HG02886"
          ],
          [
           "HG02886"
          ],
          [
           "HG02886"
          ],
          [
           "HG03540"
          ],
          [
           "HG03540"
          ],
          [
           "HG03540"
          ],
          [
           "HG02583"
          ],
          [
           "HG02583"
          ],
          [
           "HG02583"
          ],
          [
           "HG02583"
          ],
          [
           "HG02583"
          ],
          [
           "HG02583"
          ],
          [
           "HG03041"
          ],
          [
           "HG03041"
          ],
          [
           "HG03041"
          ],
          [
           "HG02841"
          ],
          [
           "HG02841"
          ],
          [
           "HG02841"
          ],
          [
           "HG02984"
          ],
          [
           "HG02984"
          ],
          [
           "HG02984"
          ],
          [
           "HG02984"
          ],
          [
           "HG03050"
          ],
          [
           "HG03050"
          ],
          [
           "HG03050"
          ],
          [
           "HG02809"
          ],
          [
           "HG02809"
          ],
          [
           "HG02809"
          ],
          [
           "HG02615"
          ],
          [
           "HG02615"
          ],
          [
           "HG02615"
          ],
          [
           "HG02647"
          ],
          [
           "HG02647"
          ],
          [
           "HG02647"
          ],
          [
           "HG02647"
          ],
          [
           "HG02668"
          ],
          [
           "HG02668"
          ],
          [
           "HG02668"
          ],
          [
           "HG02818"
          ],
          [
           "HG02818"
          ],
          [
           "HG02818"
          ],
          [
           "HG02723"
          ],
          [
           "HG02723"
          ],
          [
           "HG02723"
          ],
          [
           "HG02723"
          ],
          [
           "HG02723"
          ],
          [
           "HG02723"
          ],
          [
           "HG02723"
          ],
          [
           "HG02723"
          ]
         ],
         "hoverinfo": "none",
         "hovertemplate": "population_abbreviation=%{x}<br>coverage=%{y}<br>sample_id=%{customdata[0]}<extra></extra>",
         "legendgroup": "GWD",
         "marker": {
          "color": "#00cc96"
         },
         "name": "GWD",
         "notched": false,
         "offsetgroup": "GWD",
         "orientation": "v",
         "showlegend": true,
         "type": "box",
         "x": [
          "GWD",
          "GWD",
          "GWD",
          "GWD",
          "GWD",
          "GWD",
          "GWD",
          "GWD",
          "GWD",
          "GWD",
          "GWD",
          "GWD",
          "GWD",
          "GWD",
          "GWD",
          "GWD",
          "GWD",
          "GWD",
          "GWD",
          "GWD",
          "GWD",
          "GWD",
          "GWD",
          "GWD",
          "GWD",
          "GWD",
          "GWD",
          "GWD",
          "GWD",
          "GWD",
          "GWD",
          "GWD",
          "GWD",
          "GWD",
          "GWD",
          "GWD",
          "GWD",
          "GWD",
          "GWD",
          "GWD",
          "GWD",
          "GWD",
          "GWD",
          "GWD",
          "GWD",
          "GWD",
          "GWD",
          "GWD",
          "GWD",
          "GWD",
          "GWD",
          "GWD",
          "GWD",
          "GWD",
          "GWD",
          "GWD",
          "GWD",
          "GWD",
          "GWD",
          "GWD",
          "GWD",
          "GWD",
          "GWD",
          "GWD",
          "GWD",
          "GWD",
          "GWD",
          "GWD",
          "GWD",
          "GWD",
          "GWD",
          "GWD",
          "GWD",
          "GWD",
          "GWD",
          "GWD",
          "GWD"
         ],
         "x0": " ",
         "xaxis": "x",
         "y": [
          20.7,
          30.13,
          23.6,
          26.24,
          19.56,
          28.57,
          24.68,
          34.99,
          20.24,
          16.83,
          4.22,
          5.87,
          3,
          4.1,
          4.6,
          3.06,
          1.04,
          5.88,
          9.54,
          2.37,
          9.09,
          10.89,
          11.04,
          16.69,
          15.91,
          15.01,
          13.8,
          12.8,
          9.84,
          10.72,
          6.44,
          6.77,
          11.83,
          2.71,
          0.55,
          26.39,
          0.3,
          25.26,
          0.33,
          26.61,
          20.27,
          21.83,
          17.31,
          19.14,
          13.88,
          26.51,
          30.86,
          23.24,
          10.6,
          6.65,
          23.24,
          15.72,
          21.59,
          14.81,
          22.52,
          25.53,
          27.9,
          29.54,
          11.35,
          10.77,
          17.51,
          19.22,
          3.5,
          16.56,
          21.05,
          16.41,
          18.16,
          18.45,
          29.14,
          21.24,
          15.05,
          19.11,
          27.85,
          30.8,
          26.22,
          21.57,
          13.4
         ],
         "y0": " ",
         "yaxis": "y"
        },
        {
         "alignmentgroup": "True",
         "boxpoints": "all",
         "customdata": [
          [
           "HG03453"
          ],
          [
           "HG03453"
          ],
          [
           "HG03471"
          ],
          [
           "HG03471"
          ],
          [
           "HG03453"
          ],
          [
           "HG03453"
          ],
          [
           "HG03453"
          ],
          [
           "HG03471"
          ],
          [
           "HG03471"
          ],
          [
           "HG03471"
          ],
          [
           "HG03579"
          ],
          [
           "HG03579"
          ],
          [
           "HG03579"
          ],
          [
           "HG03579"
          ],
          [
           "HG03579"
          ],
          [
           "HG03579"
          ],
          [
           "HG03579"
          ],
          [
           "HG03579"
          ],
          [
           "HG03579"
          ],
          [
           "HG03583"
          ],
          [
           "HG03583"
          ],
          [
           "HG03583"
          ],
          [
           "HG03209"
          ],
          [
           "HG03209"
          ],
          [
           "HG03209"
          ],
          [
           "HG03225"
          ],
          [
           "HG03225"
          ],
          [
           "HG03225"
          ],
          [
           "HG03470"
          ],
          [
           "HG03470"
          ],
          [
           "HG03470"
          ],
          [
           "HG03098"
          ],
          [
           "HG03098"
          ],
          [
           "HG03098"
          ],
          [
           "HG03098"
          ],
          [
           "HG03098"
          ],
          [
           "HG03098"
          ],
          [
           "HG03486"
          ],
          [
           "HG03486"
          ],
          [
           "HG03486"
          ],
          [
           "HG03098"
          ],
          [
           "HG03098"
          ],
          [
           "HG03098"
          ]
         ],
         "hoverinfo": "none",
         "hovertemplate": "population_abbreviation=%{x}<br>coverage=%{y}<br>sample_id=%{customdata[0]}<extra></extra>",
         "legendgroup": "MSL",
         "marker": {
          "color": "#ab63fa"
         },
         "name": "MSL",
         "notched": false,
         "offsetgroup": "MSL",
         "orientation": "v",
         "showlegend": true,
         "type": "box",
         "x": [
          "MSL",
          "MSL",
          "MSL",
          "MSL",
          "MSL",
          "MSL",
          "MSL",
          "MSL",
          "MSL",
          "MSL",
          "MSL",
          "MSL",
          "MSL",
          "MSL",
          "MSL",
          "MSL",
          "MSL",
          "MSL",
          "MSL",
          "MSL",
          "MSL",
          "MSL",
          "MSL",
          "MSL",
          "MSL",
          "MSL",
          "MSL",
          "MSL",
          "MSL",
          "MSL",
          "MSL",
          "MSL",
          "MSL",
          "MSL",
          "MSL",
          "MSL",
          "MSL",
          "MSL",
          "MSL",
          "MSL",
          "MSL",
          "MSL",
          "MSL"
         ],
         "x0": " ",
         "xaxis": "x",
         "y": [
          30.59,
          22.17,
          23.64,
          24.79,
          3.24,
          4.64,
          0.87,
          9.01,
          6.96,
          8.92,
          5.51,
          4.3,
          2.78,
          10.72,
          12.87,
          10.78,
          16.91,
          18.73,
          12.73,
          15.67,
          14.73,
          12.73,
          30.66,
          12.31,
          27.97,
          22.12,
          23.85,
          19.08,
          24.24,
          20.14,
          22.56,
          22.08,
          28,
          16.56,
          20.73,
          8.64,
          19.29,
          15.55,
          16.5,
          18.53,
          19.62,
          9.65,
          13
         ],
         "y0": " ",
         "yaxis": "y"
        },
        {
         "alignmentgroup": "True",
         "boxpoints": "all",
         "customdata": [
          [
           "HG00735"
          ],
          [
           "HG00735"
          ],
          [
           "HG00735"
          ],
          [
           "HG00741"
          ],
          [
           "HG00741"
          ],
          [
           "HG01106"
          ],
          [
           "HG01106"
          ],
          [
           "HG01175"
          ],
          [
           "HG01175"
          ],
          [
           "HG00735"
          ],
          [
           "HG00735"
          ],
          [
           "HG00735"
          ],
          [
           "HG00741"
          ],
          [
           "HG00741"
          ],
          [
           "HG00741"
          ],
          [
           "HG01071"
          ],
          [
           "HG01071"
          ],
          [
           "HG01071"
          ],
          [
           "HG01071"
          ],
          [
           "HG01071"
          ],
          [
           "HG01071"
          ],
          [
           "HG01071"
          ],
          [
           "HG01071"
          ],
          [
           "HG01071"
          ],
          [
           "HG01106"
          ],
          [
           "HG01106"
          ],
          [
           "HG01106"
          ],
          [
           "HG01175"
          ],
          [
           "HG01175"
          ],
          [
           "HG01175"
          ],
          [
           "HG01167"
          ],
          [
           "HG01167"
          ],
          [
           "HG01167"
          ],
          [
           "HG00639"
          ],
          [
           "HG00639"
          ],
          [
           "HG00639"
          ],
          [
           "HG01074"
          ],
          [
           "HG01074"
          ],
          [
           "HG01074"
          ],
          [
           "HG01081"
          ],
          [
           "HG01081"
          ],
          [
           "HG01081"
          ],
          [
           "HG01081"
          ],
          [
           "HG01192"
          ],
          [
           "HG01192"
          ],
          [
           "HG01192"
          ],
          [
           "HG00642"
          ],
          [
           "HG00642"
          ],
          [
           "HG00738"
          ],
          [
           "HG00738"
          ],
          [
           "HG00738"
          ],
          [
           "HG01099"
          ],
          [
           "HG01099"
          ],
          [
           "HG01099"
          ],
          [
           "HG00642"
          ],
          [
           "HG01109"
          ],
          [
           "HG01109"
          ],
          [
           "HG01109"
          ],
          [
           "HG01109"
          ],
          [
           "HG01109"
          ],
          [
           "HG01109"
          ],
          [
           "HG01109"
          ],
          [
           "HG01109"
          ],
          [
           "HG01109"
          ],
          [
           "HG01243"
          ],
          [
           "HG01243"
          ],
          [
           "HG01243"
          ],
          [
           "HG00733"
          ],
          [
           "HG00733"
          ],
          [
           "HG00733"
          ]
         ],
         "hoverinfo": "none",
         "hovertemplate": "population_abbreviation=%{x}<br>coverage=%{y}<br>sample_id=%{customdata[0]}<extra></extra>",
         "legendgroup": "PUR",
         "marker": {
          "color": "#FFA15A"
         },
         "name": "PUR",
         "notched": false,
         "offsetgroup": "PUR",
         "orientation": "v",
         "showlegend": true,
         "type": "box",
         "x": [
          "PUR",
          "PUR",
          "PUR",
          "PUR",
          "PUR",
          "PUR",
          "PUR",
          "PUR",
          "PUR",
          "PUR",
          "PUR",
          "PUR",
          "PUR",
          "PUR",
          "PUR",
          "PUR",
          "PUR",
          "PUR",
          "PUR",
          "PUR",
          "PUR",
          "PUR",
          "PUR",
          "PUR",
          "PUR",
          "PUR",
          "PUR",
          "PUR",
          "PUR",
          "PUR",
          "PUR",
          "PUR",
          "PUR",
          "PUR",
          "PUR",
          "PUR",
          "PUR",
          "PUR",
          "PUR",
          "PUR",
          "PUR",
          "PUR",
          "PUR",
          "PUR",
          "PUR",
          "PUR",
          "PUR",
          "PUR",
          "PUR",
          "PUR",
          "PUR",
          "PUR",
          "PUR",
          "PUR",
          "PUR",
          "PUR",
          "PUR",
          "PUR",
          "PUR",
          "PUR",
          "PUR",
          "PUR",
          "PUR",
          "PUR",
          "PUR",
          "PUR",
          "PUR",
          "PUR",
          "PUR",
          "PUR"
         ],
         "x0": " ",
         "xaxis": "x",
         "y": [
          20.58,
          13.91,
          5.29,
          21.22,
          22.77,
          21.29,
          17.67,
          20.25,
          19.27,
          7.36,
          10.58,
          8.62,
          12.59,
          13.8,
          11.28,
          8.74,
          12.7,
          11.66,
          19.21,
          18.73,
          16.17,
          20.02,
          12.19,
          14.07,
          8.12,
          13.01,
          10.79,
          12.55,
          13.49,
          10.49,
          23.13,
          20.12,
          23.42,
          30.82,
          29.42,
          25.53,
          25.76,
          27.95,
          23.5,
          13.51,
          28.32,
          28.68,
          30.17,
          19.78,
          13.78,
          16.31,
          20.8,
          27.68,
          27.9,
          23.78,
          26.69,
          24.09,
          25.55,
          19.9,
          18.35,
          14.84,
          13.2,
          20.63,
          17.17,
          17.05,
          18.44,
          18.39,
          19.64,
          17.74,
          17.89,
          19.63,
          11.04,
          14.81,
          22.24,
          21.35
         ],
         "y0": " ",
         "yaxis": "y"
        },
        {
         "alignmentgroup": "True",
         "boxpoints": "all",
         "customdata": [
          [
           "HG01123"
          ],
          [
           "HG01123"
          ],
          [
           "HG01258"
          ],
          [
           "HG01258"
          ],
          [
           "HG01358"
          ],
          [
           "HG01358"
          ],
          [
           "HG01361"
          ],
          [
           "HG01361"
          ],
          [
           "HG01123"
          ],
          [
           "HG01123"
          ],
          [
           "HG01123"
          ],
          [
           "HG01258"
          ],
          [
           "HG01258"
          ],
          [
           "HG01258"
          ],
          [
           "HG01358"
          ],
          [
           "HG01358"
          ],
          [
           "HG01358"
          ],
          [
           "HG01361"
          ],
          [
           "HG01361"
          ],
          [
           "HG01361"
          ],
          [
           "HG01361"
          ],
          [
           "HG01361"
          ],
          [
           "HG01361"
          ],
          [
           "HG01361"
          ],
          [
           "HG01361"
          ],
          [
           "HG01361"
          ],
          [
           "HG01261"
          ],
          [
           "HG01261"
          ],
          [
           "HG01261"
          ],
          [
           "HG01252"
          ],
          [
           "HG01252"
          ],
          [
           "HG01252"
          ],
          [
           "HG01150"
          ],
          [
           "HG01150"
          ],
          [
           "HG01150"
          ],
          [
           "HG01255"
          ],
          [
           "HG01255"
          ],
          [
           "HG01255"
          ],
          [
           "HG01346"
          ],
          [
           "HG01346"
          ],
          [
           "HG01346"
          ],
          [
           "HG01433"
          ],
          [
           "HG01433"
          ],
          [
           "HG01433"
          ],
          [
           "HG01496"
          ],
          [
           "HG01496"
          ],
          [
           "HG01496"
          ]
         ],
         "hoverinfo": "none",
         "hovertemplate": "population_abbreviation=%{x}<br>coverage=%{y}<br>sample_id=%{customdata[0]}<extra></extra>",
         "legendgroup": "CLM",
         "marker": {
          "color": "#19d3f3"
         },
         "name": "CLM",
         "notched": false,
         "offsetgroup": "CLM",
         "orientation": "v",
         "showlegend": true,
         "type": "box",
         "x": [
          "CLM",
          "CLM",
          "CLM",
          "CLM",
          "CLM",
          "CLM",
          "CLM",
          "CLM",
          "CLM",
          "CLM",
          "CLM",
          "CLM",
          "CLM",
          "CLM",
          "CLM",
          "CLM",
          "CLM",
          "CLM",
          "CLM",
          "CLM",
          "CLM",
          "CLM",
          "CLM",
          "CLM",
          "CLM",
          "CLM",
          "CLM",
          "CLM",
          "CLM",
          "CLM",
          "CLM",
          "CLM",
          "CLM",
          "CLM",
          "CLM",
          "CLM",
          "CLM",
          "CLM",
          "CLM",
          "CLM",
          "CLM",
          "CLM",
          "CLM",
          "CLM",
          "CLM",
          "CLM",
          "CLM"
         ],
         "x0": " ",
         "xaxis": "x",
         "y": [
          20.14,
          17.71,
          17.62,
          16.31,
          15.58,
          19.04,
          19.22,
          19.49,
          7.49,
          7.16,
          7.35,
          5.46,
          5.06,
          4.99,
          2.54,
          8.76,
          2.28,
          12.67,
          9.34,
          3.13,
          23.83,
          8.05,
          8.75,
          14.21,
          9.25,
          12.52,
          17.26,
          25.85,
          23.28,
          14.1,
          15.07,
          18.36,
          29.48,
          27.99,
          26.75,
          18.71,
          26.75,
          32.19,
          14.92,
          30.15,
          27.58,
          31.67,
          24.79,
          24.54,
          33.69,
          29.57,
          17.85
         ],
         "y0": " ",
         "yaxis": "y"
        },
        {
         "alignmentgroup": "True",
         "boxpoints": "all",
         "customdata": [
          [
           "HG01891"
          ],
          [
           "HG01891"
          ],
          [
           "HG02257"
          ],
          [
           "HG02257"
          ],
          [
           "HG02486"
          ],
          [
           "HG02486"
          ],
          [
           "HG02559"
          ],
          [
           "HG02559"
          ],
          [
           "HG01891"
          ],
          [
           "HG01891"
          ],
          [
           "HG01891"
          ],
          [
           "HG02257"
          ],
          [
           "HG02257"
          ],
          [
           "HG02257"
          ],
          [
           "HG02486"
          ],
          [
           "HG02486"
          ],
          [
           "HG02486"
          ],
          [
           "HG02559"
          ],
          [
           "HG02559"
          ],
          [
           "HG02559"
          ],
          [
           "HG02559"
          ],
          [
           "HG02258"
          ],
          [
           "HG02258"
          ],
          [
           "HG02258"
          ],
          [
           "HG02258"
          ],
          [
           "HG01960"
          ],
          [
           "HG01960"
          ],
          [
           "HG01960"
          ],
          [
           "HG01960"
          ],
          [
           "HG01884"
          ],
          [
           "HG01884"
          ],
          [
           "HG01884"
          ],
          [
           "HG02280"
          ],
          [
           "HG02280"
          ],
          [
           "HG02280"
          ],
          [
           "HG02451"
          ],
          [
           "HG02451"
          ],
          [
           "HG02451"
          ],
          [
           "HG02145"
          ],
          [
           "HG02145"
          ],
          [
           "HG02145"
          ],
          [
           "HG02145"
          ],
          [
           "HG02145"
          ],
          [
           "HG02145"
          ],
          [
           "HG02055"
          ],
          [
           "HG02055"
          ],
          [
           "HG02055"
          ],
          [
           "HG02055"
          ],
          [
           "HG02055"
          ],
          [
           "HG02055"
          ],
          [
           "HG02055"
          ],
          [
           "HG02055"
          ],
          [
           "HG02055"
          ],
          [
           "HG02109"
          ],
          [
           "HG02109"
          ],
          [
           "HG02109"
          ],
          [
           "HG02109"
          ],
          [
           "HG02109"
          ],
          [
           "HG02109"
          ],
          [
           "HG02109"
          ],
          [
           "HG02109"
          ],
          [
           "HG02109"
          ],
          [
           "HG02109"
          ],
          [
           "HG02055"
          ],
          [
           "HG02055"
          ],
          [
           "HG02055"
          ]
         ],
         "hoverinfo": "none",
         "hovertemplate": "population_abbreviation=%{x}<br>coverage=%{y}<br>sample_id=%{customdata[0]}<extra></extra>",
         "legendgroup": "ACB",
         "marker": {
          "color": "#FF6692"
         },
         "name": "ACB",
         "notched": false,
         "offsetgroup": "ACB",
         "orientation": "v",
         "showlegend": true,
         "type": "box",
         "x": [
          "ACB",
          "ACB",
          "ACB",
          "ACB",
          "ACB",
          "ACB",
          "ACB",
          "ACB",
          "ACB",
          "ACB",
          "ACB",
          "ACB",
          "ACB",
          "ACB",
          "ACB",
          "ACB",
          "ACB",
          "ACB",
          "ACB",
          "ACB",
          "ACB",
          "ACB",
          "ACB",
          "ACB",
          "ACB",
          "ACB",
          "ACB",
          "ACB",
          "ACB",
          "ACB",
          "ACB",
          "ACB",
          "ACB",
          "ACB",
          "ACB",
          "ACB",
          "ACB",
          "ACB",
          "ACB",
          "ACB",
          "ACB",
          "ACB",
          "ACB",
          "ACB",
          "ACB",
          "ACB",
          "ACB",
          "ACB",
          "ACB",
          "ACB",
          "ACB",
          "ACB",
          "ACB",
          "ACB",
          "ACB",
          "ACB",
          "ACB",
          "ACB",
          "ACB",
          "ACB",
          "ACB",
          "ACB",
          "ACB",
          "ACB",
          "ACB",
          "ACB"
         ],
         "x0": " ",
         "xaxis": "x",
         "y": [
          20.25,
          19.59,
          14.12,
          15.57,
          17.68,
          17.07,
          22.77,
          20.56,
          4.81,
          9.76,
          13.64,
          5.5,
          6.1,
          3.5,
          11.37,
          4.65,
          8.31,
          3.4,
          2.54,
          5.76,
          3.71,
          21.45,
          14.49,
          7.85,
          5.94,
          10.74,
          27.99,
          7.31,
          3.06,
          20.44,
          20,
          13.89,
          20.02,
          34.64,
          12.1,
          12.08,
          18.9,
          18.95,
          19.86,
          15.36,
          9.72,
          24.16,
          13.45,
          24.04,
          22.62,
          16.24,
          11.6,
          19.3,
          25.59,
          20.28,
          18.52,
          22.03,
          19.39,
          24.43,
          21.52,
          19.18,
          21.51,
          21,
          19.52,
          24.14,
          20.87,
          17.85,
          19.31,
          16.72,
          18.19,
          17.69
         ],
         "y0": " ",
         "yaxis": "y"
        },
        {
         "alignmentgroup": "True",
         "boxpoints": "all",
         "customdata": [
          [
           "HG03516"
          ],
          [
           "HG03516"
          ],
          [
           "HG03516"
          ],
          [
           "HG03516"
          ],
          [
           "HG03516"
          ],
          [
           "HG03516"
          ],
          [
           "HG03516"
          ],
          [
           "HG03516"
          ],
          [
           "HG03516"
          ],
          [
           "HG03369"
          ],
          [
           "HG03369"
          ],
          [
           "HG03369"
          ],
          [
           "HG03270"
          ],
          [
           "HG03270"
          ],
          [
           "HG03270"
          ],
          [
           "HG03270"
          ],
          [
           "HG03521"
          ],
          [
           "HG03521"
          ],
          [
           "HG03521"
          ],
          [
           "HG02922"
          ],
          [
           "HG02922"
          ],
          [
           "HG02922"
          ],
          [
           "HG02965"
          ],
          [
           "HG02965"
          ],
          [
           "HG02965"
          ],
          [
           "HG02976"
          ],
          [
           "HG02976"
          ],
          [
           "HG02976"
          ],
          [
           "HG03130"
          ],
          [
           "HG03130"
          ],
          [
           "HG03130"
          ],
          [
           "HG03139"
          ],
          [
           "HG03139"
          ],
          [
           "HG03139"
          ],
          [
           "HG03195"
          ],
          [
           "HG03195"
          ],
          [
           "HG03195"
          ],
          [
           "HG03195"
          ]
         ],
         "hoverinfo": "none",
         "hovertemplate": "population_abbreviation=%{x}<br>coverage=%{y}<br>sample_id=%{customdata[0]}<extra></extra>",
         "legendgroup": "ESN",
         "marker": {
          "color": "#B6E880"
         },
         "name": "ESN",
         "notched": false,
         "offsetgroup": "ESN",
         "orientation": "v",
         "showlegend": true,
         "type": "box",
         "x": [
          "ESN",
          "ESN",
          "ESN",
          "ESN",
          "ESN",
          "ESN",
          "ESN",
          "ESN",
          "ESN",
          "ESN",
          "ESN",
          "ESN",
          "ESN",
          "ESN",
          "ESN",
          "ESN",
          "ESN",
          "ESN",
          "ESN",
          "ESN",
          "ESN",
          "ESN",
          "ESN",
          "ESN",
          "ESN",
          "ESN",
          "ESN",
          "ESN",
          "ESN",
          "ESN",
          "ESN",
          "ESN",
          "ESN",
          "ESN",
          "ESN",
          "ESN",
          "ESN",
          "ESN"
         ],
         "x0": " ",
         "xaxis": "x",
         "y": [
          10.45,
          12.86,
          13.36,
          12.69,
          16.85,
          13.58,
          17.37,
          11.38,
          17.63,
          18.39,
          20.51,
          18.27,
          7.02,
          19.8,
          24.63,
          22.36,
          30.56,
          30.42,
          25.97,
          31.01,
          30.97,
          25.39,
          20.1,
          24.55,
          20.94,
          20.37,
          21.79,
          21.7,
          19.62,
          16.12,
          23.12,
          18.61,
          20.48,
          18.56,
          7.34,
          9.83,
          20.17,
          10.21
         ],
         "y0": " ",
         "yaxis": "y"
        },
        {
         "alignmentgroup": "True",
         "boxpoints": "all",
         "customdata": [
          [
           "NA19036"
          ],
          [
           "NA19036"
          ],
          [
           "NA19036"
          ],
          [
           "NA19036"
          ],
          [
           "NA19036"
          ],
          [
           "NA19036"
          ],
          [
           "NA19443"
          ],
          [
           "NA19443"
          ],
          [
           "NA19443"
          ],
          [
           "NA19443"
          ],
          [
           "NA19443"
          ],
          [
           "NA19043"
          ],
          [
           "NA19043"
          ],
          [
           "NA19043"
          ],
          [
           "NA19043"
          ],
          [
           "NA19338"
          ],
          [
           "NA19338"
          ],
          [
           "NA19338"
          ],
          [
           "NA19391"
          ],
          [
           "NA19391"
          ],
          [
           "NA19391"
          ],
          [
           "NA19468"
          ],
          [
           "NA19468"
          ],
          [
           "NA19468"
          ]
         ],
         "hoverinfo": "none",
         "hovertemplate": "population_abbreviation=%{x}<br>coverage=%{y}<br>sample_id=%{customdata[0]}<extra></extra>",
         "legendgroup": "LWK",
         "marker": {
          "color": "#FF97FF"
         },
         "name": "LWK",
         "notched": false,
         "offsetgroup": "LWK",
         "orientation": "v",
         "showlegend": true,
         "type": "box",
         "x": [
          "LWK",
          "LWK",
          "LWK",
          "LWK",
          "LWK",
          "LWK",
          "LWK",
          "LWK",
          "LWK",
          "LWK",
          "LWK",
          "LWK",
          "LWK",
          "LWK",
          "LWK",
          "LWK",
          "LWK",
          "LWK",
          "LWK",
          "LWK",
          "LWK",
          "LWK",
          "LWK",
          "LWK"
         ],
         "x0": " ",
         "xaxis": "x",
         "y": [
          14.55,
          9.55,
          16.52,
          10.7,
          21.29,
          18.93,
          8.73,
          21.44,
          10.32,
          18,
          11.36,
          2.37,
          21.36,
          20.83,
          17.89,
          20.21,
          25.57,
          19.54,
          27.12,
          29.12,
          25.63,
          26.98,
          25.61,
          25.57
         ],
         "y0": " ",
         "yaxis": "y"
        },
        {
         "alignmentgroup": "True",
         "boxpoints": "all",
         "customdata": [
          [
           "HG00321"
          ],
          [
           "HG00321"
          ],
          [
           "HG00321"
          ],
          [
           "HG00321"
          ],
          [
           "HG00321"
          ],
          [
           "HG00321"
          ],
          [
           "HG00290"
          ],
          [
           "HG00290"
          ],
          [
           "HG00290"
          ],
          [
           "HG00290"
          ],
          [
           "HG00290"
          ],
          [
           "HG00350"
          ],
          [
           "HG00350"
          ],
          [
           "HG00350"
          ],
          [
           "HG00344"
          ],
          [
           "HG00344"
          ],
          [
           "HG00344"
          ],
          [
           "HG00320"
          ],
          [
           "HG00320"
          ],
          [
           "HG00320"
          ],
          [
           "HG00272"
          ],
          [
           "HG00272"
          ],
          [
           "HG00272"
          ],
          [
           "HG00329"
          ],
          [
           "HG00329"
          ],
          [
           "HG00329"
          ],
          [
           "HG00280"
          ],
          [
           "HG00280"
          ],
          [
           "HG00280"
          ],
          [
           "HG00323"
          ],
          [
           "HG00323"
          ],
          [
           "HG00323"
          ]
         ],
         "hoverinfo": "none",
         "hovertemplate": "population_abbreviation=%{x}<br>coverage=%{y}<br>sample_id=%{customdata[0]}<extra></extra>",
         "legendgroup": "FIN",
         "marker": {
          "color": "#FECB52"
         },
         "name": "FIN",
         "notched": false,
         "offsetgroup": "FIN",
         "orientation": "v",
         "showlegend": true,
         "type": "box",
         "x": [
          "FIN",
          "FIN",
          "FIN",
          "FIN",
          "FIN",
          "FIN",
          "FIN",
          "FIN",
          "FIN",
          "FIN",
          "FIN",
          "FIN",
          "FIN",
          "FIN",
          "FIN",
          "FIN",
          "FIN",
          "FIN",
          "FIN",
          "FIN",
          "FIN",
          "FIN",
          "FIN",
          "FIN",
          "FIN",
          "FIN",
          "FIN",
          "FIN",
          "FIN",
          "FIN",
          "FIN",
          "FIN"
         ],
         "x0": " ",
         "xaxis": "x",
         "y": [
          0.52,
          0.9,
          23.82,
          1,
          24.83,
          25.81,
          26.02,
          14.16,
          15.95,
          22.37,
          15.76,
          26.78,
          29.91,
          23.46,
          19.17,
          16.06,
          15.54,
          25.12,
          26.7,
          25.62,
          19.93,
          18.7,
          23.68,
          25.05,
          34.92,
          30.68,
          22.12,
          18.91,
          18.81,
          17.7,
          22.04,
          21.11
         ],
         "y0": " ",
         "yaxis": "y"
        },
        {
         "alignmentgroup": "True",
         "boxpoints": "all",
         "customdata": [
          [
           "NA18565"
          ],
          [
           "NA18565"
          ],
          [
           "NA18565"
          ],
          [
           "NA18565"
          ],
          [
           "NA18565"
          ],
          [
           "NA18565"
          ],
          [
           "NA18608"
          ],
          [
           "NA18608"
          ],
          [
           "NA18608"
          ],
          [
           "NA18620"
          ],
          [
           "NA18620"
          ],
          [
           "NA18620"
          ],
          [
           "NA18620"
          ],
          [
           "NA18620"
          ],
          [
           "NA18620"
          ],
          [
           "NA18747"
          ],
          [
           "NA18747"
          ],
          [
           "NA18747"
          ],
          [
           "NA18570"
          ],
          [
           "NA18570"
          ],
          [
           "NA18570"
          ]
         ],
         "hoverinfo": "none",
         "hovertemplate": "population_abbreviation=%{x}<br>coverage=%{y}<br>sample_id=%{customdata[0]}<extra></extra>",
         "legendgroup": "CHB",
         "marker": {
          "color": "#636efa"
         },
         "name": "CHB",
         "notched": false,
         "offsetgroup": "CHB",
         "orientation": "v",
         "showlegend": true,
         "type": "box",
         "x": [
          "CHB",
          "CHB",
          "CHB",
          "CHB",
          "CHB",
          "CHB",
          "CHB",
          "CHB",
          "CHB",
          "CHB",
          "CHB",
          "CHB",
          "CHB",
          "CHB",
          "CHB",
          "CHB",
          "CHB",
          "CHB",
          "CHB",
          "CHB",
          "CHB"
         ],
         "x0": " ",
         "xaxis": "x",
         "y": [
          0.6,
          17.99,
          0.35,
          18.51,
          0.35,
          21.76,
          29.07,
          26.14,
          21.59,
          23.06,
          2.2,
          27.46,
          24.25,
          0.85,
          0.87,
          24.51,
          26.08,
          24.53,
          23.54,
          23.88,
          18.8
         ],
         "y0": " ",
         "yaxis": "y"
        },
        {
         "alignmentgroup": "True",
         "boxpoints": "all",
         "customdata": [
          [
           "NA21110"
          ],
          [
           "NA21110"
          ],
          [
           "NA21110"
          ],
          [
           "NA20870"
          ],
          [
           "NA20870"
          ],
          [
           "NA20870"
          ],
          [
           "NA21093"
          ],
          [
           "NA21093"
          ],
          [
           "NA21093"
          ],
          [
           "NA21093"
          ],
          [
           "NA20850"
          ],
          [
           "NA20850"
          ],
          [
           "NA20850"
          ],
          [
           "NA21102"
          ],
          [
           "NA21102"
          ],
          [
           "NA21102"
          ],
          [
           "NA21102"
          ],
          [
           "NA21102"
          ],
          [
           "NA21106"
          ],
          [
           "NA21106"
          ],
          [
           "NA21106"
          ],
          [
           "NA21106"
          ],
          [
           "NA21144"
          ],
          [
           "NA21144"
          ],
          [
           "NA21144"
          ],
          [
           "NA21144"
          ],
          [
           "NA21144"
          ],
          [
           "NA20905"
          ],
          [
           "NA20905"
          ],
          [
           "NA20905"
          ]
         ],
         "hoverinfo": "none",
         "hovertemplate": "population_abbreviation=%{x}<br>coverage=%{y}<br>sample_id=%{customdata[0]}<extra></extra>",
         "legendgroup": "GIH",
         "marker": {
          "color": "#EF553B"
         },
         "name": "GIH",
         "notched": false,
         "offsetgroup": "GIH",
         "orientation": "v",
         "showlegend": true,
         "type": "box",
         "x": [
          "GIH",
          "GIH",
          "GIH",
          "GIH",
          "GIH",
          "GIH",
          "GIH",
          "GIH",
          "GIH",
          "GIH",
          "GIH",
          "GIH",
          "GIH",
          "GIH",
          "GIH",
          "GIH",
          "GIH",
          "GIH",
          "GIH",
          "GIH",
          "GIH",
          "GIH",
          "GIH",
          "GIH",
          "GIH",
          "GIH",
          "GIH",
          "GIH",
          "GIH",
          "GIH"
         ],
         "x0": " ",
         "xaxis": "x",
         "y": [
          26.17,
          24.74,
          30.01,
          28.34,
          28.15,
          22.78,
          17.03,
          28.97,
          24.21,
          26.34,
          20.76,
          20.89,
          22.3,
          17.81,
          7.47,
          18.45,
          9.12,
          6.93,
          20.94,
          5.32,
          24.08,
          27.32,
          10.12,
          21.7,
          13.14,
          21.67,
          12.4,
          21.22,
          19.23,
          20.1
         ],
         "y0": " ",
         "yaxis": "y"
        },
        {
         "alignmentgroup": "True",
         "boxpoints": "all",
         "customdata": [
          [
           "NA19682"
          ],
          [
           "NA19682"
          ],
          [
           "NA19682"
          ],
          [
           "NA19682"
          ],
          [
           "NA19776"
          ],
          [
           "NA19776"
          ],
          [
           "NA19776"
          ]
         ],
         "hoverinfo": "none",
         "hovertemplate": "population_abbreviation=%{x}<br>coverage=%{y}<br>sample_id=%{customdata[0]}<extra></extra>",
         "legendgroup": "MXL",
         "marker": {
          "color": "#00cc96"
         },
         "name": "MXL",
         "notched": false,
         "offsetgroup": "MXL",
         "orientation": "v",
         "showlegend": true,
         "type": "box",
         "x": [
          "MXL",
          "MXL",
          "MXL",
          "MXL",
          "MXL",
          "MXL",
          "MXL"
         ],
         "x0": " ",
         "xaxis": "x",
         "y": [
          18.46,
          31.36,
          27.66,
          9.34,
          31.98,
          29.92,
          28.77
         ],
         "y0": " ",
         "yaxis": "y"
        },
        {
         "alignmentgroup": "True",
         "boxpoints": "all",
         "customdata": [
          [
           "HG00235"
          ],
          [
           "HG00235"
          ],
          [
           "HG00235"
          ],
          [
           "HG00235"
          ],
          [
           "HG00235"
          ],
          [
           "HG00235"
          ],
          [
           "HG00235"
          ],
          [
           "HG00097"
          ],
          [
           "HG00097"
          ],
          [
           "HG00097"
          ],
          [
           "HG00232"
          ],
          [
           "HG00232"
          ],
          [
           "HG00232"
          ],
          [
           "HG00232"
          ],
          [
           "HG00232"
          ],
          [
           "HG00232"
          ],
          [
           "HG00232"
          ],
          [
           "HG00232"
          ],
          [
           "HG00146"
          ],
          [
           "HG00146"
          ],
          [
           "HG00146"
          ],
          [
           "HG00146"
          ],
          [
           "HG00146"
          ],
          [
           "HG00146"
          ],
          [
           "HG00128"
          ],
          [
           "HG00128"
          ],
          [
           "HG00128"
          ],
          [
           "HG00126"
          ],
          [
           "HG00126"
          ],
          [
           "HG00126"
          ],
          [
           "HG00133"
          ],
          [
           "HG00133"
          ],
          [
           "HG00133"
          ],
          [
           "HG00253"
          ],
          [
           "HG00253"
          ],
          [
           "HG00253"
          ],
          [
           "HG00253"
          ],
          [
           "HG00253"
          ],
          [
           "HG00253"
          ],
          [
           "HG00099"
          ],
          [
           "HG00099"
          ],
          [
           "HG00099"
          ],
          [
           "HG00140"
          ],
          [
           "HG00140"
          ],
          [
           "HG00140"
          ]
         ],
         "hoverinfo": "none",
         "hovertemplate": "population_abbreviation=%{x}<br>coverage=%{y}<br>sample_id=%{customdata[0]}<extra></extra>",
         "legendgroup": "GBR",
         "marker": {
          "color": "#ab63fa"
         },
         "name": "GBR",
         "notched": false,
         "offsetgroup": "GBR",
         "orientation": "v",
         "showlegend": true,
         "type": "box",
         "x": [
          "GBR",
          "GBR",
          "GBR",
          "GBR",
          "GBR",
          "GBR",
          "GBR",
          "GBR",
          "GBR",
          "GBR",
          "GBR",
          "GBR",
          "GBR",
          "GBR",
          "GBR",
          "GBR",
          "GBR",
          "GBR",
          "GBR",
          "GBR",
          "GBR",
          "GBR",
          "GBR",
          "GBR",
          "GBR",
          "GBR",
          "GBR",
          "GBR",
          "GBR",
          "GBR",
          "GBR",
          "GBR",
          "GBR",
          "GBR",
          "GBR",
          "GBR",
          "GBR",
          "GBR",
          "GBR",
          "GBR",
          "GBR",
          "GBR",
          "GBR",
          "GBR",
          "GBR"
         ],
         "x0": " ",
         "xaxis": "x",
         "y": [
          23.78,
          13.87,
          5.26,
          23.41,
          4.73,
          15.67,
          4.32,
          21.08,
          18.14,
          17.87,
          19.87,
          16.29,
          4.31,
          12.39,
          19.26,
          14.17,
          4.11,
          1.6,
          13.63,
          11.42,
          10.58,
          15.05,
          13.39,
          11.92,
          19.34,
          22.03,
          18.15,
          24.61,
          23.61,
          22.72,
          22.09,
          21.87,
          22,
          3.88,
          24.8,
          23.65,
          1.67,
          22.02,
          3.38,
          19.41,
          19.1,
          20.27,
          24.21,
          26.01,
          22.65
         ],
         "y0": " ",
         "yaxis": "y"
        },
        {
         "alignmentgroup": "True",
         "boxpoints": "all",
         "customdata": [
          [
           "NA19835"
          ],
          [
           "NA19835"
          ],
          [
           "NA19835"
          ],
          [
           "NA19909"
          ],
          [
           "NA19909"
          ],
          [
           "NA19909"
          ],
          [
           "NA20346"
          ],
          [
           "NA20346"
          ],
          [
           "NA20346"
          ],
          [
           "NA20346"
          ],
          [
           "NA19700"
          ],
          [
           "NA19700"
          ],
          [
           "NA19700"
          ],
          [
           "NA19700"
          ],
          [
           "NA19700"
          ],
          [
           "NA19700"
          ],
          [
           "NA20282"
          ],
          [
           "NA20282"
          ],
          [
           "NA20282"
          ],
          [
           "NA20129"
          ],
          [
           "NA20129"
          ],
          [
           "NA20129"
          ]
         ],
         "hoverinfo": "none",
         "hovertemplate": "population_abbreviation=%{x}<br>coverage=%{y}<br>sample_id=%{customdata[0]}<extra></extra>",
         "legendgroup": "ASW",
         "marker": {
          "color": "#FFA15A"
         },
         "name": "ASW",
         "notched": false,
         "offsetgroup": "ASW",
         "orientation": "v",
         "showlegend": true,
         "type": "box",
         "x": [
          "ASW",
          "ASW",
          "ASW",
          "ASW",
          "ASW",
          "ASW",
          "ASW",
          "ASW",
          "ASW",
          "ASW",
          "ASW",
          "ASW",
          "ASW",
          "ASW",
          "ASW",
          "ASW",
          "ASW",
          "ASW",
          "ASW",
          "ASW",
          "ASW",
          "ASW"
         ],
         "x0": " ",
         "xaxis": "x",
         "y": [
          25.09,
          25.75,
          32.12,
          24.66,
          28.6,
          26.61,
          29.86,
          30.16,
          10.88,
          16.45,
          7.87,
          8.02,
          16.09,
          10.59,
          3.27,
          15.86,
          22.21,
          19.57,
          26.62,
          29.4,
          18.43,
          26.75
         ],
         "y0": " ",
         "yaxis": "y"
        },
        {
         "alignmentgroup": "True",
         "boxpoints": "all",
         "customdata": [
          [
           "NA20762"
          ],
          [
           "NA20762"
          ],
          [
           "NA20762"
          ],
          [
           "NA20762"
          ],
          [
           "NA20762"
          ],
          [
           "NA20809"
          ],
          [
           "NA20809"
          ],
          [
           "NA20809"
          ],
          [
           "NA20806"
          ],
          [
           "NA20806"
          ],
          [
           "NA20806"
          ],
          [
           "NA20806"
          ],
          [
           "NA20827"
          ],
          [
           "NA20827"
          ],
          [
           "NA20827"
          ],
          [
           "NA20827"
          ],
          [
           "NA20827"
          ],
          [
           "NA20503"
          ],
          [
           "NA20503"
          ],
          [
           "NA20503"
          ],
          [
           "NA20752"
          ],
          [
           "NA20752"
          ],
          [
           "NA20752"
          ],
          [
           "NA20805"
          ],
          [
           "NA20805"
          ],
          [
           "NA20805"
          ],
          [
           "NA20805"
          ],
          [
           "NA20799"
          ],
          [
           "NA20799"
          ],
          [
           "NA20799"
          ]
         ],
         "hoverinfo": "none",
         "hovertemplate": "population_abbreviation=%{x}<br>coverage=%{y}<br>sample_id=%{customdata[0]}<extra></extra>",
         "legendgroup": "TSI",
         "marker": {
          "color": "#19d3f3"
         },
         "name": "TSI",
         "notched": false,
         "offsetgroup": "TSI",
         "orientation": "v",
         "showlegend": true,
         "type": "box",
         "x": [
          "TSI",
          "TSI",
          "TSI",
          "TSI",
          "TSI",
          "TSI",
          "TSI",
          "TSI",
          "TSI",
          "TSI",
          "TSI",
          "TSI",
          "TSI",
          "TSI",
          "TSI",
          "TSI",
          "TSI",
          "TSI",
          "TSI",
          "TSI",
          "TSI",
          "TSI",
          "TSI",
          "TSI",
          "TSI",
          "TSI",
          "TSI",
          "TSI",
          "TSI",
          "TSI"
         ],
         "x0": " ",
         "xaxis": "x",
         "y": [
          25.39,
          7.16,
          7.94,
          26.01,
          8.55,
          20.29,
          25.89,
          23.75,
          29.73,
          22.78,
          15.32,
          27.71,
          18.95,
          15.83,
          8.87,
          21.56,
          19.42,
          21.8,
          19.42,
          22,
          27.2,
          27.2,
          24.53,
          5.16,
          18.88,
          15.28,
          10.11,
          23.77,
          12.85,
          21.72
         ],
         "y0": " ",
         "yaxis": "y"
        },
        {
         "alignmentgroup": "True",
         "boxpoints": "all",
         "customdata": [
          [
           "HG03874"
          ],
          [
           "HG03874"
          ],
          [
           "HG03874"
          ],
          [
           "HG03874"
          ],
          [
           "HG03874"
          ],
          [
           "HG03784"
          ],
          [
           "HG03784"
          ],
          [
           "HG03784"
          ],
          [
           "HG03742"
          ],
          [
           "HG03742"
          ],
          [
           "HG03742"
          ]
         ],
         "hoverinfo": "none",
         "hovertemplate": "population_abbreviation=%{x}<br>coverage=%{y}<br>sample_id=%{customdata[0]}<extra></extra>",
         "legendgroup": "ITU",
         "marker": {
          "color": "#FF6692"
         },
         "name": "ITU",
         "notched": false,
         "offsetgroup": "ITU",
         "orientation": "v",
         "showlegend": true,
         "type": "box",
         "x": [
          "ITU",
          "ITU",
          "ITU",
          "ITU",
          "ITU",
          "ITU",
          "ITU",
          "ITU",
          "ITU",
          "ITU",
          "ITU"
         ],
         "x0": " ",
         "xaxis": "x",
         "y": [
          19.22,
          3.6,
          17.12,
          20.1,
          24.35,
          20.5,
          16.79,
          20.13,
          20.24,
          20.4,
          19.25
         ],
         "y0": " ",
         "yaxis": "y"
        },
        {
         "alignmentgroup": "True",
         "boxpoints": "all",
         "customdata": [
          [
           "NA18508"
          ],
          [
           "NA18508"
          ],
          [
           "NA18508"
          ],
          [
           "NA18505"
          ],
          [
           "NA18505"
          ],
          [
           "NA18505"
          ],
          [
           "NA18505"
          ],
          [
           "NA18879"
          ],
          [
           "NA18879"
          ],
          [
           "NA18879"
          ],
          [
           "NA18522"
          ],
          [
           "NA18522"
          ],
          [
           "NA18522"
          ],
          [
           "NA19159"
          ],
          [
           "NA19159"
          ],
          [
           "NA19159"
          ],
          [
           "NA19185"
          ],
          [
           "NA19185"
          ],
          [
           "NA19185"
          ],
          [
           "NA18906"
          ],
          [
           "NA18906"
          ],
          [
           "NA18906"
          ],
          [
           "NA19240"
          ],
          [
           "NA19240"
          ],
          [
           "NA19240"
          ]
         ],
         "hoverinfo": "none",
         "hovertemplate": "population_abbreviation=%{x}<br>coverage=%{y}<br>sample_id=%{customdata[0]}<extra></extra>",
         "legendgroup": "YRI",
         "marker": {
          "color": "#B6E880"
         },
         "name": "YRI",
         "notched": false,
         "offsetgroup": "YRI",
         "orientation": "v",
         "showlegend": true,
         "type": "box",
         "x": [
          "YRI",
          "YRI",
          "YRI",
          "YRI",
          "YRI",
          "YRI",
          "YRI",
          "YRI",
          "YRI",
          "YRI",
          "YRI",
          "YRI",
          "YRI",
          "YRI",
          "YRI",
          "YRI",
          "YRI",
          "YRI",
          "YRI",
          "YRI",
          "YRI",
          "YRI",
          "YRI",
          "YRI",
          "YRI"
         ],
         "x0": " ",
         "xaxis": "x",
         "y": [
          23.89,
          28.38,
          27.43,
          5.54,
          24.02,
          33.45,
          17.42,
          18.49,
          17.84,
          18.34,
          23.22,
          29.67,
          16.12,
          21.16,
          18.43,
          16.74,
          18.49,
          16.96,
          19.07,
          18.89,
          21.15,
          21.7,
          24.97,
          23.97,
          25
         ],
         "y0": " ",
         "yaxis": "y"
        },
        {
         "alignmentgroup": "True",
         "boxpoints": "all",
         "customdata": [
          [
           "NA18952"
          ],
          [
           "NA18952"
          ],
          [
           "NA18952"
          ],
          [
           "NA18974"
          ],
          [
           "NA18974"
          ],
          [
           "NA18974"
          ],
          [
           "NA18974"
          ],
          [
           "NA18976"
          ],
          [
           "NA18976"
          ],
          [
           "NA18976"
          ],
          [
           "NA18971"
          ],
          [
           "NA18971"
          ],
          [
           "NA18971"
          ],
          [
           "NA18983"
          ],
          [
           "NA18983"
          ],
          [
           "NA18983"
          ],
          [
           "NA19087"
          ],
          [
           "NA19087"
          ],
          [
           "NA19087"
          ],
          [
           "NA18948"
          ],
          [
           "NA18948"
          ],
          [
           "NA18959"
          ],
          [
           "NA18959"
          ],
          [
           "NA18959"
          ],
          [
           "NA18960"
          ],
          [
           "NA18960"
          ],
          [
           "NA18960"
          ],
          [
           "NA18967"
          ],
          [
           "NA18967"
          ],
          [
           "NA18967"
          ],
          [
           "NA18967"
          ],
          [
           "NA18970"
          ],
          [
           "NA18970"
          ],
          [
           "NA18970"
          ],
          [
           "NA18982"
          ],
          [
           "NA18982"
          ],
          [
           "NA18982"
          ],
          [
           "NA18982"
          ],
          [
           "NA18940"
          ],
          [
           "NA18940"
          ],
          [
           "NA18940"
          ],
          [
           "NA18943"
          ],
          [
           "NA18943"
          ],
          [
           "NA18943"
          ],
          [
           "NA18944"
          ],
          [
           "NA18944"
          ],
          [
           "NA18944"
          ],
          [
           "NA18945"
          ],
          [
           "NA18945"
          ],
          [
           "NA18945"
          ],
          [
           "NA18945"
          ],
          [
           "NA18948"
          ],
          [
           "NA18948"
          ],
          [
           "NA18948"
          ],
          [
           "NA18940"
          ],
          [
           "NA18943"
          ],
          [
           "NA18943"
          ],
          [
           "NA18943"
          ],
          [
           "NA18943"
          ],
          [
           "NA18944"
          ],
          [
           "NA18945"
          ],
          [
           "NA18945"
          ],
          [
           "NA18945"
          ]
         ],
         "hoverinfo": "none",
         "hovertemplate": "population_abbreviation=%{x}<br>coverage=%{y}<br>sample_id=%{customdata[0]}<extra></extra>",
         "legendgroup": "JPT",
         "marker": {
          "color": "#FF97FF"
         },
         "name": "JPT",
         "notched": false,
         "offsetgroup": "JPT",
         "orientation": "v",
         "showlegend": true,
         "type": "box",
         "x": [
          "JPT",
          "JPT",
          "JPT",
          "JPT",
          "JPT",
          "JPT",
          "JPT",
          "JPT",
          "JPT",
          "JPT",
          "JPT",
          "JPT",
          "JPT",
          "JPT",
          "JPT",
          "JPT",
          "JPT",
          "JPT",
          "JPT",
          "JPT",
          "JPT",
          "JPT",
          "JPT",
          "JPT",
          "JPT",
          "JPT",
          "JPT",
          "JPT",
          "JPT",
          "JPT",
          "JPT",
          "JPT",
          "JPT",
          "JPT",
          "JPT",
          "JPT",
          "JPT",
          "JPT",
          "JPT",
          "JPT",
          "JPT",
          "JPT",
          "JPT",
          "JPT",
          "JPT",
          "JPT",
          "JPT",
          "JPT",
          "JPT",
          "JPT",
          "JPT",
          "JPT",
          "JPT",
          "JPT",
          "JPT",
          "JPT",
          "JPT",
          "JPT",
          "JPT",
          "JPT",
          "JPT",
          "JPT",
          "JPT"
         ],
         "x0": " ",
         "xaxis": "x",
         "y": [
          26.48,
          25.49,
          24.09,
          13.3,
          27.71,
          19.03,
          25.16,
          16.97,
          23.93,
          23.93,
          24.8,
          28.49,
          26.59,
          18.63,
          24.7,
          24.77,
          23.91,
          22.89,
          25.21,
          17.57,
          28.6,
          23.11,
          22.17,
          23.7,
          27.48,
          25.96,
          24.02,
          14.23,
          20.02,
          24.25,
          7.36,
          28.19,
          22.03,
          16.57,
          21.75,
          11.88,
          20.94,
          7.31,
          21.98,
          22.66,
          25.82,
          2.36,
          6.56,
          8.69,
          29.66,
          21.5,
          23.67,
          6.08,
          10.49,
          2.85,
          0.17,
          13.23,
          16.87,
          17.85,
          23.64,
          2.16,
          26.44,
          18.32,
          16.85,
          24.66,
          10.99,
          16.19,
          18.24
         ],
         "y0": " ",
         "yaxis": "y"
        },
        {
         "alignmentgroup": "True",
         "boxpoints": "all",
         "customdata": [
          [
           "HG01786"
          ],
          [
           "HG01786"
          ],
          [
           "HG01786"
          ],
          [
           "HG01530"
          ],
          [
           "HG01530"
          ],
          [
           "HG01530"
          ],
          [
           "HG01784"
          ],
          [
           "HG01784"
          ],
          [
           "HG01784"
          ]
         ],
         "hoverinfo": "none",
         "hovertemplate": "population_abbreviation=%{x}<br>coverage=%{y}<br>sample_id=%{customdata[0]}<extra></extra>",
         "legendgroup": "IBS",
         "marker": {
          "color": "#FECB52"
         },
         "name": "IBS",
         "notched": false,
         "offsetgroup": "IBS",
         "orientation": "v",
         "showlegend": true,
         "type": "box",
         "x": [
          "IBS",
          "IBS",
          "IBS",
          "IBS",
          "IBS",
          "IBS",
          "IBS",
          "IBS",
          "IBS"
         ],
         "x0": " ",
         "xaxis": "x",
         "y": [
          19.7,
          32.56,
          27.66,
          17.09,
          19.07,
          17.93,
          22.9,
          25.58,
          22.49
         ],
         "y0": " ",
         "yaxis": "y"
        },
        {
         "alignmentgroup": "True",
         "boxpoints": "all",
         "customdata": [
          [
           "HG02178"
          ],
          [
           "HG02178"
          ],
          [
           "HG02178"
          ],
          [
           "HG02392"
          ],
          [
           "HG02392"
          ],
          [
           "HG02392"
          ],
          [
           "HG02155"
          ],
          [
           "HG02155"
          ],
          [
           "HG02155"
          ],
          [
           "HG02165"
          ],
          [
           "HG02165"
          ],
          [
           "HG02165"
          ],
          [
           "HG02391"
          ],
          [
           "HG02391"
          ],
          [
           "HG02391"
          ],
          [
           "HG02391"
          ]
         ],
         "hoverinfo": "none",
         "hovertemplate": "population_abbreviation=%{x}<br>coverage=%{y}<br>sample_id=%{customdata[0]}<extra></extra>",
         "legendgroup": "CDX",
         "marker": {
          "color": "#636efa"
         },
         "name": "CDX",
         "notched": false,
         "offsetgroup": "CDX",
         "orientation": "v",
         "showlegend": true,
         "type": "box",
         "x": [
          "CDX",
          "CDX",
          "CDX",
          "CDX",
          "CDX",
          "CDX",
          "CDX",
          "CDX",
          "CDX",
          "CDX",
          "CDX",
          "CDX",
          "CDX",
          "CDX",
          "CDX",
          "CDX"
         ],
         "x0": " ",
         "xaxis": "x",
         "y": [
          18.16,
          21.02,
          20.26,
          24.26,
          22.84,
          29.7,
          23.54,
          26.02,
          26.11,
          22.62,
          21.43,
          22.79,
          1.31,
          19.09,
          18.2,
          13.23
         ],
         "y0": " ",
         "yaxis": "y"
        },
        {
         "alignmentgroup": "True",
         "boxpoints": "all",
         "customdata": [
          [
           "HG02015"
          ],
          [
           "HG02015"
          ],
          [
           "HG02015"
          ],
          [
           "HG02015"
          ],
          [
           "HG02040"
          ],
          [
           "HG02040"
          ],
          [
           "HG02040"
          ],
          [
           "HG02056"
          ],
          [
           "HG02056"
          ],
          [
           "HG02056"
          ],
          [
           "HG02129"
          ],
          [
           "HG02129"
          ],
          [
           "HG02129"
          ],
          [
           "HG02514"
          ],
          [
           "HG02514"
          ],
          [
           "HG02514"
          ],
          [
           "HG02027"
          ],
          [
           "HG02027"
          ],
          [
           "HG02027"
          ],
          [
           "HG02071"
          ],
          [
           "HG02071"
          ],
          [
           "HG02071"
          ],
          [
           "HG02074"
          ],
          [
           "HG02074"
          ],
          [
           "HG02074"
          ],
          [
           "HG02083"
          ],
          [
           "HG02083"
          ],
          [
           "HG02083"
          ],
          [
           "HG02132"
          ],
          [
           "HG02132"
          ],
          [
           "HG02132"
          ],
          [
           "HG02135"
          ],
          [
           "HG02135"
          ],
          [
           "HG02135"
          ],
          [
           "HG02523"
          ],
          [
           "HG02523"
          ],
          [
           "HG02523"
          ],
          [
           "HG02080"
          ],
          [
           "HG02080"
          ],
          [
           "HG02080"
          ],
          [
           "HG02080"
          ],
          [
           "HG02080"
          ],
          [
           "HG02080"
          ],
          [
           "HG02080"
          ],
          [
           "HG02080"
          ],
          [
           "HG02080"
          ]
         ],
         "hoverinfo": "none",
         "hovertemplate": "population_abbreviation=%{x}<br>coverage=%{y}<br>sample_id=%{customdata[0]}<extra></extra>",
         "legendgroup": "KHV",
         "marker": {
          "color": "#EF553B"
         },
         "name": "KHV",
         "notched": false,
         "offsetgroup": "KHV",
         "orientation": "v",
         "showlegend": true,
         "type": "box",
         "x": [
          "KHV",
          "KHV",
          "KHV",
          "KHV",
          "KHV",
          "KHV",
          "KHV",
          "KHV",
          "KHV",
          "KHV",
          "KHV",
          "KHV",
          "KHV",
          "KHV",
          "KHV",
          "KHV",
          "KHV",
          "KHV",
          "KHV",
          "KHV",
          "KHV",
          "KHV",
          "KHV",
          "KHV",
          "KHV",
          "KHV",
          "KHV",
          "KHV",
          "KHV",
          "KHV",
          "KHV",
          "KHV",
          "KHV",
          "KHV",
          "KHV",
          "KHV",
          "KHV",
          "KHV",
          "KHV",
          "KHV",
          "KHV",
          "KHV",
          "KHV",
          "KHV",
          "KHV",
          "KHV"
         ],
         "x0": " ",
         "xaxis": "x",
         "y": [
          5.26,
          6.2,
          13.73,
          8.67,
          27.24,
          31.23,
          24.19,
          14.62,
          15.79,
          18.29,
          14.72,
          13.37,
          13.79,
          21.49,
          22.59,
          19.99,
          17.1,
          21.7,
          21.32,
          28.63,
          31.93,
          18.24,
          26.78,
          28.24,
          23.83,
          25.01,
          24.95,
          26.77,
          30.27,
          13.77,
          25.05,
          33.46,
          14.53,
          28.12,
          29.08,
          25.74,
          22.8,
          18.44,
          17.96,
          17.11,
          15.78,
          15.51,
          15.94,
          19.18,
          11.1,
          16.07
         ],
         "y0": " ",
         "yaxis": "y"
        },
        {
         "alignmentgroup": "True",
         "boxpoints": "all",
         "customdata": [
          [
           "HG03017"
          ],
          [
           "HG03017"
          ],
          [
           "HG03017"
          ],
          [
           "HG03239"
          ],
          [
           "HG03239"
          ],
          [
           "HG03239"
          ],
          [
           "HG02698"
          ],
          [
           "HG02698"
          ],
          [
           "HG02698"
          ],
          [
           "HG02698"
          ],
          [
           "HG02698"
          ],
          [
           "HG02735"
          ],
          [
           "HG02735"
          ],
          [
           "HG02735"
          ],
          [
           "HG02735"
          ],
          [
           "HG02738"
          ],
          [
           "HG02738"
          ],
          [
           "HG02738"
          ],
          [
           "HG03654"
          ],
          [
           "HG03654"
          ],
          [
           "HG03654"
          ],
          [
           "HG03669"
          ],
          [
           "HG03669"
          ],
          [
           "HG03669"
          ],
          [
           "HG03669"
          ],
          [
           "HG03704"
          ],
          [
           "HG03704"
          ],
          [
           "HG03704"
          ],
          [
           "HG03710"
          ],
          [
           "HG03710"
          ],
          [
           "HG03710"
          ],
          [
           "HG03710"
          ],
          [
           "HG02602"
          ],
          [
           "HG02602"
          ],
          [
           "HG02602"
          ]
         ],
         "hoverinfo": "none",
         "hovertemplate": "population_abbreviation=%{x}<br>coverage=%{y}<br>sample_id=%{customdata[0]}<extra></extra>",
         "legendgroup": "PJL",
         "marker": {
          "color": "#00cc96"
         },
         "name": "PJL",
         "notched": false,
         "offsetgroup": "PJL",
         "orientation": "v",
         "showlegend": true,
         "type": "box",
         "x": [
          "PJL",
          "PJL",
          "PJL",
          "PJL",
          "PJL",
          "PJL",
          "PJL",
          "PJL",
          "PJL",
          "PJL",
          "PJL",
          "PJL",
          "PJL",
          "PJL",
          "PJL",
          "PJL",
          "PJL",
          "PJL",
          "PJL",
          "PJL",
          "PJL",
          "PJL",
          "PJL",
          "PJL",
          "PJL",
          "PJL",
          "PJL",
          "PJL",
          "PJL",
          "PJL",
          "PJL",
          "PJL",
          "PJL",
          "PJL",
          "PJL"
         ],
         "x0": " ",
         "xaxis": "x",
         "y": [
          24.37,
          30.05,
          23.31,
          22.54,
          23.69,
          17.79,
          34.61,
          7.27,
          7.03,
          27.81,
          5.94,
          15.77,
          17.4,
          8.75,
          12.7,
          6.17,
          21.49,
          29,
          13.95,
          22.53,
          22.91,
          24.92,
          3.34,
          25.24,
          7.37,
          25.08,
          24.6,
          20.04,
          25.42,
          2.19,
          30.55,
          9.07,
          32.31,
          29.12,
          21.66
         ],
         "y0": " ",
         "yaxis": "y"
        },
        {
         "alignmentgroup": "True",
         "boxpoints": "all",
         "customdata": [
          [
           "HG03834"
          ],
          [
           "HG03834"
          ],
          [
           "HG03834"
          ],
          [
           "HG03804"
          ],
          [
           "HG03804"
          ],
          [
           "HG03804"
          ],
          [
           "HG03816"
          ],
          [
           "HG03816"
          ],
          [
           "HG03816"
          ],
          [
           "HG03831"
          ],
          [
           "HG03831"
          ],
          [
           "HG03831"
          ],
          [
           "HG03927"
          ],
          [
           "HG03927"
          ],
          [
           "HG03927"
          ],
          [
           "HG03942"
          ],
          [
           "HG03942"
          ],
          [
           "HG03942"
          ],
          [
           "HG04157"
          ],
          [
           "HG04157"
          ],
          [
           "HG04157"
          ],
          [
           "HG04160"
          ],
          [
           "HG04160"
          ],
          [
           "HG04160"
          ],
          [
           "HG04184"
          ],
          [
           "HG04184"
          ],
          [
           "HG04184"
          ],
          [
           "HG04187"
          ],
          [
           "HG04187"
          ],
          [
           "HG04187"
          ],
          [
           "HG04187"
          ]
         ],
         "hoverinfo": "none",
         "hovertemplate": "population_abbreviation=%{x}<br>coverage=%{y}<br>sample_id=%{customdata[0]}<extra></extra>",
         "legendgroup": "BEB",
         "marker": {
          "color": "#ab63fa"
         },
         "name": "BEB",
         "notched": false,
         "offsetgroup": "BEB",
         "orientation": "v",
         "showlegend": true,
         "type": "box",
         "x": [
          "BEB",
          "BEB",
          "BEB",
          "BEB",
          "BEB",
          "BEB",
          "BEB",
          "BEB",
          "BEB",
          "BEB",
          "BEB",
          "BEB",
          "BEB",
          "BEB",
          "BEB",
          "BEB",
          "BEB",
          "BEB",
          "BEB",
          "BEB",
          "BEB",
          "BEB",
          "BEB",
          "BEB",
          "BEB",
          "BEB",
          "BEB",
          "BEB",
          "BEB",
          "BEB",
          "BEB"
         ],
         "x0": " ",
         "xaxis": "x",
         "y": [
          16.37,
          16.7,
          15.73,
          31.92,
          28.16,
          32.21,
          28.94,
          20.57,
          30.01,
          25.58,
          26.03,
          28.21,
          12.27,
          22.91,
          26.76,
          4.77,
          29.07,
          21.46,
          29.58,
          32.3,
          23.85,
          22.94,
          24.52,
          24.78,
          13.97,
          18.01,
          15.81,
          7.78,
          20.02,
          18.44,
          0.86
         ],
         "y0": " ",
         "yaxis": "y"
        },
        {
         "alignmentgroup": "True",
         "boxpoints": "all",
         "customdata": [
          [
           "HG03688"
          ],
          [
           "HG03688"
          ],
          [
           "HG03688"
          ],
          [
           "HG04115"
          ],
          [
           "HG04115"
          ],
          [
           "HG04115"
          ],
          [
           "HG04115"
          ],
          [
           "HG04115"
          ],
          [
           "HG04199"
          ],
          [
           "HG04199"
          ],
          [
           "HG04199"
          ],
          [
           "HG04204"
          ],
          [
           "HG04204"
          ],
          [
           "HG04204"
          ],
          [
           "HG04228"
          ],
          [
           "HG04228"
          ],
          [
           "HG04228"
          ]
         ],
         "hoverinfo": "none",
         "hovertemplate": "population_abbreviation=%{x}<br>coverage=%{y}<br>sample_id=%{customdata[0]}<extra></extra>",
         "legendgroup": "STU",
         "marker": {
          "color": "#FFA15A"
         },
         "name": "STU",
         "notched": false,
         "offsetgroup": "STU",
         "orientation": "v",
         "showlegend": true,
         "type": "box",
         "x": [
          "STU",
          "STU",
          "STU",
          "STU",
          "STU",
          "STU",
          "STU",
          "STU",
          "STU",
          "STU",
          "STU",
          "STU",
          "STU",
          "STU",
          "STU",
          "STU",
          "STU"
         ],
         "x0": " ",
         "xaxis": "x",
         "y": [
          21.49,
          27.31,
          24.02,
          8.25,
          17.59,
          7.53,
          14.89,
          7.67,
          29.05,
          12.5,
          18.45,
          28.35,
          21.51,
          8.36,
          30.32,
          15.02,
          26.95
         ],
         "y0": " ",
         "yaxis": "y"
        },
        {
         "alignmentgroup": "True",
         "boxpoints": "all",
         "customdata": [
          [
           "NA21309"
          ],
          [
           "NA21309"
          ],
          [
           "NA21309"
          ]
         ],
         "hoverinfo": "none",
         "hovertemplate": "population_abbreviation=%{x}<br>coverage=%{y}<br>sample_id=%{customdata[0]}<extra></extra>",
         "legendgroup": "MKK",
         "marker": {
          "color": "#19d3f3"
         },
         "name": "MKK",
         "notched": false,
         "offsetgroup": "MKK",
         "orientation": "v",
         "showlegend": true,
         "type": "box",
         "x": [
          "MKK",
          "MKK",
          "MKK"
         ],
         "x0": " ",
         "xaxis": "x",
         "y": [
          29.4,
          20.8,
          22.86
         ],
         "y0": " ",
         "yaxis": "y"
        },
        {
         "alignmentgroup": "True",
         "boxpoints": "all",
         "customdata": [
          [
           "HG06807"
          ],
          [
           "HG06807"
          ],
          [
           "HG06807"
          ]
         ],
         "hoverinfo": "none",
         "hovertemplate": "population_abbreviation=%{x}<br>coverage=%{y}<br>sample_id=%{customdata[0]}<extra></extra>",
         "legendgroup": "ASL",
         "marker": {
          "color": "#FF6692"
         },
         "name": "ASL",
         "notched": false,
         "offsetgroup": "ASL",
         "orientation": "v",
         "showlegend": true,
         "type": "box",
         "x": [
          "ASL",
          "ASL",
          "ASL"
         ],
         "x0": " ",
         "xaxis": "x",
         "y": [
          20.9,
          22.74,
          28.22
         ],
         "y0": " ",
         "yaxis": "y"
        }
       ],
       "layout": {
        "autosize": true,
        "boxmode": "overlay",
        "legend": {
         "title": {
          "text": "population_abbreviation"
         },
         "tracegroupgap": 0
        },
        "margin": {
         "t": 60
        },
        "template": {
         "data": {
          "bar": [
           {
            "error_x": {
             "color": "#f2f5fa"
            },
            "error_y": {
             "color": "#f2f5fa"
            },
            "marker": {
             "line": {
              "color": "rgb(17,17,17)",
              "width": 0.5
             },
             "pattern": {
              "fillmode": "overlay",
              "size": 10,
              "solidity": 0.2
             }
            },
            "type": "bar"
           }
          ],
          "barpolar": [
           {
            "marker": {
             "line": {
              "color": "rgb(17,17,17)",
              "width": 0.5
             },
             "pattern": {
              "fillmode": "overlay",
              "size": 10,
              "solidity": 0.2
             }
            },
            "type": "barpolar"
           }
          ],
          "carpet": [
           {
            "aaxis": {
             "endlinecolor": "#A2B1C6",
             "gridcolor": "#506784",
             "linecolor": "#506784",
             "minorgridcolor": "#506784",
             "startlinecolor": "#A2B1C6"
            },
            "baxis": {
             "endlinecolor": "#A2B1C6",
             "gridcolor": "#506784",
             "linecolor": "#506784",
             "minorgridcolor": "#506784",
             "startlinecolor": "#A2B1C6"
            },
            "type": "carpet"
           }
          ],
          "choropleth": [
           {
            "colorbar": {
             "outlinewidth": 0,
             "ticks": ""
            },
            "type": "choropleth"
           }
          ],
          "contour": [
           {
            "colorbar": {
             "outlinewidth": 0,
             "ticks": ""
            },
            "colorscale": [
             [
              0,
              "#0d0887"
             ],
             [
              0.1111111111111111,
              "#46039f"
             ],
             [
              0.2222222222222222,
              "#7201a8"
             ],
             [
              0.3333333333333333,
              "#9c179e"
             ],
             [
              0.4444444444444444,
              "#bd3786"
             ],
             [
              0.5555555555555556,
              "#d8576b"
             ],
             [
              0.6666666666666666,
              "#ed7953"
             ],
             [
              0.7777777777777778,
              "#fb9f3a"
             ],
             [
              0.8888888888888888,
              "#fdca26"
             ],
             [
              1,
              "#f0f921"
             ]
            ],
            "type": "contour"
           }
          ],
          "contourcarpet": [
           {
            "colorbar": {
             "outlinewidth": 0,
             "ticks": ""
            },
            "type": "contourcarpet"
           }
          ],
          "heatmap": [
           {
            "colorbar": {
             "outlinewidth": 0,
             "ticks": ""
            },
            "colorscale": [
             [
              0,
              "#0d0887"
             ],
             [
              0.1111111111111111,
              "#46039f"
             ],
             [
              0.2222222222222222,
              "#7201a8"
             ],
             [
              0.3333333333333333,
              "#9c179e"
             ],
             [
              0.4444444444444444,
              "#bd3786"
             ],
             [
              0.5555555555555556,
              "#d8576b"
             ],
             [
              0.6666666666666666,
              "#ed7953"
             ],
             [
              0.7777777777777778,
              "#fb9f3a"
             ],
             [
              0.8888888888888888,
              "#fdca26"
             ],
             [
              1,
              "#f0f921"
             ]
            ],
            "type": "heatmap"
           }
          ],
          "heatmapgl": [
           {
            "colorbar": {
             "outlinewidth": 0,
             "ticks": ""
            },
            "colorscale": [
             [
              0,
              "#0d0887"
             ],
             [
              0.1111111111111111,
              "#46039f"
             ],
             [
              0.2222222222222222,
              "#7201a8"
             ],
             [
              0.3333333333333333,
              "#9c179e"
             ],
             [
              0.4444444444444444,
              "#bd3786"
             ],
             [
              0.5555555555555556,
              "#d8576b"
             ],
             [
              0.6666666666666666,
              "#ed7953"
             ],
             [
              0.7777777777777778,
              "#fb9f3a"
             ],
             [
              0.8888888888888888,
              "#fdca26"
             ],
             [
              1,
              "#f0f921"
             ]
            ],
            "type": "heatmapgl"
           }
          ],
          "histogram": [
           {
            "marker": {
             "pattern": {
              "fillmode": "overlay",
              "size": 10,
              "solidity": 0.2
             }
            },
            "type": "histogram"
           }
          ],
          "histogram2d": [
           {
            "colorbar": {
             "outlinewidth": 0,
             "ticks": ""
            },
            "colorscale": [
             [
              0,
              "#0d0887"
             ],
             [
              0.1111111111111111,
              "#46039f"
             ],
             [
              0.2222222222222222,
              "#7201a8"
             ],
             [
              0.3333333333333333,
              "#9c179e"
             ],
             [
              0.4444444444444444,
              "#bd3786"
             ],
             [
              0.5555555555555556,
              "#d8576b"
             ],
             [
              0.6666666666666666,
              "#ed7953"
             ],
             [
              0.7777777777777778,
              "#fb9f3a"
             ],
             [
              0.8888888888888888,
              "#fdca26"
             ],
             [
              1,
              "#f0f921"
             ]
            ],
            "type": "histogram2d"
           }
          ],
          "histogram2dcontour": [
           {
            "colorbar": {
             "outlinewidth": 0,
             "ticks": ""
            },
            "colorscale": [
             [
              0,
              "#0d0887"
             ],
             [
              0.1111111111111111,
              "#46039f"
             ],
             [
              0.2222222222222222,
              "#7201a8"
             ],
             [
              0.3333333333333333,
              "#9c179e"
             ],
             [
              0.4444444444444444,
              "#bd3786"
             ],
             [
              0.5555555555555556,
              "#d8576b"
             ],
             [
              0.6666666666666666,
              "#ed7953"
             ],
             [
              0.7777777777777778,
              "#fb9f3a"
             ],
             [
              0.8888888888888888,
              "#fdca26"
             ],
             [
              1,
              "#f0f921"
             ]
            ],
            "type": "histogram2dcontour"
           }
          ],
          "mesh3d": [
           {
            "colorbar": {
             "outlinewidth": 0,
             "ticks": ""
            },
            "type": "mesh3d"
           }
          ],
          "parcoords": [
           {
            "line": {
             "colorbar": {
              "outlinewidth": 0,
              "ticks": ""
             }
            },
            "type": "parcoords"
           }
          ],
          "pie": [
           {
            "automargin": true,
            "type": "pie"
           }
          ],
          "scatter": [
           {
            "marker": {
             "line": {
              "color": "#283442"
             }
            },
            "type": "scatter"
           }
          ],
          "scatter3d": [
           {
            "line": {
             "colorbar": {
              "outlinewidth": 0,
              "ticks": ""
             }
            },
            "marker": {
             "colorbar": {
              "outlinewidth": 0,
              "ticks": ""
             }
            },
            "type": "scatter3d"
           }
          ],
          "scattercarpet": [
           {
            "marker": {
             "colorbar": {
              "outlinewidth": 0,
              "ticks": ""
             }
            },
            "type": "scattercarpet"
           }
          ],
          "scattergeo": [
           {
            "marker": {
             "colorbar": {
              "outlinewidth": 0,
              "ticks": ""
             }
            },
            "type": "scattergeo"
           }
          ],
          "scattergl": [
           {
            "marker": {
             "line": {
              "color": "#283442"
             }
            },
            "type": "scattergl"
           }
          ],
          "scattermapbox": [
           {
            "marker": {
             "colorbar": {
              "outlinewidth": 0,
              "ticks": ""
             }
            },
            "type": "scattermapbox"
           }
          ],
          "scatterpolar": [
           {
            "marker": {
             "colorbar": {
              "outlinewidth": 0,
              "ticks": ""
             }
            },
            "type": "scatterpolar"
           }
          ],
          "scatterpolargl": [
           {
            "marker": {
             "colorbar": {
              "outlinewidth": 0,
              "ticks": ""
             }
            },
            "type": "scatterpolargl"
           }
          ],
          "scatterternary": [
           {
            "marker": {
             "colorbar": {
              "outlinewidth": 0,
              "ticks": ""
             }
            },
            "type": "scatterternary"
           }
          ],
          "surface": [
           {
            "colorbar": {
             "outlinewidth": 0,
             "ticks": ""
            },
            "colorscale": [
             [
              0,
              "#0d0887"
             ],
             [
              0.1111111111111111,
              "#46039f"
             ],
             [
              0.2222222222222222,
              "#7201a8"
             ],
             [
              0.3333333333333333,
              "#9c179e"
             ],
             [
              0.4444444444444444,
              "#bd3786"
             ],
             [
              0.5555555555555556,
              "#d8576b"
             ],
             [
              0.6666666666666666,
              "#ed7953"
             ],
             [
              0.7777777777777778,
              "#fb9f3a"
             ],
             [
              0.8888888888888888,
              "#fdca26"
             ],
             [
              1,
              "#f0f921"
             ]
            ],
            "type": "surface"
           }
          ],
          "table": [
           {
            "cells": {
             "fill": {
              "color": "#506784"
             },
             "line": {
              "color": "rgb(17,17,17)"
             }
            },
            "header": {
             "fill": {
              "color": "#2a3f5f"
             },
             "line": {
              "color": "rgb(17,17,17)"
             }
            },
            "type": "table"
           }
          ]
         },
         "layout": {
          "annotationdefaults": {
           "arrowcolor": "#f2f5fa",
           "arrowhead": 0,
           "arrowwidth": 1
          },
          "autotypenumbers": "strict",
          "coloraxis": {
           "colorbar": {
            "outlinewidth": 0,
            "ticks": ""
           }
          },
          "colorscale": {
           "diverging": [
            [
             0,
             "#8e0152"
            ],
            [
             0.1,
             "#c51b7d"
            ],
            [
             0.2,
             "#de77ae"
            ],
            [
             0.3,
             "#f1b6da"
            ],
            [
             0.4,
             "#fde0ef"
            ],
            [
             0.5,
             "#f7f7f7"
            ],
            [
             0.6,
             "#e6f5d0"
            ],
            [
             0.7,
             "#b8e186"
            ],
            [
             0.8,
             "#7fbc41"
            ],
            [
             0.9,
             "#4d9221"
            ],
            [
             1,
             "#276419"
            ]
           ],
           "sequential": [
            [
             0,
             "#0d0887"
            ],
            [
             0.1111111111111111,
             "#46039f"
            ],
            [
             0.2222222222222222,
             "#7201a8"
            ],
            [
             0.3333333333333333,
             "#9c179e"
            ],
            [
             0.4444444444444444,
             "#bd3786"
            ],
            [
             0.5555555555555556,
             "#d8576b"
            ],
            [
             0.6666666666666666,
             "#ed7953"
            ],
            [
             0.7777777777777778,
             "#fb9f3a"
            ],
            [
             0.8888888888888888,
             "#fdca26"
            ],
            [
             1,
             "#f0f921"
            ]
           ],
           "sequentialminus": [
            [
             0,
             "#0d0887"
            ],
            [
             0.1111111111111111,
             "#46039f"
            ],
            [
             0.2222222222222222,
             "#7201a8"
            ],
            [
             0.3333333333333333,
             "#9c179e"
            ],
            [
             0.4444444444444444,
             "#bd3786"
            ],
            [
             0.5555555555555556,
             "#d8576b"
            ],
            [
             0.6666666666666666,
             "#ed7953"
            ],
            [
             0.7777777777777778,
             "#fb9f3a"
            ],
            [
             0.8888888888888888,
             "#fdca26"
            ],
            [
             1,
             "#f0f921"
            ]
           ]
          },
          "colorway": [
           "#636efa",
           "#EF553B",
           "#00cc96",
           "#ab63fa",
           "#FFA15A",
           "#19d3f3",
           "#FF6692",
           "#B6E880",
           "#FF97FF",
           "#FECB52"
          ],
          "font": {
           "color": "#f2f5fa"
          },
          "geo": {
           "bgcolor": "rgb(17,17,17)",
           "lakecolor": "rgb(17,17,17)",
           "landcolor": "rgb(17,17,17)",
           "showlakes": true,
           "showland": true,
           "subunitcolor": "#506784"
          },
          "hoverlabel": {
           "align": "left"
          },
          "hovermode": "closest",
          "mapbox": {
           "style": "dark"
          },
          "paper_bgcolor": "rgb(17,17,17)",
          "plot_bgcolor": "rgb(17,17,17)",
          "polar": {
           "angularaxis": {
            "gridcolor": "#506784",
            "linecolor": "#506784",
            "ticks": ""
           },
           "bgcolor": "rgb(17,17,17)",
           "radialaxis": {
            "gridcolor": "#506784",
            "linecolor": "#506784",
            "ticks": ""
           }
          },
          "scene": {
           "xaxis": {
            "backgroundcolor": "rgb(17,17,17)",
            "gridcolor": "#506784",
            "gridwidth": 2,
            "linecolor": "#506784",
            "showbackground": true,
            "ticks": "",
            "zerolinecolor": "#C8D4E3"
           },
           "yaxis": {
            "backgroundcolor": "rgb(17,17,17)",
            "gridcolor": "#506784",
            "gridwidth": 2,
            "linecolor": "#506784",
            "showbackground": true,
            "ticks": "",
            "zerolinecolor": "#C8D4E3"
           },
           "zaxis": {
            "backgroundcolor": "rgb(17,17,17)",
            "gridcolor": "#506784",
            "gridwidth": 2,
            "linecolor": "#506784",
            "showbackground": true,
            "ticks": "",
            "zerolinecolor": "#C8D4E3"
           }
          },
          "shapedefaults": {
           "line": {
            "color": "#f2f5fa"
           }
          },
          "sliderdefaults": {
           "bgcolor": "#C8D4E3",
           "bordercolor": "rgb(17,17,17)",
           "borderwidth": 1,
           "tickwidth": 0
          },
          "ternary": {
           "aaxis": {
            "gridcolor": "#506784",
            "linecolor": "#506784",
            "ticks": ""
           },
           "baxis": {
            "gridcolor": "#506784",
            "linecolor": "#506784",
            "ticks": ""
           },
           "bgcolor": "rgb(17,17,17)",
           "caxis": {
            "gridcolor": "#506784",
            "linecolor": "#506784",
            "ticks": ""
           }
          },
          "title": {
           "x": 0.05
          },
          "updatemenudefaults": {
           "bgcolor": "#506784",
           "borderwidth": 0
          },
          "xaxis": {
           "automargin": true,
           "gridcolor": "#283442",
           "linecolor": "#506784",
           "ticks": "",
           "title": {
            "standoff": 15
           },
           "zerolinecolor": "#283442",
           "zerolinewidth": 2
          },
          "yaxis": {
           "automargin": true,
           "gridcolor": "#283442",
           "linecolor": "#506784",
           "ticks": "",
           "title": {
            "standoff": 15
           },
           "zerolinecolor": "#283442",
           "zerolinewidth": 2
          }
         }
        },
        "title": {
         "text": "Coverage Distribution by Population"
        },
        "xaxis": {
         "anchor": "y",
         "autorange": true,
         "categoryarray": [
          "CHS",
          "PEL",
          "GWD",
          "MSL",
          "PUR",
          "CLM",
          "ACB",
          "ESN",
          "LWK",
          "FIN",
          "CHB",
          "GIH",
          "MXL",
          "GBR",
          "ASW",
          "TSI",
          "ITU",
          "YRI",
          "JPT",
          "IBS",
          "CDX",
          "KHV",
          "PJL",
          "BEB",
          "STU",
          "MKK",
          "ASL"
         ],
         "categoryorder": "array",
         "domain": [
          0,
          1
         ],
         "range": [
          -0.5876623376623377,
          26.5
         ],
         "title": {
          "text": "Population"
         },
         "type": "category"
        },
        "yaxis": {
         "anchor": "x",
         "autorange": true,
         "domain": [
          0,
          1
         ],
         "range": [
          -1.837222222222222,
          38.30722222222222
         ],
         "title": {
          "text": "Coverage (x)"
         },
         "type": "linear"
        }
       }
      },
      "image/png": "[encoded data removed]",
      "text/html": [
       "<div>                            <div id=\"a6f08e06-0d1e-44a6-b850-85f8a92fd28c\" class=\"plotly-graph-div\" style=\"height:525px; width:100%;\"></div>            <script type=\"text/javascript\">                require([\"plotly\"], function(Plotly) {                    window.PLOTLYENV=window.PLOTLYENV || {};                                    if (document.getElementById(\"a6f08e06-0d1e-44a6-b850-85f8a92fd28c\")) {                    Plotly.newPlot(                        \"a6f08e06-0d1e-44a6-b850-85f8a92fd28c\",                        [{\"alignmentgroup\":\"True\",\"boxpoints\":\"all\",\"customdata\":[[\"HG00621\"],[\"HG00621\"],[\"HG00673\"],[\"HG00673\"],[\"HG00438\"],[\"HG00438\"],[\"HG00438\"],[\"HG00438\"],[\"HG00438\"],[\"HG00438\"],[\"HG00438\"],[\"HG00438\"],[\"HG00438\"],[\"HG00438\"],[\"HG00621\"],[\"HG00621\"],[\"HG00621\"],[\"HG00673\"],[\"HG00673\"],[\"HG00673\"],[\"HG00408\"],[\"HG00408\"],[\"HG00408\"],[\"HG00558\"],[\"HG00558\"],[\"HG00558\"],[\"HG00597\"],[\"HG00597\"],[\"HG00597\"],[\"HG00597\"],[\"HG00658\"],[\"HG00658\"],[\"HG00658\"],[\"HG00423\"],[\"HG00423\"],[\"HG00706\"],[\"HG00706\"],[\"HG00706\"],[\"HG00423\"],[\"HG00544\"],[\"HG00544\"],[\"HG00544\"],[\"HG00609\"],[\"HG00609\"],[\"HG00609\"]],\"hovertemplate\":\"population_abbreviation=%{x}\\u003cbr\\u003ecoverage=%{y}\\u003cbr\\u003esample_id=%{customdata[0]}\\u003cextra\\u003e\\u003c\\u002fextra\\u003e\",\"legendgroup\":\"CHS\",\"marker\":{\"color\":\"#636efa\"},\"name\":\"CHS\",\"notched\":false,\"offsetgroup\":\"CHS\",\"orientation\":\"v\",\"showlegend\":true,\"x\":[\"CHS\",\"CHS\",\"CHS\",\"CHS\",\"CHS\",\"CHS\",\"CHS\",\"CHS\",\"CHS\",\"CHS\",\"CHS\",\"CHS\",\"CHS\",\"CHS\",\"CHS\",\"CHS\",\"CHS\",\"CHS\",\"CHS\",\"CHS\",\"CHS\",\"CHS\",\"CHS\",\"CHS\",\"CHS\",\"CHS\",\"CHS\",\"CHS\",\"CHS\",\"CHS\",\"CHS\",\"CHS\",\"CHS\",\"CHS\",\"CHS\",\"CHS\",\"CHS\",\"CHS\",\"CHS\",\"CHS\",\"CHS\",\"CHS\",\"CHS\",\"CHS\",\"CHS\"],\"x0\":\" \",\"xaxis\":\"x\",\"y\":[20.57,18.99,17.46,15.78,11.58,10.73,12.37,13.42,8.81,16.42,12.12,12.5,19.3,19.4,13.75,5.59,7.33,9.64,10.33,8.68,34.2,12.32,25.17,19.44,15.29,19.7,35.47,36.3,4.3,7.23,20.87,26.29,21.09,21.03,18.61,22.45,27.23,22.53,20.8,23.9,21.4,23.17,28.25,32.14,28.76],\"y0\":\" \",\"yaxis\":\"y\",\"type\":\"box\",\"hoverinfo\":\"none\"},{\"alignmentgroup\":\"True\",\"boxpoints\":\"all\",\"customdata\":[[\"HG01952\"],[\"HG01952\"],[\"HG02148\"],[\"HG02148\"],[\"HG01928\"],[\"HG01928\"],[\"HG01928\"],[\"HG01928\"],[\"HG01928\"],[\"HG01928\"],[\"HG01928\"],[\"HG01928\"],[\"HG01928\"],[\"HG01952\"],[\"HG01952\"],[\"HG01952\"],[\"HG01978\"],[\"HG01978\"],[\"HG01978\"],[\"HG01978\"],[\"HG01978\"],[\"HG01978\"],[\"HG01978\"],[\"HG01978\"],[\"HG01978\"],[\"HG02148\"],[\"HG02148\"],[\"HG02148\"],[\"HG01975\"],[\"HG01975\"],[\"HG01975\"],[\"HG02273\"],[\"HG02273\"],[\"HG02273\"],[\"HG01940\"],[\"HG01940\"],[\"HG01940\"],[\"HG01969\"],[\"HG01969\"],[\"HG01969\"],[\"HG01934\"],[\"HG01934\"],[\"HG01934\"],[\"HG01934\"],[\"HG01943\"],[\"HG01943\"],[\"HG01943\"],[\"HG01981\"],[\"HG01981\"],[\"HG01981\"],[\"HG01993\"],[\"HG01993\"],[\"HG01993\"],[\"HG02004\"],[\"HG02004\"],[\"HG02004\"],[\"HG02293\"],[\"HG02293\"],[\"HG02293\"],[\"HG02300\"],[\"HG02300\"],[\"HG02300\"]],\"hovertemplate\":\"population_abbreviation=%{x}\\u003cbr\\u003ecoverage=%{y}\\u003cbr\\u003esample_id=%{customdata[0]}\\u003cextra\\u003e\\u003c\\u002fextra\\u003e\",\"legendgroup\":\"PEL\",\"marker\":{\"color\":\"#EF553B\"},\"name\":\"PEL\",\"notched\":false,\"offsetgroup\":\"PEL\",\"orientation\":\"v\",\"showlegend\":true,\"x\":[\"PEL\",\"PEL\",\"PEL\",\"PEL\",\"PEL\",\"PEL\",\"PEL\",\"PEL\",\"PEL\",\"PEL\",\"PEL\",\"PEL\",\"PEL\",\"PEL\",\"PEL\",\"PEL\",\"PEL\",\"PEL\",\"PEL\",\"PEL\",\"PEL\",\"PEL\",\"PEL\",\"PEL\",\"PEL\",\"PEL\",\"PEL\",\"PEL\",\"PEL\",\"PEL\",\"PEL\",\"PEL\",\"PEL\",\"PEL\",\"PEL\",\"PEL\",\"PEL\",\"PEL\",\"PEL\",\"PEL\",\"PEL\",\"PEL\",\"PEL\",\"PEL\",\"PEL\",\"PEL\",\"PEL\",\"PEL\",\"PEL\",\"PEL\",\"PEL\",\"PEL\",\"PEL\",\"PEL\",\"PEL\",\"PEL\",\"PEL\",\"PEL\",\"PEL\",\"PEL\",\"PEL\",\"PEL\"],\"x0\":\" \",\"xaxis\":\"x\",\"y\":[24.65,24.03,21.02,26.33,2.03,4.82,9.83,15.72,14.6,13.39,16.55,15.09,12.18,9.23,3.58,11.37,5.12,14.47,11.79,14.77,8.84,12.67,12.27,10.67,18.42,6.02,4.93,4.33,33.07,22.43,22.93,20.93,25.46,21.61,27.88,25.97,21.6,13.87,27.65,18.7,26.3,2.75,27.69,18.86,27.02,15.07,20.55,17.09,24.49,20.99,24.6,35.76,34.76,35.45,31.24,17.74,28.51,30.04,33.18,17.64,25.98,19.23],\"y0\":\" \",\"yaxis\":\"y\",\"type\":\"box\",\"hoverinfo\":\"none\"},{\"alignmentgroup\":\"True\",\"boxpoints\":\"all\",\"customdata\":[[\"HG02572\"],[\"HG02572\"],[\"HG02622\"],[\"HG02622\"],[\"HG03540\"],[\"HG03540\"],[\"HG02630\"],[\"HG02630\"],[\"HG02886\"],[\"HG02886\"],[\"HG02572\"],[\"HG02572\"],[\"HG02572\"],[\"HG02622\"],[\"HG02622\"],[\"HG02622\"],[\"HG02630\"],[\"HG02630\"],[\"HG02630\"],[\"HG02717\"],[\"HG02717\"],[\"HG02717\"],[\"HG02717\"],[\"HG02717\"],[\"HG02717\"],[\"HG02717\"],[\"HG02717\"],[\"HG02717\"],[\"HG02886\"],[\"HG02886\"],[\"HG02886\"],[\"HG03540\"],[\"HG03540\"],[\"HG03540\"],[\"HG02583\"],[\"HG02583\"],[\"HG02583\"],[\"HG02583\"],[\"HG02583\"],[\"HG02583\"],[\"HG03041\"],[\"HG03041\"],[\"HG03041\"],[\"HG02841\"],[\"HG02841\"],[\"HG02841\"],[\"HG02984\"],[\"HG02984\"],[\"HG02984\"],[\"HG02984\"],[\"HG03050\"],[\"HG03050\"],[\"HG03050\"],[\"HG02809\"],[\"HG02809\"],[\"HG02809\"],[\"HG02615\"],[\"HG02615\"],[\"HG02615\"],[\"HG02647\"],[\"HG02647\"],[\"HG02647\"],[\"HG02647\"],[\"HG02668\"],[\"HG02668\"],[\"HG02668\"],[\"HG02818\"],[\"HG02818\"],[\"HG02818\"],[\"HG02723\"],[\"HG02723\"],[\"HG02723\"],[\"HG02723\"],[\"HG02723\"],[\"HG02723\"],[\"HG02723\"],[\"HG02723\"]],\"hovertemplate\":\"population_abbreviation=%{x}\\u003cbr\\u003ecoverage=%{y}\\u003cbr\\u003esample_id=%{customdata[0]}\\u003cextra\\u003e\\u003c\\u002fextra\\u003e\",\"legendgroup\":\"GWD\",\"marker\":{\"color\":\"#00cc96\"},\"name\":\"GWD\",\"notched\":false,\"offsetgroup\":\"GWD\",\"orientation\":\"v\",\"showlegend\":true,\"x\":[\"GWD\",\"GWD\",\"GWD\",\"GWD\",\"GWD\",\"GWD\",\"GWD\",\"GWD\",\"GWD\",\"GWD\",\"GWD\",\"GWD\",\"GWD\",\"GWD\",\"GWD\",\"GWD\",\"GWD\",\"GWD\",\"GWD\",\"GWD\",\"GWD\",\"GWD\",\"GWD\",\"GWD\",\"GWD\",\"GWD\",\"GWD\",\"GWD\",\"GWD\",\"GWD\",\"GWD\",\"GWD\",\"GWD\",\"GWD\",\"GWD\",\"GWD\",\"GWD\",\"GWD\",\"GWD\",\"GWD\",\"GWD\",\"GWD\",\"GWD\",\"GWD\",\"GWD\",\"GWD\",\"GWD\",\"GWD\",\"GWD\",\"GWD\",\"GWD\",\"GWD\",\"GWD\",\"GWD\",\"GWD\",\"GWD\",\"GWD\",\"GWD\",\"GWD\",\"GWD\",\"GWD\",\"GWD\",\"GWD\",\"GWD\",\"GWD\",\"GWD\",\"GWD\",\"GWD\",\"GWD\",\"GWD\",\"GWD\",\"GWD\",\"GWD\",\"GWD\",\"GWD\",\"GWD\",\"GWD\"],\"x0\":\" \",\"xaxis\":\"x\",\"y\":[20.7,30.13,23.6,26.24,19.56,28.57,24.68,34.99,20.24,16.83,4.22,5.87,3.0,4.1,4.6,3.06,1.04,5.88,9.54,2.37,9.09,10.89,11.04,16.69,15.91,15.01,13.8,12.8,9.84,10.72,6.44,6.77,11.83,2.71,0.55,26.39,0.3,25.26,0.33,26.61,20.27,21.83,17.31,19.14,13.88,26.51,30.86,23.24,10.6,6.65,23.24,15.72,21.59,14.81,22.52,25.53,27.9,29.54,11.35,10.77,17.51,19.22,3.5,16.56,21.05,16.41,18.16,18.45,29.14,21.24,15.05,19.11,27.85,30.8,26.22,21.57,13.4],\"y0\":\" \",\"yaxis\":\"y\",\"type\":\"box\",\"hoverinfo\":\"none\"},{\"alignmentgroup\":\"True\",\"boxpoints\":\"all\",\"customdata\":[[\"HG03453\"],[\"HG03453\"],[\"HG03471\"],[\"HG03471\"],[\"HG03453\"],[\"HG03453\"],[\"HG03453\"],[\"HG03471\"],[\"HG03471\"],[\"HG03471\"],[\"HG03579\"],[\"HG03579\"],[\"HG03579\"],[\"HG03579\"],[\"HG03579\"],[\"HG03579\"],[\"HG03579\"],[\"HG03579\"],[\"HG03579\"],[\"HG03583\"],[\"HG03583\"],[\"HG03583\"],[\"HG03209\"],[\"HG03209\"],[\"HG03209\"],[\"HG03225\"],[\"HG03225\"],[\"HG03225\"],[\"HG03470\"],[\"HG03470\"],[\"HG03470\"],[\"HG03098\"],[\"HG03098\"],[\"HG03098\"],[\"HG03098\"],[\"HG03098\"],[\"HG03098\"],[\"HG03486\"],[\"HG03486\"],[\"HG03486\"],[\"HG03098\"],[\"HG03098\"],[\"HG03098\"]],\"hovertemplate\":\"population_abbreviation=%{x}\\u003cbr\\u003ecoverage=%{y}\\u003cbr\\u003esample_id=%{customdata[0]}\\u003cextra\\u003e\\u003c\\u002fextra\\u003e\",\"legendgroup\":\"MSL\",\"marker\":{\"color\":\"#ab63fa\"},\"name\":\"MSL\",\"notched\":false,\"offsetgroup\":\"MSL\",\"orientation\":\"v\",\"showlegend\":true,\"x\":[\"MSL\",\"MSL\",\"MSL\",\"MSL\",\"MSL\",\"MSL\",\"MSL\",\"MSL\",\"MSL\",\"MSL\",\"MSL\",\"MSL\",\"MSL\",\"MSL\",\"MSL\",\"MSL\",\"MSL\",\"MSL\",\"MSL\",\"MSL\",\"MSL\",\"MSL\",\"MSL\",\"MSL\",\"MSL\",\"MSL\",\"MSL\",\"MSL\",\"MSL\",\"MSL\",\"MSL\",\"MSL\",\"MSL\",\"MSL\",\"MSL\",\"MSL\",\"MSL\",\"MSL\",\"MSL\",\"MSL\",\"MSL\",\"MSL\",\"MSL\"],\"x0\":\" \",\"xaxis\":\"x\",\"y\":[30.59,22.17,23.64,24.79,3.24,4.64,0.87,9.01,6.96,8.92,5.51,4.3,2.78,10.72,12.87,10.78,16.91,18.73,12.73,15.67,14.73,12.73,30.66,12.31,27.97,22.12,23.85,19.08,24.24,20.14,22.56,22.08,28.0,16.56,20.73,8.64,19.29,15.55,16.5,18.53,19.62,9.65,13.0],\"y0\":\" \",\"yaxis\":\"y\",\"type\":\"box\",\"hoverinfo\":\"none\"},{\"alignmentgroup\":\"True\",\"boxpoints\":\"all\",\"customdata\":[[\"HG00735\"],[\"HG00735\"],[\"HG00735\"],[\"HG00741\"],[\"HG00741\"],[\"HG01106\"],[\"HG01106\"],[\"HG01175\"],[\"HG01175\"],[\"HG00735\"],[\"HG00735\"],[\"HG00735\"],[\"HG00741\"],[\"HG00741\"],[\"HG00741\"],[\"HG01071\"],[\"HG01071\"],[\"HG01071\"],[\"HG01071\"],[\"HG01071\"],[\"HG01071\"],[\"HG01071\"],[\"HG01071\"],[\"HG01071\"],[\"HG01106\"],[\"HG01106\"],[\"HG01106\"],[\"HG01175\"],[\"HG01175\"],[\"HG01175\"],[\"HG01167\"],[\"HG01167\"],[\"HG01167\"],[\"HG00639\"],[\"HG00639\"],[\"HG00639\"],[\"HG01074\"],[\"HG01074\"],[\"HG01074\"],[\"HG01081\"],[\"HG01081\"],[\"HG01081\"],[\"HG01081\"],[\"HG01192\"],[\"HG01192\"],[\"HG01192\"],[\"HG00642\"],[\"HG00642\"],[\"HG00738\"],[\"HG00738\"],[\"HG00738\"],[\"HG01099\"],[\"HG01099\"],[\"HG01099\"],[\"HG00642\"],[\"HG01109\"],[\"HG01109\"],[\"HG01109\"],[\"HG01109\"],[\"HG01109\"],[\"HG01109\"],[\"HG01109\"],[\"HG01109\"],[\"HG01109\"],[\"HG01243\"],[\"HG01243\"],[\"HG01243\"],[\"HG00733\"],[\"HG00733\"],[\"HG00733\"]],\"hovertemplate\":\"population_abbreviation=%{x}\\u003cbr\\u003ecoverage=%{y}\\u003cbr\\u003esample_id=%{customdata[0]}\\u003cextra\\u003e\\u003c\\u002fextra\\u003e\",\"legendgroup\":\"PUR\",\"marker\":{\"color\":\"#FFA15A\"},\"name\":\"PUR\",\"notched\":false,\"offsetgroup\":\"PUR\",\"orientation\":\"v\",\"showlegend\":true,\"x\":[\"PUR\",\"PUR\",\"PUR\",\"PUR\",\"PUR\",\"PUR\",\"PUR\",\"PUR\",\"PUR\",\"PUR\",\"PUR\",\"PUR\",\"PUR\",\"PUR\",\"PUR\",\"PUR\",\"PUR\",\"PUR\",\"PUR\",\"PUR\",\"PUR\",\"PUR\",\"PUR\",\"PUR\",\"PUR\",\"PUR\",\"PUR\",\"PUR\",\"PUR\",\"PUR\",\"PUR\",\"PUR\",\"PUR\",\"PUR\",\"PUR\",\"PUR\",\"PUR\",\"PUR\",\"PUR\",\"PUR\",\"PUR\",\"PUR\",\"PUR\",\"PUR\",\"PUR\",\"PUR\",\"PUR\",\"PUR\",\"PUR\",\"PUR\",\"PUR\",\"PUR\",\"PUR\",\"PUR\",\"PUR\",\"PUR\",\"PUR\",\"PUR\",\"PUR\",\"PUR\",\"PUR\",\"PUR\",\"PUR\",\"PUR\",\"PUR\",\"PUR\",\"PUR\",\"PUR\",\"PUR\",\"PUR\"],\"x0\":\" \",\"xaxis\":\"x\",\"y\":[20.58,13.91,5.29,21.22,22.77,21.29,17.67,20.25,19.27,7.36,10.58,8.62,12.59,13.8,11.28,8.74,12.7,11.66,19.21,18.73,16.17,20.02,12.19,14.07,8.12,13.01,10.79,12.55,13.49,10.49,23.13,20.12,23.42,30.82,29.42,25.53,25.76,27.95,23.5,13.51,28.32,28.68,30.17,19.78,13.78,16.31,20.8,27.68,27.9,23.78,26.69,24.09,25.55,19.9,18.35,14.84,13.2,20.63,17.17,17.05,18.44,18.39,19.64,17.74,17.89,19.63,11.04,14.81,22.24,21.35],\"y0\":\" \",\"yaxis\":\"y\",\"type\":\"box\",\"hoverinfo\":\"none\"},{\"alignmentgroup\":\"True\",\"boxpoints\":\"all\",\"customdata\":[[\"HG01123\"],[\"HG01123\"],[\"HG01258\"],[\"HG01258\"],[\"HG01358\"],[\"HG01358\"],[\"HG01361\"],[\"HG01361\"],[\"HG01123\"],[\"HG01123\"],[\"HG01123\"],[\"HG01258\"],[\"HG01258\"],[\"HG01258\"],[\"HG01358\"],[\"HG01358\"],[\"HG01358\"],[\"HG01361\"],[\"HG01361\"],[\"HG01361\"],[\"HG01361\"],[\"HG01361\"],[\"HG01361\"],[\"HG01361\"],[\"HG01361\"],[\"HG01361\"],[\"HG01261\"],[\"HG01261\"],[\"HG01261\"],[\"HG01252\"],[\"HG01252\"],[\"HG01252\"],[\"HG01150\"],[\"HG01150\"],[\"HG01150\"],[\"HG01255\"],[\"HG01255\"],[\"HG01255\"],[\"HG01346\"],[\"HG01346\"],[\"HG01346\"],[\"HG01433\"],[\"HG01433\"],[\"HG01433\"],[\"HG01496\"],[\"HG01496\"],[\"HG01496\"]],\"hovertemplate\":\"population_abbreviation=%{x}\\u003cbr\\u003ecoverage=%{y}\\u003cbr\\u003esample_id=%{customdata[0]}\\u003cextra\\u003e\\u003c\\u002fextra\\u003e\",\"legendgroup\":\"CLM\",\"marker\":{\"color\":\"#19d3f3\"},\"name\":\"CLM\",\"notched\":false,\"offsetgroup\":\"CLM\",\"orientation\":\"v\",\"showlegend\":true,\"x\":[\"CLM\",\"CLM\",\"CLM\",\"CLM\",\"CLM\",\"CLM\",\"CLM\",\"CLM\",\"CLM\",\"CLM\",\"CLM\",\"CLM\",\"CLM\",\"CLM\",\"CLM\",\"CLM\",\"CLM\",\"CLM\",\"CLM\",\"CLM\",\"CLM\",\"CLM\",\"CLM\",\"CLM\",\"CLM\",\"CLM\",\"CLM\",\"CLM\",\"CLM\",\"CLM\",\"CLM\",\"CLM\",\"CLM\",\"CLM\",\"CLM\",\"CLM\",\"CLM\",\"CLM\",\"CLM\",\"CLM\",\"CLM\",\"CLM\",\"CLM\",\"CLM\",\"CLM\",\"CLM\",\"CLM\"],\"x0\":\" \",\"xaxis\":\"x\",\"y\":[20.14,17.71,17.62,16.31,15.58,19.04,19.22,19.49,7.49,7.16,7.35,5.46,5.06,4.99,2.54,8.76,2.28,12.67,9.34,3.13,23.83,8.05,8.75,14.21,9.25,12.52,17.26,25.85,23.28,14.1,15.07,18.36,29.48,27.99,26.75,18.71,26.75,32.19,14.92,30.15,27.58,31.67,24.79,24.54,33.69,29.57,17.85],\"y0\":\" \",\"yaxis\":\"y\",\"type\":\"box\",\"hoverinfo\":\"none\"},{\"alignmentgroup\":\"True\",\"boxpoints\":\"all\",\"customdata\":[[\"HG01891\"],[\"HG01891\"],[\"HG02257\"],[\"HG02257\"],[\"HG02486\"],[\"HG02486\"],[\"HG02559\"],[\"HG02559\"],[\"HG01891\"],[\"HG01891\"],[\"HG01891\"],[\"HG02257\"],[\"HG02257\"],[\"HG02257\"],[\"HG02486\"],[\"HG02486\"],[\"HG02486\"],[\"HG02559\"],[\"HG02559\"],[\"HG02559\"],[\"HG02559\"],[\"HG02258\"],[\"HG02258\"],[\"HG02258\"],[\"HG02258\"],[\"HG01960\"],[\"HG01960\"],[\"HG01960\"],[\"HG01960\"],[\"HG01884\"],[\"HG01884\"],[\"HG01884\"],[\"HG02280\"],[\"HG02280\"],[\"HG02280\"],[\"HG02451\"],[\"HG02451\"],[\"HG02451\"],[\"HG02145\"],[\"HG02145\"],[\"HG02145\"],[\"HG02145\"],[\"HG02145\"],[\"HG02145\"],[\"HG02055\"],[\"HG02055\"],[\"HG02055\"],[\"HG02055\"],[\"HG02055\"],[\"HG02055\"],[\"HG02055\"],[\"HG02055\"],[\"HG02055\"],[\"HG02109\"],[\"HG02109\"],[\"HG02109\"],[\"HG02109\"],[\"HG02109\"],[\"HG02109\"],[\"HG02109\"],[\"HG02109\"],[\"HG02109\"],[\"HG02109\"],[\"HG02055\"],[\"HG02055\"],[\"HG02055\"]],\"hovertemplate\":\"population_abbreviation=%{x}\\u003cbr\\u003ecoverage=%{y}\\u003cbr\\u003esample_id=%{customdata[0]}\\u003cextra\\u003e\\u003c\\u002fextra\\u003e\",\"legendgroup\":\"ACB\",\"marker\":{\"color\":\"#FF6692\"},\"name\":\"ACB\",\"notched\":false,\"offsetgroup\":\"ACB\",\"orientation\":\"v\",\"showlegend\":true,\"x\":[\"ACB\",\"ACB\",\"ACB\",\"ACB\",\"ACB\",\"ACB\",\"ACB\",\"ACB\",\"ACB\",\"ACB\",\"ACB\",\"ACB\",\"ACB\",\"ACB\",\"ACB\",\"ACB\",\"ACB\",\"ACB\",\"ACB\",\"ACB\",\"ACB\",\"ACB\",\"ACB\",\"ACB\",\"ACB\",\"ACB\",\"ACB\",\"ACB\",\"ACB\",\"ACB\",\"ACB\",\"ACB\",\"ACB\",\"ACB\",\"ACB\",\"ACB\",\"ACB\",\"ACB\",\"ACB\",\"ACB\",\"ACB\",\"ACB\",\"ACB\",\"ACB\",\"ACB\",\"ACB\",\"ACB\",\"ACB\",\"ACB\",\"ACB\",\"ACB\",\"ACB\",\"ACB\",\"ACB\",\"ACB\",\"ACB\",\"ACB\",\"ACB\",\"ACB\",\"ACB\",\"ACB\",\"ACB\",\"ACB\",\"ACB\",\"ACB\",\"ACB\"],\"x0\":\" \",\"xaxis\":\"x\",\"y\":[20.25,19.59,14.12,15.57,17.68,17.07,22.77,20.56,4.81,9.76,13.64,5.5,6.1,3.5,11.37,4.65,8.31,3.4,2.54,5.76,3.71,21.45,14.49,7.85,5.94,10.74,27.99,7.31,3.06,20.44,20.0,13.89,20.02,34.64,12.1,12.08,18.9,18.95,19.86,15.36,9.72,24.16,13.45,24.04,22.62,16.24,11.6,19.3,25.59,20.28,18.52,22.03,19.39,24.43,21.52,19.18,21.51,21.0,19.52,24.14,20.87,17.85,19.31,16.72,18.19,17.69],\"y0\":\" \",\"yaxis\":\"y\",\"type\":\"box\",\"hoverinfo\":\"none\"},{\"alignmentgroup\":\"True\",\"boxpoints\":\"all\",\"customdata\":[[\"HG03516\"],[\"HG03516\"],[\"HG03516\"],[\"HG03516\"],[\"HG03516\"],[\"HG03516\"],[\"HG03516\"],[\"HG03516\"],[\"HG03516\"],[\"HG03369\"],[\"HG03369\"],[\"HG03369\"],[\"HG03270\"],[\"HG03270\"],[\"HG03270\"],[\"HG03270\"],[\"HG03521\"],[\"HG03521\"],[\"HG03521\"],[\"HG02922\"],[\"HG02922\"],[\"HG02922\"],[\"HG02965\"],[\"HG02965\"],[\"HG02965\"],[\"HG02976\"],[\"HG02976\"],[\"HG02976\"],[\"HG03130\"],[\"HG03130\"],[\"HG03130\"],[\"HG03139\"],[\"HG03139\"],[\"HG03139\"],[\"HG03195\"],[\"HG03195\"],[\"HG03195\"],[\"HG03195\"]],\"hovertemplate\":\"population_abbreviation=%{x}\\u003cbr\\u003ecoverage=%{y}\\u003cbr\\u003esample_id=%{customdata[0]}\\u003cextra\\u003e\\u003c\\u002fextra\\u003e\",\"legendgroup\":\"ESN\",\"marker\":{\"color\":\"#B6E880\"},\"name\":\"ESN\",\"notched\":false,\"offsetgroup\":\"ESN\",\"orientation\":\"v\",\"showlegend\":true,\"x\":[\"ESN\",\"ESN\",\"ESN\",\"ESN\",\"ESN\",\"ESN\",\"ESN\",\"ESN\",\"ESN\",\"ESN\",\"ESN\",\"ESN\",\"ESN\",\"ESN\",\"ESN\",\"ESN\",\"ESN\",\"ESN\",\"ESN\",\"ESN\",\"ESN\",\"ESN\",\"ESN\",\"ESN\",\"ESN\",\"ESN\",\"ESN\",\"ESN\",\"ESN\",\"ESN\",\"ESN\",\"ESN\",\"ESN\",\"ESN\",\"ESN\",\"ESN\",\"ESN\",\"ESN\"],\"x0\":\" \",\"xaxis\":\"x\",\"y\":[10.45,12.86,13.36,12.69,16.85,13.58,17.37,11.38,17.63,18.39,20.51,18.27,7.02,19.8,24.63,22.36,30.56,30.42,25.97,31.01,30.97,25.39,20.1,24.55,20.94,20.37,21.79,21.7,19.62,16.12,23.12,18.61,20.48,18.56,7.34,9.83,20.17,10.21],\"y0\":\" \",\"yaxis\":\"y\",\"type\":\"box\",\"hoverinfo\":\"none\"},{\"alignmentgroup\":\"True\",\"boxpoints\":\"all\",\"customdata\":[[\"NA19036\"],[\"NA19036\"],[\"NA19036\"],[\"NA19036\"],[\"NA19036\"],[\"NA19036\"],[\"NA19443\"],[\"NA19443\"],[\"NA19443\"],[\"NA19443\"],[\"NA19443\"],[\"NA19043\"],[\"NA19043\"],[\"NA19043\"],[\"NA19043\"],[\"NA19338\"],[\"NA19338\"],[\"NA19338\"],[\"NA19391\"],[\"NA19391\"],[\"NA19391\"],[\"NA19468\"],[\"NA19468\"],[\"NA19468\"]],\"hovertemplate\":\"population_abbreviation=%{x}\\u003cbr\\u003ecoverage=%{y}\\u003cbr\\u003esample_id=%{customdata[0]}\\u003cextra\\u003e\\u003c\\u002fextra\\u003e\",\"legendgroup\":\"LWK\",\"marker\":{\"color\":\"#FF97FF\"},\"name\":\"LWK\",\"notched\":false,\"offsetgroup\":\"LWK\",\"orientation\":\"v\",\"showlegend\":true,\"x\":[\"LWK\",\"LWK\",\"LWK\",\"LWK\",\"LWK\",\"LWK\",\"LWK\",\"LWK\",\"LWK\",\"LWK\",\"LWK\",\"LWK\",\"LWK\",\"LWK\",\"LWK\",\"LWK\",\"LWK\",\"LWK\",\"LWK\",\"LWK\",\"LWK\",\"LWK\",\"LWK\",\"LWK\"],\"x0\":\" \",\"xaxis\":\"x\",\"y\":[14.55,9.55,16.52,10.7,21.29,18.93,8.73,21.44,10.32,18.0,11.36,2.37,21.36,20.83,17.89,20.21,25.57,19.54,27.12,29.12,25.63,26.98,25.61,25.57],\"y0\":\" \",\"yaxis\":\"y\",\"type\":\"box\",\"hoverinfo\":\"none\"},{\"alignmentgroup\":\"True\",\"boxpoints\":\"all\",\"customdata\":[[\"HG00321\"],[\"HG00321\"],[\"HG00321\"],[\"HG00321\"],[\"HG00321\"],[\"HG00321\"],[\"HG00290\"],[\"HG00290\"],[\"HG00290\"],[\"HG00290\"],[\"HG00290\"],[\"HG00350\"],[\"HG00350\"],[\"HG00350\"],[\"HG00344\"],[\"HG00344\"],[\"HG00344\"],[\"HG00320\"],[\"HG00320\"],[\"HG00320\"],[\"HG00272\"],[\"HG00272\"],[\"HG00272\"],[\"HG00329\"],[\"HG00329\"],[\"HG00329\"],[\"HG00280\"],[\"HG00280\"],[\"HG00280\"],[\"HG00323\"],[\"HG00323\"],[\"HG00323\"]],\"hovertemplate\":\"population_abbreviation=%{x}\\u003cbr\\u003ecoverage=%{y}\\u003cbr\\u003esample_id=%{customdata[0]}\\u003cextra\\u003e\\u003c\\u002fextra\\u003e\",\"legendgroup\":\"FIN\",\"marker\":{\"color\":\"#FECB52\"},\"name\":\"FIN\",\"notched\":false,\"offsetgroup\":\"FIN\",\"orientation\":\"v\",\"showlegend\":true,\"x\":[\"FIN\",\"FIN\",\"FIN\",\"FIN\",\"FIN\",\"FIN\",\"FIN\",\"FIN\",\"FIN\",\"FIN\",\"FIN\",\"FIN\",\"FIN\",\"FIN\",\"FIN\",\"FIN\",\"FIN\",\"FIN\",\"FIN\",\"FIN\",\"FIN\",\"FIN\",\"FIN\",\"FIN\",\"FIN\",\"FIN\",\"FIN\",\"FIN\",\"FIN\",\"FIN\",\"FIN\",\"FIN\"],\"x0\":\" \",\"xaxis\":\"x\",\"y\":[0.52,0.9,23.82,1.0,24.83,25.81,26.02,14.16,15.95,22.37,15.76,26.78,29.91,23.46,19.17,16.06,15.54,25.12,26.7,25.62,19.93,18.7,23.68,25.05,34.92,30.68,22.12,18.91,18.81,17.7,22.04,21.11],\"y0\":\" \",\"yaxis\":\"y\",\"type\":\"box\",\"hoverinfo\":\"none\"},{\"alignmentgroup\":\"True\",\"boxpoints\":\"all\",\"customdata\":[[\"NA18565\"],[\"NA18565\"],[\"NA18565\"],[\"NA18565\"],[\"NA18565\"],[\"NA18565\"],[\"NA18608\"],[\"NA18608\"],[\"NA18608\"],[\"NA18620\"],[\"NA18620\"],[\"NA18620\"],[\"NA18620\"],[\"NA18620\"],[\"NA18620\"],[\"NA18747\"],[\"NA18747\"],[\"NA18747\"],[\"NA18570\"],[\"NA18570\"],[\"NA18570\"]],\"hovertemplate\":\"population_abbreviation=%{x}\\u003cbr\\u003ecoverage=%{y}\\u003cbr\\u003esample_id=%{customdata[0]}\\u003cextra\\u003e\\u003c\\u002fextra\\u003e\",\"legendgroup\":\"CHB\",\"marker\":{\"color\":\"#636efa\"},\"name\":\"CHB\",\"notched\":false,\"offsetgroup\":\"CHB\",\"orientation\":\"v\",\"showlegend\":true,\"x\":[\"CHB\",\"CHB\",\"CHB\",\"CHB\",\"CHB\",\"CHB\",\"CHB\",\"CHB\",\"CHB\",\"CHB\",\"CHB\",\"CHB\",\"CHB\",\"CHB\",\"CHB\",\"CHB\",\"CHB\",\"CHB\",\"CHB\",\"CHB\",\"CHB\"],\"x0\":\" \",\"xaxis\":\"x\",\"y\":[0.6,17.99,0.35,18.51,0.35,21.76,29.07,26.14,21.59,23.06,2.2,27.46,24.25,0.85,0.87,24.51,26.08,24.53,23.54,23.88,18.8],\"y0\":\" \",\"yaxis\":\"y\",\"type\":\"box\",\"hoverinfo\":\"none\"},{\"alignmentgroup\":\"True\",\"boxpoints\":\"all\",\"customdata\":[[\"NA21110\"],[\"NA21110\"],[\"NA21110\"],[\"NA20870\"],[\"NA20870\"],[\"NA20870\"],[\"NA21093\"],[\"NA21093\"],[\"NA21093\"],[\"NA21093\"],[\"NA20850\"],[\"NA20850\"],[\"NA20850\"],[\"NA21102\"],[\"NA21102\"],[\"NA21102\"],[\"NA21102\"],[\"NA21102\"],[\"NA21106\"],[\"NA21106\"],[\"NA21106\"],[\"NA21106\"],[\"NA21144\"],[\"NA21144\"],[\"NA21144\"],[\"NA21144\"],[\"NA21144\"],[\"NA20905\"],[\"NA20905\"],[\"NA20905\"]],\"hovertemplate\":\"population_abbreviation=%{x}\\u003cbr\\u003ecoverage=%{y}\\u003cbr\\u003esample_id=%{customdata[0]}\\u003cextra\\u003e\\u003c\\u002fextra\\u003e\",\"legendgroup\":\"GIH\",\"marker\":{\"color\":\"#EF553B\"},\"name\":\"GIH\",\"notched\":false,\"offsetgroup\":\"GIH\",\"orientation\":\"v\",\"showlegend\":true,\"x\":[\"GIH\",\"GIH\",\"GIH\",\"GIH\",\"GIH\",\"GIH\",\"GIH\",\"GIH\",\"GIH\",\"GIH\",\"GIH\",\"GIH\",\"GIH\",\"GIH\",\"GIH\",\"GIH\",\"GIH\",\"GIH\",\"GIH\",\"GIH\",\"GIH\",\"GIH\",\"GIH\",\"GIH\",\"GIH\",\"GIH\",\"GIH\",\"GIH\",\"GIH\",\"GIH\"],\"x0\":\" \",\"xaxis\":\"x\",\"y\":[26.17,24.74,30.01,28.34,28.15,22.78,17.03,28.97,24.21,26.34,20.76,20.89,22.3,17.81,7.47,18.45,9.12,6.93,20.94,5.32,24.08,27.32,10.12,21.7,13.14,21.67,12.4,21.22,19.23,20.1],\"y0\":\" \",\"yaxis\":\"y\",\"type\":\"box\",\"hoverinfo\":\"none\"},{\"alignmentgroup\":\"True\",\"boxpoints\":\"all\",\"customdata\":[[\"NA19682\"],[\"NA19682\"],[\"NA19682\"],[\"NA19682\"],[\"NA19776\"],[\"NA19776\"],[\"NA19776\"]],\"hovertemplate\":\"population_abbreviation=%{x}\\u003cbr\\u003ecoverage=%{y}\\u003cbr\\u003esample_id=%{customdata[0]}\\u003cextra\\u003e\\u003c\\u002fextra\\u003e\",\"legendgroup\":\"MXL\",\"marker\":{\"color\":\"#00cc96\"},\"name\":\"MXL\",\"notched\":false,\"offsetgroup\":\"MXL\",\"orientation\":\"v\",\"showlegend\":true,\"x\":[\"MXL\",\"MXL\",\"MXL\",\"MXL\",\"MXL\",\"MXL\",\"MXL\"],\"x0\":\" \",\"xaxis\":\"x\",\"y\":[18.46,31.36,27.66,9.34,31.98,29.92,28.77],\"y0\":\" \",\"yaxis\":\"y\",\"type\":\"box\",\"hoverinfo\":\"none\"},{\"alignmentgroup\":\"True\",\"boxpoints\":\"all\",\"customdata\":[[\"HG00235\"],[\"HG00235\"],[\"HG00235\"],[\"HG00235\"],[\"HG00235\"],[\"HG00235\"],[\"HG00235\"],[\"HG00097\"],[\"HG00097\"],[\"HG00097\"],[\"HG00232\"],[\"HG00232\"],[\"HG00232\"],[\"HG00232\"],[\"HG00232\"],[\"HG00232\"],[\"HG00232\"],[\"HG00232\"],[\"HG00146\"],[\"HG00146\"],[\"HG00146\"],[\"HG00146\"],[\"HG00146\"],[\"HG00146\"],[\"HG00128\"],[\"HG00128\"],[\"HG00128\"],[\"HG00126\"],[\"HG00126\"],[\"HG00126\"],[\"HG00133\"],[\"HG00133\"],[\"HG00133\"],[\"HG00253\"],[\"HG00253\"],[\"HG00253\"],[\"HG00253\"],[\"HG00253\"],[\"HG00253\"],[\"HG00099\"],[\"HG00099\"],[\"HG00099\"],[\"HG00140\"],[\"HG00140\"],[\"HG00140\"]],\"hovertemplate\":\"population_abbreviation=%{x}\\u003cbr\\u003ecoverage=%{y}\\u003cbr\\u003esample_id=%{customdata[0]}\\u003cextra\\u003e\\u003c\\u002fextra\\u003e\",\"legendgroup\":\"GBR\",\"marker\":{\"color\":\"#ab63fa\"},\"name\":\"GBR\",\"notched\":false,\"offsetgroup\":\"GBR\",\"orientation\":\"v\",\"showlegend\":true,\"x\":[\"GBR\",\"GBR\",\"GBR\",\"GBR\",\"GBR\",\"GBR\",\"GBR\",\"GBR\",\"GBR\",\"GBR\",\"GBR\",\"GBR\",\"GBR\",\"GBR\",\"GBR\",\"GBR\",\"GBR\",\"GBR\",\"GBR\",\"GBR\",\"GBR\",\"GBR\",\"GBR\",\"GBR\",\"GBR\",\"GBR\",\"GBR\",\"GBR\",\"GBR\",\"GBR\",\"GBR\",\"GBR\",\"GBR\",\"GBR\",\"GBR\",\"GBR\",\"GBR\",\"GBR\",\"GBR\",\"GBR\",\"GBR\",\"GBR\",\"GBR\",\"GBR\",\"GBR\"],\"x0\":\" \",\"xaxis\":\"x\",\"y\":[23.78,13.87,5.26,23.41,4.73,15.67,4.32,21.08,18.14,17.87,19.87,16.29,4.31,12.39,19.26,14.17,4.11,1.6,13.63,11.42,10.58,15.05,13.39,11.92,19.34,22.03,18.15,24.61,23.61,22.72,22.09,21.87,22.0,3.88,24.8,23.65,1.67,22.02,3.38,19.41,19.1,20.27,24.21,26.01,22.65],\"y0\":\" \",\"yaxis\":\"y\",\"type\":\"box\",\"hoverinfo\":\"none\"},{\"alignmentgroup\":\"True\",\"boxpoints\":\"all\",\"customdata\":[[\"NA19835\"],[\"NA19835\"],[\"NA19835\"],[\"NA19909\"],[\"NA19909\"],[\"NA19909\"],[\"NA20346\"],[\"NA20346\"],[\"NA20346\"],[\"NA20346\"],[\"NA19700\"],[\"NA19700\"],[\"NA19700\"],[\"NA19700\"],[\"NA19700\"],[\"NA19700\"],[\"NA20282\"],[\"NA20282\"],[\"NA20282\"],[\"NA20129\"],[\"NA20129\"],[\"NA20129\"]],\"hovertemplate\":\"population_abbreviation=%{x}\\u003cbr\\u003ecoverage=%{y}\\u003cbr\\u003esample_id=%{customdata[0]}\\u003cextra\\u003e\\u003c\\u002fextra\\u003e\",\"legendgroup\":\"ASW\",\"marker\":{\"color\":\"#FFA15A\"},\"name\":\"ASW\",\"notched\":false,\"offsetgroup\":\"ASW\",\"orientation\":\"v\",\"showlegend\":true,\"x\":[\"ASW\",\"ASW\",\"ASW\",\"ASW\",\"ASW\",\"ASW\",\"ASW\",\"ASW\",\"ASW\",\"ASW\",\"ASW\",\"ASW\",\"ASW\",\"ASW\",\"ASW\",\"ASW\",\"ASW\",\"ASW\",\"ASW\",\"ASW\",\"ASW\",\"ASW\"],\"x0\":\" \",\"xaxis\":\"x\",\"y\":[25.09,25.75,32.12,24.66,28.6,26.61,29.86,30.16,10.88,16.45,7.87,8.02,16.09,10.59,3.27,15.86,22.21,19.57,26.62,29.4,18.43,26.75],\"y0\":\" \",\"yaxis\":\"y\",\"type\":\"box\",\"hoverinfo\":\"none\"},{\"alignmentgroup\":\"True\",\"boxpoints\":\"all\",\"customdata\":[[\"NA20762\"],[\"NA20762\"],[\"NA20762\"],[\"NA20762\"],[\"NA20762\"],[\"NA20809\"],[\"NA20809\"],[\"NA20809\"],[\"NA20806\"],[\"NA20806\"],[\"NA20806\"],[\"NA20806\"],[\"NA20827\"],[\"NA20827\"],[\"NA20827\"],[\"NA20827\"],[\"NA20827\"],[\"NA20503\"],[\"NA20503\"],[\"NA20503\"],[\"NA20752\"],[\"NA20752\"],[\"NA20752\"],[\"NA20805\"],[\"NA20805\"],[\"NA20805\"],[\"NA20805\"],[\"NA20799\"],[\"NA20799\"],[\"NA20799\"]],\"hovertemplate\":\"population_abbreviation=%{x}\\u003cbr\\u003ecoverage=%{y}\\u003cbr\\u003esample_id=%{customdata[0]}\\u003cextra\\u003e\\u003c\\u002fextra\\u003e\",\"legendgroup\":\"TSI\",\"marker\":{\"color\":\"#19d3f3\"},\"name\":\"TSI\",\"notched\":false,\"offsetgroup\":\"TSI\",\"orientation\":\"v\",\"showlegend\":true,\"x\":[\"TSI\",\"TSI\",\"TSI\",\"TSI\",\"TSI\",\"TSI\",\"TSI\",\"TSI\",\"TSI\",\"TSI\",\"TSI\",\"TSI\",\"TSI\",\"TSI\",\"TSI\",\"TSI\",\"TSI\",\"TSI\",\"TSI\",\"TSI\",\"TSI\",\"TSI\",\"TSI\",\"TSI\",\"TSI\",\"TSI\",\"TSI\",\"TSI\",\"TSI\",\"TSI\"],\"x0\":\" \",\"xaxis\":\"x\",\"y\":[25.39,7.16,7.94,26.01,8.55,20.29,25.89,23.75,29.73,22.78,15.32,27.71,18.95,15.83,8.87,21.56,19.42,21.8,19.42,22.0,27.2,27.2,24.53,5.16,18.88,15.28,10.11,23.77,12.85,21.72],\"y0\":\" \",\"yaxis\":\"y\",\"type\":\"box\",\"hoverinfo\":\"none\"},{\"alignmentgroup\":\"True\",\"boxpoints\":\"all\",\"customdata\":[[\"HG03874\"],[\"HG03874\"],[\"HG03874\"],[\"HG03874\"],[\"HG03874\"],[\"HG03784\"],[\"HG03784\"],[\"HG03784\"],[\"HG03742\"],[\"HG03742\"],[\"HG03742\"]],\"hovertemplate\":\"population_abbreviation=%{x}\\u003cbr\\u003ecoverage=%{y}\\u003cbr\\u003esample_id=%{customdata[0]}\\u003cextra\\u003e\\u003c\\u002fextra\\u003e\",\"legendgroup\":\"ITU\",\"marker\":{\"color\":\"#FF6692\"},\"name\":\"ITU\",\"notched\":false,\"offsetgroup\":\"ITU\",\"orientation\":\"v\",\"showlegend\":true,\"x\":[\"ITU\",\"ITU\",\"ITU\",\"ITU\",\"ITU\",\"ITU\",\"ITU\",\"ITU\",\"ITU\",\"ITU\",\"ITU\"],\"x0\":\" \",\"xaxis\":\"x\",\"y\":[19.22,3.6,17.12,20.1,24.35,20.5,16.79,20.13,20.24,20.4,19.25],\"y0\":\" \",\"yaxis\":\"y\",\"type\":\"box\",\"hoverinfo\":\"none\"},{\"alignmentgroup\":\"True\",\"boxpoints\":\"all\",\"customdata\":[[\"NA18508\"],[\"NA18508\"],[\"NA18508\"],[\"NA18505\"],[\"NA18505\"],[\"NA18505\"],[\"NA18505\"],[\"NA18879\"],[\"NA18879\"],[\"NA18879\"],[\"NA18522\"],[\"NA18522\"],[\"NA18522\"],[\"NA19159\"],[\"NA19159\"],[\"NA19159\"],[\"NA19185\"],[\"NA19185\"],[\"NA19185\"],[\"NA18906\"],[\"NA18906\"],[\"NA18906\"],[\"NA19240\"],[\"NA19240\"],[\"NA19240\"]],\"hovertemplate\":\"population_abbreviation=%{x}\\u003cbr\\u003ecoverage=%{y}\\u003cbr\\u003esample_id=%{customdata[0]}\\u003cextra\\u003e\\u003c\\u002fextra\\u003e\",\"legendgroup\":\"YRI\",\"marker\":{\"color\":\"#B6E880\"},\"name\":\"YRI\",\"notched\":false,\"offsetgroup\":\"YRI\",\"orientation\":\"v\",\"showlegend\":true,\"x\":[\"YRI\",\"YRI\",\"YRI\",\"YRI\",\"YRI\",\"YRI\",\"YRI\",\"YRI\",\"YRI\",\"YRI\",\"YRI\",\"YRI\",\"YRI\",\"YRI\",\"YRI\",\"YRI\",\"YRI\",\"YRI\",\"YRI\",\"YRI\",\"YRI\",\"YRI\",\"YRI\",\"YRI\",\"YRI\"],\"x0\":\" \",\"xaxis\":\"x\",\"y\":[23.89,28.38,27.43,5.54,24.02,33.45,17.42,18.49,17.84,18.34,23.22,29.67,16.12,21.16,18.43,16.74,18.49,16.96,19.07,18.89,21.15,21.7,24.97,23.97,25.0],\"y0\":\" \",\"yaxis\":\"y\",\"type\":\"box\",\"hoverinfo\":\"none\"},{\"alignmentgroup\":\"True\",\"boxpoints\":\"all\",\"customdata\":[[\"NA18952\"],[\"NA18952\"],[\"NA18952\"],[\"NA18974\"],[\"NA18974\"],[\"NA18974\"],[\"NA18974\"],[\"NA18976\"],[\"NA18976\"],[\"NA18976\"],[\"NA18971\"],[\"NA18971\"],[\"NA18971\"],[\"NA18983\"],[\"NA18983\"],[\"NA18983\"],[\"NA19087\"],[\"NA19087\"],[\"NA19087\"],[\"NA18948\"],[\"NA18948\"],[\"NA18959\"],[\"NA18959\"],[\"NA18959\"],[\"NA18960\"],[\"NA18960\"],[\"NA18960\"],[\"NA18967\"],[\"NA18967\"],[\"NA18967\"],[\"NA18967\"],[\"NA18970\"],[\"NA18970\"],[\"NA18970\"],[\"NA18982\"],[\"NA18982\"],[\"NA18982\"],[\"NA18982\"],[\"NA18940\"],[\"NA18940\"],[\"NA18940\"],[\"NA18943\"],[\"NA18943\"],[\"NA18943\"],[\"NA18944\"],[\"NA18944\"],[\"NA18944\"],[\"NA18945\"],[\"NA18945\"],[\"NA18945\"],[\"NA18945\"],[\"NA18948\"],[\"NA18948\"],[\"NA18948\"],[\"NA18940\"],[\"NA18943\"],[\"NA18943\"],[\"NA18943\"],[\"NA18943\"],[\"NA18944\"],[\"NA18945\"],[\"NA18945\"],[\"NA18945\"]],\"hovertemplate\":\"population_abbreviation=%{x}\\u003cbr\\u003ecoverage=%{y}\\u003cbr\\u003esample_id=%{customdata[0]}\\u003cextra\\u003e\\u003c\\u002fextra\\u003e\",\"legendgroup\":\"JPT\",\"marker\":{\"color\":\"#FF97FF\"},\"name\":\"JPT\",\"notched\":false,\"offsetgroup\":\"JPT\",\"orientation\":\"v\",\"showlegend\":true,\"x\":[\"JPT\",\"JPT\",\"JPT\",\"JPT\",\"JPT\",\"JPT\",\"JPT\",\"JPT\",\"JPT\",\"JPT\",\"JPT\",\"JPT\",\"JPT\",\"JPT\",\"JPT\",\"JPT\",\"JPT\",\"JPT\",\"JPT\",\"JPT\",\"JPT\",\"JPT\",\"JPT\",\"JPT\",\"JPT\",\"JPT\",\"JPT\",\"JPT\",\"JPT\",\"JPT\",\"JPT\",\"JPT\",\"JPT\",\"JPT\",\"JPT\",\"JPT\",\"JPT\",\"JPT\",\"JPT\",\"JPT\",\"JPT\",\"JPT\",\"JPT\",\"JPT\",\"JPT\",\"JPT\",\"JPT\",\"JPT\",\"JPT\",\"JPT\",\"JPT\",\"JPT\",\"JPT\",\"JPT\",\"JPT\",\"JPT\",\"JPT\",\"JPT\",\"JPT\",\"JPT\",\"JPT\",\"JPT\",\"JPT\"],\"x0\":\" \",\"xaxis\":\"x\",\"y\":[26.48,25.49,24.09,13.3,27.71,19.03,25.16,16.97,23.93,23.93,24.8,28.49,26.59,18.63,24.7,24.77,23.91,22.89,25.21,17.57,28.6,23.11,22.17,23.7,27.48,25.96,24.02,14.23,20.02,24.25,7.36,28.19,22.03,16.57,21.75,11.88,20.94,7.31,21.98,22.66,25.82,2.36,6.56,8.69,29.66,21.5,23.67,6.08,10.49,2.85,0.17,13.23,16.87,17.85,23.64,2.16,26.44,18.32,16.85,24.66,10.99,16.19,18.24],\"y0\":\" \",\"yaxis\":\"y\",\"type\":\"box\",\"hoverinfo\":\"none\"},{\"alignmentgroup\":\"True\",\"boxpoints\":\"all\",\"customdata\":[[\"HG01786\"],[\"HG01786\"],[\"HG01786\"],[\"HG01530\"],[\"HG01530\"],[\"HG01530\"],[\"HG01784\"],[\"HG01784\"],[\"HG01784\"]],\"hovertemplate\":\"population_abbreviation=%{x}\\u003cbr\\u003ecoverage=%{y}\\u003cbr\\u003esample_id=%{customdata[0]}\\u003cextra\\u003e\\u003c\\u002fextra\\u003e\",\"legendgroup\":\"IBS\",\"marker\":{\"color\":\"#FECB52\"},\"name\":\"IBS\",\"notched\":false,\"offsetgroup\":\"IBS\",\"orientation\":\"v\",\"showlegend\":true,\"x\":[\"IBS\",\"IBS\",\"IBS\",\"IBS\",\"IBS\",\"IBS\",\"IBS\",\"IBS\",\"IBS\"],\"x0\":\" \",\"xaxis\":\"x\",\"y\":[19.7,32.56,27.66,17.09,19.07,17.93,22.9,25.58,22.49],\"y0\":\" \",\"yaxis\":\"y\",\"type\":\"box\",\"hoverinfo\":\"none\"},{\"alignmentgroup\":\"True\",\"boxpoints\":\"all\",\"customdata\":[[\"HG02178\"],[\"HG02178\"],[\"HG02178\"],[\"HG02392\"],[\"HG02392\"],[\"HG02392\"],[\"HG02155\"],[\"HG02155\"],[\"HG02155\"],[\"HG02165\"],[\"HG02165\"],[\"HG02165\"],[\"HG02391\"],[\"HG02391\"],[\"HG02391\"],[\"HG02391\"]],\"hovertemplate\":\"population_abbreviation=%{x}\\u003cbr\\u003ecoverage=%{y}\\u003cbr\\u003esample_id=%{customdata[0]}\\u003cextra\\u003e\\u003c\\u002fextra\\u003e\",\"legendgroup\":\"CDX\",\"marker\":{\"color\":\"#636efa\"},\"name\":\"CDX\",\"notched\":false,\"offsetgroup\":\"CDX\",\"orientation\":\"v\",\"showlegend\":true,\"x\":[\"CDX\",\"CDX\",\"CDX\",\"CDX\",\"CDX\",\"CDX\",\"CDX\",\"CDX\",\"CDX\",\"CDX\",\"CDX\",\"CDX\",\"CDX\",\"CDX\",\"CDX\",\"CDX\"],\"x0\":\" \",\"xaxis\":\"x\",\"y\":[18.16,21.02,20.26,24.26,22.84,29.7,23.54,26.02,26.11,22.62,21.43,22.79,1.31,19.09,18.2,13.23],\"y0\":\" \",\"yaxis\":\"y\",\"type\":\"box\",\"hoverinfo\":\"none\"},{\"alignmentgroup\":\"True\",\"boxpoints\":\"all\",\"customdata\":[[\"HG02015\"],[\"HG02015\"],[\"HG02015\"],[\"HG02015\"],[\"HG02040\"],[\"HG02040\"],[\"HG02040\"],[\"HG02056\"],[\"HG02056\"],[\"HG02056\"],[\"HG02129\"],[\"HG02129\"],[\"HG02129\"],[\"HG02514\"],[\"HG02514\"],[\"HG02514\"],[\"HG02027\"],[\"HG02027\"],[\"HG02027\"],[\"HG02071\"],[\"HG02071\"],[\"HG02071\"],[\"HG02074\"],[\"HG02074\"],[\"HG02074\"],[\"HG02083\"],[\"HG02083\"],[\"HG02083\"],[\"HG02132\"],[\"HG02132\"],[\"HG02132\"],[\"HG02135\"],[\"HG02135\"],[\"HG02135\"],[\"HG02523\"],[\"HG02523\"],[\"HG02523\"],[\"HG02080\"],[\"HG02080\"],[\"HG02080\"],[\"HG02080\"],[\"HG02080\"],[\"HG02080\"],[\"HG02080\"],[\"HG02080\"],[\"HG02080\"]],\"hovertemplate\":\"population_abbreviation=%{x}\\u003cbr\\u003ecoverage=%{y}\\u003cbr\\u003esample_id=%{customdata[0]}\\u003cextra\\u003e\\u003c\\u002fextra\\u003e\",\"legendgroup\":\"KHV\",\"marker\":{\"color\":\"#EF553B\"},\"name\":\"KHV\",\"notched\":false,\"offsetgroup\":\"KHV\",\"orientation\":\"v\",\"showlegend\":true,\"x\":[\"KHV\",\"KHV\",\"KHV\",\"KHV\",\"KHV\",\"KHV\",\"KHV\",\"KHV\",\"KHV\",\"KHV\",\"KHV\",\"KHV\",\"KHV\",\"KHV\",\"KHV\",\"KHV\",\"KHV\",\"KHV\",\"KHV\",\"KHV\",\"KHV\",\"KHV\",\"KHV\",\"KHV\",\"KHV\",\"KHV\",\"KHV\",\"KHV\",\"KHV\",\"KHV\",\"KHV\",\"KHV\",\"KHV\",\"KHV\",\"KHV\",\"KHV\",\"KHV\",\"KHV\",\"KHV\",\"KHV\",\"KHV\",\"KHV\",\"KHV\",\"KHV\",\"KHV\",\"KHV\"],\"x0\":\" \",\"xaxis\":\"x\",\"y\":[5.26,6.2,13.73,8.67,27.24,31.23,24.19,14.62,15.79,18.29,14.72,13.37,13.79,21.49,22.59,19.99,17.1,21.7,21.32,28.63,31.93,18.24,26.78,28.24,23.83,25.01,24.95,26.77,30.27,13.77,25.05,33.46,14.53,28.12,29.08,25.74,22.8,18.44,17.96,17.11,15.78,15.51,15.94,19.18,11.1,16.07],\"y0\":\" \",\"yaxis\":\"y\",\"type\":\"box\",\"hoverinfo\":\"none\"},{\"alignmentgroup\":\"True\",\"boxpoints\":\"all\",\"customdata\":[[\"HG03017\"],[\"HG03017\"],[\"HG03017\"],[\"HG03239\"],[\"HG03239\"],[\"HG03239\"],[\"HG02698\"],[\"HG02698\"],[\"HG02698\"],[\"HG02698\"],[\"HG02698\"],[\"HG02735\"],[\"HG02735\"],[\"HG02735\"],[\"HG02735\"],[\"HG02738\"],[\"HG02738\"],[\"HG02738\"],[\"HG03654\"],[\"HG03654\"],[\"HG03654\"],[\"HG03669\"],[\"HG03669\"],[\"HG03669\"],[\"HG03669\"],[\"HG03704\"],[\"HG03704\"],[\"HG03704\"],[\"HG03710\"],[\"HG03710\"],[\"HG03710\"],[\"HG03710\"],[\"HG02602\"],[\"HG02602\"],[\"HG02602\"]],\"hovertemplate\":\"population_abbreviation=%{x}\\u003cbr\\u003ecoverage=%{y}\\u003cbr\\u003esample_id=%{customdata[0]}\\u003cextra\\u003e\\u003c\\u002fextra\\u003e\",\"legendgroup\":\"PJL\",\"marker\":{\"color\":\"#00cc96\"},\"name\":\"PJL\",\"notched\":false,\"offsetgroup\":\"PJL\",\"orientation\":\"v\",\"showlegend\":true,\"x\":[\"PJL\",\"PJL\",\"PJL\",\"PJL\",\"PJL\",\"PJL\",\"PJL\",\"PJL\",\"PJL\",\"PJL\",\"PJL\",\"PJL\",\"PJL\",\"PJL\",\"PJL\",\"PJL\",\"PJL\",\"PJL\",\"PJL\",\"PJL\",\"PJL\",\"PJL\",\"PJL\",\"PJL\",\"PJL\",\"PJL\",\"PJL\",\"PJL\",\"PJL\",\"PJL\",\"PJL\",\"PJL\",\"PJL\",\"PJL\",\"PJL\"],\"x0\":\" \",\"xaxis\":\"x\",\"y\":[24.37,30.05,23.31,22.54,23.69,17.79,34.61,7.27,7.03,27.81,5.94,15.77,17.4,8.75,12.7,6.17,21.49,29.0,13.95,22.53,22.91,24.92,3.34,25.24,7.37,25.08,24.6,20.04,25.42,2.19,30.55,9.07,32.31,29.12,21.66],\"y0\":\" \",\"yaxis\":\"y\",\"type\":\"box\",\"hoverinfo\":\"none\"},{\"alignmentgroup\":\"True\",\"boxpoints\":\"all\",\"customdata\":[[\"HG03834\"],[\"HG03834\"],[\"HG03834\"],[\"HG03804\"],[\"HG03804\"],[\"HG03804\"],[\"HG03816\"],[\"HG03816\"],[\"HG03816\"],[\"HG03831\"],[\"HG03831\"],[\"HG03831\"],[\"HG03927\"],[\"HG03927\"],[\"HG03927\"],[\"HG03942\"],[\"HG03942\"],[\"HG03942\"],[\"HG04157\"],[\"HG04157\"],[\"HG04157\"],[\"HG04160\"],[\"HG04160\"],[\"HG04160\"],[\"HG04184\"],[\"HG04184\"],[\"HG04184\"],[\"HG04187\"],[\"HG04187\"],[\"HG04187\"],[\"HG04187\"]],\"hovertemplate\":\"population_abbreviation=%{x}\\u003cbr\\u003ecoverage=%{y}\\u003cbr\\u003esample_id=%{customdata[0]}\\u003cextra\\u003e\\u003c\\u002fextra\\u003e\",\"legendgroup\":\"BEB\",\"marker\":{\"color\":\"#ab63fa\"},\"name\":\"BEB\",\"notched\":false,\"offsetgroup\":\"BEB\",\"orientation\":\"v\",\"showlegend\":true,\"x\":[\"BEB\",\"BEB\",\"BEB\",\"BEB\",\"BEB\",\"BEB\",\"BEB\",\"BEB\",\"BEB\",\"BEB\",\"BEB\",\"BEB\",\"BEB\",\"BEB\",\"BEB\",\"BEB\",\"BEB\",\"BEB\",\"BEB\",\"BEB\",\"BEB\",\"BEB\",\"BEB\",\"BEB\",\"BEB\",\"BEB\",\"BEB\",\"BEB\",\"BEB\",\"BEB\",\"BEB\"],\"x0\":\" \",\"xaxis\":\"x\",\"y\":[16.37,16.7,15.73,31.92,28.16,32.21,28.94,20.57,30.01,25.58,26.03,28.21,12.27,22.91,26.76,4.77,29.07,21.46,29.58,32.3,23.85,22.94,24.52,24.78,13.97,18.01,15.81,7.78,20.02,18.44,0.86],\"y0\":\" \",\"yaxis\":\"y\",\"type\":\"box\",\"hoverinfo\":\"none\"},{\"alignmentgroup\":\"True\",\"boxpoints\":\"all\",\"customdata\":[[\"HG03688\"],[\"HG03688\"],[\"HG03688\"],[\"HG04115\"],[\"HG04115\"],[\"HG04115\"],[\"HG04115\"],[\"HG04115\"],[\"HG04199\"],[\"HG04199\"],[\"HG04199\"],[\"HG04204\"],[\"HG04204\"],[\"HG04204\"],[\"HG04228\"],[\"HG04228\"],[\"HG04228\"]],\"hovertemplate\":\"population_abbreviation=%{x}\\u003cbr\\u003ecoverage=%{y}\\u003cbr\\u003esample_id=%{customdata[0]}\\u003cextra\\u003e\\u003c\\u002fextra\\u003e\",\"legendgroup\":\"STU\",\"marker\":{\"color\":\"#FFA15A\"},\"name\":\"STU\",\"notched\":false,\"offsetgroup\":\"STU\",\"orientation\":\"v\",\"showlegend\":true,\"x\":[\"STU\",\"STU\",\"STU\",\"STU\",\"STU\",\"STU\",\"STU\",\"STU\",\"STU\",\"STU\",\"STU\",\"STU\",\"STU\",\"STU\",\"STU\",\"STU\",\"STU\"],\"x0\":\" \",\"xaxis\":\"x\",\"y\":[21.49,27.31,24.02,8.25,17.59,7.53,14.89,7.67,29.05,12.5,18.45,28.35,21.51,8.36,30.32,15.02,26.95],\"y0\":\" \",\"yaxis\":\"y\",\"type\":\"box\",\"hoverinfo\":\"none\"},{\"alignmentgroup\":\"True\",\"boxpoints\":\"all\",\"customdata\":[[\"NA21309\"],[\"NA21309\"],[\"NA21309\"]],\"hovertemplate\":\"population_abbreviation=%{x}\\u003cbr\\u003ecoverage=%{y}\\u003cbr\\u003esample_id=%{customdata[0]}\\u003cextra\\u003e\\u003c\\u002fextra\\u003e\",\"legendgroup\":\"MKK\",\"marker\":{\"color\":\"#19d3f3\"},\"name\":\"MKK\",\"notched\":false,\"offsetgroup\":\"MKK\",\"orientation\":\"v\",\"showlegend\":true,\"x\":[\"MKK\",\"MKK\",\"MKK\"],\"x0\":\" \",\"xaxis\":\"x\",\"y\":[29.4,20.8,22.86],\"y0\":\" \",\"yaxis\":\"y\",\"type\":\"box\",\"hoverinfo\":\"none\"},{\"alignmentgroup\":\"True\",\"boxpoints\":\"all\",\"customdata\":[[\"HG06807\"],[\"HG06807\"],[\"HG06807\"]],\"hovertemplate\":\"population_abbreviation=%{x}\\u003cbr\\u003ecoverage=%{y}\\u003cbr\\u003esample_id=%{customdata[0]}\\u003cextra\\u003e\\u003c\\u002fextra\\u003e\",\"legendgroup\":\"ASL\",\"marker\":{\"color\":\"#FF6692\"},\"name\":\"ASL\",\"notched\":false,\"offsetgroup\":\"ASL\",\"orientation\":\"v\",\"showlegend\":true,\"x\":[\"ASL\",\"ASL\",\"ASL\"],\"x0\":\" \",\"xaxis\":\"x\",\"y\":[20.9,22.74,28.22],\"y0\":\" \",\"yaxis\":\"y\",\"type\":\"box\",\"hoverinfo\":\"none\"}],                        {\"template\":{\"data\":{\"barpolar\":[{\"marker\":{\"line\":{\"color\":\"rgb(17,17,17)\",\"width\":0.5},\"pattern\":{\"fillmode\":\"overlay\",\"size\":10,\"solidity\":0.2}},\"type\":\"barpolar\"}],\"bar\":[{\"error_x\":{\"color\":\"#f2f5fa\"},\"error_y\":{\"color\":\"#f2f5fa\"},\"marker\":{\"line\":{\"color\":\"rgb(17,17,17)\",\"width\":0.5},\"pattern\":{\"fillmode\":\"overlay\",\"size\":10,\"solidity\":0.2}},\"type\":\"bar\"}],\"carpet\":[{\"aaxis\":{\"endlinecolor\":\"#A2B1C6\",\"gridcolor\":\"#506784\",\"linecolor\":\"#506784\",\"minorgridcolor\":\"#506784\",\"startlinecolor\":\"#A2B1C6\"},\"baxis\":{\"endlinecolor\":\"#A2B1C6\",\"gridcolor\":\"#506784\",\"linecolor\":\"#506784\",\"minorgridcolor\":\"#506784\",\"startlinecolor\":\"#A2B1C6\"},\"type\":\"carpet\"}],\"choropleth\":[{\"colorbar\":{\"outlinewidth\":0,\"ticks\":\"\"},\"type\":\"choropleth\"}],\"contourcarpet\":[{\"colorbar\":{\"outlinewidth\":0,\"ticks\":\"\"},\"type\":\"contourcarpet\"}],\"contour\":[{\"colorbar\":{\"outlinewidth\":0,\"ticks\":\"\"},\"colorscale\":[[0.0,\"#0d0887\"],[0.1111111111111111,\"#46039f\"],[0.2222222222222222,\"#7201a8\"],[0.3333333333333333,\"#9c179e\"],[0.4444444444444444,\"#bd3786\"],[0.5555555555555556,\"#d8576b\"],[0.6666666666666666,\"#ed7953\"],[0.7777777777777778,\"#fb9f3a\"],[0.8888888888888888,\"#fdca26\"],[1.0,\"#f0f921\"]],\"type\":\"contour\"}],\"heatmapgl\":[{\"colorbar\":{\"outlinewidth\":0,\"ticks\":\"\"},\"colorscale\":[[0.0,\"#0d0887\"],[0.1111111111111111,\"#46039f\"],[0.2222222222222222,\"#7201a8\"],[0.3333333333333333,\"#9c179e\"],[0.4444444444444444,\"#bd3786\"],[0.5555555555555556,\"#d8576b\"],[0.6666666666666666,\"#ed7953\"],[0.7777777777777778,\"#fb9f3a\"],[0.8888888888888888,\"#fdca26\"],[1.0,\"#f0f921\"]],\"type\":\"heatmapgl\"}],\"heatmap\":[{\"colorbar\":{\"outlinewidth\":0,\"ticks\":\"\"},\"colorscale\":[[0.0,\"#0d0887\"],[0.1111111111111111,\"#46039f\"],[0.2222222222222222,\"#7201a8\"],[0.3333333333333333,\"#9c179e\"],[0.4444444444444444,\"#bd3786\"],[0.5555555555555556,\"#d8576b\"],[0.6666666666666666,\"#ed7953\"],[0.7777777777777778,\"#fb9f3a\"],[0.8888888888888888,\"#fdca26\"],[1.0,\"#f0f921\"]],\"type\":\"heatmap\"}],\"histogram2dcontour\":[{\"colorbar\":{\"outlinewidth\":0,\"ticks\":\"\"},\"colorscale\":[[0.0,\"#0d0887\"],[0.1111111111111111,\"#46039f\"],[0.2222222222222222,\"#7201a8\"],[0.3333333333333333,\"#9c179e\"],[0.4444444444444444,\"#bd3786\"],[0.5555555555555556,\"#d8576b\"],[0.6666666666666666,\"#ed7953\"],[0.7777777777777778,\"#fb9f3a\"],[0.8888888888888888,\"#fdca26\"],[1.0,\"#f0f921\"]],\"type\":\"histogram2dcontour\"}],\"histogram2d\":[{\"colorbar\":{\"outlinewidth\":0,\"ticks\":\"\"},\"colorscale\":[[0.0,\"#0d0887\"],[0.1111111111111111,\"#46039f\"],[0.2222222222222222,\"#7201a8\"],[0.3333333333333333,\"#9c179e\"],[0.4444444444444444,\"#bd3786\"],[0.5555555555555556,\"#d8576b\"],[0.6666666666666666,\"#ed7953\"],[0.7777777777777778,\"#fb9f3a\"],[0.8888888888888888,\"#fdca26\"],[1.0,\"#f0f921\"]],\"type\":\"histogram2d\"}],\"histogram\":[{\"marker\":{\"pattern\":{\"fillmode\":\"overlay\",\"size\":10,\"solidity\":0.2}},\"type\":\"histogram\"}],\"mesh3d\":[{\"colorbar\":{\"outlinewidth\":0,\"ticks\":\"\"},\"type\":\"mesh3d\"}],\"parcoords\":[{\"line\":{\"colorbar\":{\"outlinewidth\":0,\"ticks\":\"\"}},\"type\":\"parcoords\"}],\"pie\":[{\"automargin\":true,\"type\":\"pie\"}],\"scatter3d\":[{\"line\":{\"colorbar\":{\"outlinewidth\":0,\"ticks\":\"\"}},\"marker\":{\"colorbar\":{\"outlinewidth\":0,\"ticks\":\"\"}},\"type\":\"scatter3d\"}],\"scattercarpet\":[{\"marker\":{\"colorbar\":{\"outlinewidth\":0,\"ticks\":\"\"}},\"type\":\"scattercarpet\"}],\"scattergeo\":[{\"marker\":{\"colorbar\":{\"outlinewidth\":0,\"ticks\":\"\"}},\"type\":\"scattergeo\"}],\"scattergl\":[{\"marker\":{\"line\":{\"color\":\"#283442\"}},\"type\":\"scattergl\"}],\"scattermapbox\":[{\"marker\":{\"colorbar\":{\"outlinewidth\":0,\"ticks\":\"\"}},\"type\":\"scattermapbox\"}],\"scatterpolargl\":[{\"marker\":{\"colorbar\":{\"outlinewidth\":0,\"ticks\":\"\"}},\"type\":\"scatterpolargl\"}],\"scatterpolar\":[{\"marker\":{\"colorbar\":{\"outlinewidth\":0,\"ticks\":\"\"}},\"type\":\"scatterpolar\"}],\"scatter\":[{\"marker\":{\"line\":{\"color\":\"#283442\"}},\"type\":\"scatter\"}],\"scatterternary\":[{\"marker\":{\"colorbar\":{\"outlinewidth\":0,\"ticks\":\"\"}},\"type\":\"scatterternary\"}],\"surface\":[{\"colorbar\":{\"outlinewidth\":0,\"ticks\":\"\"},\"colorscale\":[[0.0,\"#0d0887\"],[0.1111111111111111,\"#46039f\"],[0.2222222222222222,\"#7201a8\"],[0.3333333333333333,\"#9c179e\"],[0.4444444444444444,\"#bd3786\"],[0.5555555555555556,\"#d8576b\"],[0.6666666666666666,\"#ed7953\"],[0.7777777777777778,\"#fb9f3a\"],[0.8888888888888888,\"#fdca26\"],[1.0,\"#f0f921\"]],\"type\":\"surface\"}],\"table\":[{\"cells\":{\"fill\":{\"color\":\"#506784\"},\"line\":{\"color\":\"rgb(17,17,17)\"}},\"header\":{\"fill\":{\"color\":\"#2a3f5f\"},\"line\":{\"color\":\"rgb(17,17,17)\"}},\"type\":\"table\"}]},\"layout\":{\"annotationdefaults\":{\"arrowcolor\":\"#f2f5fa\",\"arrowhead\":0,\"arrowwidth\":1},\"autotypenumbers\":\"strict\",\"coloraxis\":{\"colorbar\":{\"outlinewidth\":0,\"ticks\":\"\"}},\"colorscale\":{\"diverging\":[[0,\"#8e0152\"],[0.1,\"#c51b7d\"],[0.2,\"#de77ae\"],[0.3,\"#f1b6da\"],[0.4,\"#fde0ef\"],[0.5,\"#f7f7f7\"],[0.6,\"#e6f5d0\"],[0.7,\"#b8e186\"],[0.8,\"#7fbc41\"],[0.9,\"#4d9221\"],[1,\"#276419\"]],\"sequential\":[[0.0,\"#0d0887\"],[0.1111111111111111,\"#46039f\"],[0.2222222222222222,\"#7201a8\"],[0.3333333333333333,\"#9c179e\"],[0.4444444444444444,\"#bd3786\"],[0.5555555555555556,\"#d8576b\"],[0.6666666666666666,\"#ed7953\"],[0.7777777777777778,\"#fb9f3a\"],[0.8888888888888888,\"#fdca26\"],[1.0,\"#f0f921\"]],\"sequentialminus\":[[0.0,\"#0d0887\"],[0.1111111111111111,\"#46039f\"],[0.2222222222222222,\"#7201a8\"],[0.3333333333333333,\"#9c179e\"],[0.4444444444444444,\"#bd3786\"],[0.5555555555555556,\"#d8576b\"],[0.6666666666666666,\"#ed7953\"],[0.7777777777777778,\"#fb9f3a\"],[0.8888888888888888,\"#fdca26\"],[1.0,\"#f0f921\"]]},\"colorway\":[\"#636efa\",\"#EF553B\",\"#00cc96\",\"#ab63fa\",\"#FFA15A\",\"#19d3f3\",\"#FF6692\",\"#B6E880\",\"#FF97FF\",\"#FECB52\"],\"font\":{\"color\":\"#f2f5fa\"},\"geo\":{\"bgcolor\":\"rgb(17,17,17)\",\"lakecolor\":\"rgb(17,17,17)\",\"landcolor\":\"rgb(17,17,17)\",\"showlakes\":true,\"showland\":true,\"subunitcolor\":\"#506784\"},\"hoverlabel\":{\"align\":\"left\"},\"hovermode\":\"closest\",\"mapbox\":{\"style\":\"dark\"},\"paper_bgcolor\":\"rgb(17,17,17)\",\"plot_bgcolor\":\"rgb(17,17,17)\",\"polar\":{\"angularaxis\":{\"gridcolor\":\"#506784\",\"linecolor\":\"#506784\",\"ticks\":\"\"},\"bgcolor\":\"rgb(17,17,17)\",\"radialaxis\":{\"gridcolor\":\"#506784\",\"linecolor\":\"#506784\",\"ticks\":\"\"}},\"scene\":{\"xaxis\":{\"backgroundcolor\":\"rgb(17,17,17)\",\"gridcolor\":\"#506784\",\"gridwidth\":2,\"linecolor\":\"#506784\",\"showbackground\":true,\"ticks\":\"\",\"zerolinecolor\":\"#C8D4E3\"},\"yaxis\":{\"backgroundcolor\":\"rgb(17,17,17)\",\"gridcolor\":\"#506784\",\"gridwidth\":2,\"linecolor\":\"#506784\",\"showbackground\":true,\"ticks\":\"\",\"zerolinecolor\":\"#C8D4E3\"},\"zaxis\":{\"backgroundcolor\":\"rgb(17,17,17)\",\"gridcolor\":\"#506784\",\"gridwidth\":2,\"linecolor\":\"#506784\",\"showbackground\":true,\"ticks\":\"\",\"zerolinecolor\":\"#C8D4E3\"}},\"shapedefaults\":{\"line\":{\"color\":\"#f2f5fa\"}},\"sliderdefaults\":{\"bgcolor\":\"#C8D4E3\",\"bordercolor\":\"rgb(17,17,17)\",\"borderwidth\":1,\"tickwidth\":0},\"ternary\":{\"aaxis\":{\"gridcolor\":\"#506784\",\"linecolor\":\"#506784\",\"ticks\":\"\"},\"baxis\":{\"gridcolor\":\"#506784\",\"linecolor\":\"#506784\",\"ticks\":\"\"},\"bgcolor\":\"rgb(17,17,17)\",\"caxis\":{\"gridcolor\":\"#506784\",\"linecolor\":\"#506784\",\"ticks\":\"\"}},\"title\":{\"x\":0.05},\"updatemenudefaults\":{\"bgcolor\":\"#506784\",\"borderwidth\":0},\"xaxis\":{\"automargin\":true,\"gridcolor\":\"#283442\",\"linecolor\":\"#506784\",\"ticks\":\"\",\"title\":{\"standoff\":15},\"zerolinecolor\":\"#283442\",\"zerolinewidth\":2},\"yaxis\":{\"automargin\":true,\"gridcolor\":\"#283442\",\"linecolor\":\"#506784\",\"ticks\":\"\",\"title\":{\"standoff\":15},\"zerolinecolor\":\"#283442\",\"zerolinewidth\":2}}},\"xaxis\":{\"anchor\":\"y\",\"domain\":[0.0,1.0],\"title\":{\"text\":\"Population\"},\"categoryorder\":\"array\",\"categoryarray\":[\"CHS\",\"PEL\",\"GWD\",\"MSL\",\"PUR\",\"CLM\",\"ACB\",\"ESN\",\"LWK\",\"FIN\",\"CHB\",\"GIH\",\"MXL\",\"GBR\",\"ASW\",\"TSI\",\"ITU\",\"YRI\",\"JPT\",\"IBS\",\"CDX\",\"KHV\",\"PJL\",\"BEB\",\"STU\",\"MKK\",\"ASL\"]},\"yaxis\":{\"anchor\":\"x\",\"domain\":[0.0,1.0],\"title\":{\"text\":\"Coverage (x)\"}},\"legend\":{\"title\":{\"text\":\"population_abbreviation\"},\"tracegroupgap\":0},\"margin\":{\"t\":60},\"boxmode\":\"overlay\",\"title\":{\"text\":\"Coverage Distribution by Population\"}},                        {\"responsive\": true}                    ).then(function(){\n",
       "                            \n",
       "var gd = document.getElementById('a6f08e06-0d1e-44a6-b850-85f8a92fd28c');\n",
       "var x = new MutationObserver(function (mutations, observer) {{\n",
       "        var display = window.getComputedStyle(gd).display;\n",
       "        if (!display || display === 'none') {{\n",
       "            console.log([gd, 'removed!']);\n",
       "            Plotly.purge(gd);\n",
       "            observer.disconnect();\n",
       "        }}\n",
       "}});\n",
       "\n",
       "// Listen for the removal of the full notebook cells\n",
       "var notebookContainer = gd.closest('#notebook-container');\n",
       "if (notebookContainer) {{\n",
       "    x.observe(notebookContainer, {childList: true});\n",
       "}}\n",
       "\n",
       "// Listen for the clearing of the current output cell\n",
       "var outputEl = gd.closest('.output');\n",
       "if (outputEl) {{\n",
       "    x.observe(outputEl, {childList: true});\n",
       "}}\n",
       "\n",
       "                        })                };                });            </script>        </div>"
      ]
     },
     "metadata": {},
     "output_type": "display_data"
    }
   ],
   "source": [
    "import re\n",
    "\n",
    "code = response['message']['content']\n",
    "\n",
    "# Try to extract Python code block (if wrapped in ```python ... ```)\n",
    "match = re.search(r\"```(?:python)?\\s*(.*?)```\", code, re.DOTALL)\n",
    "if match:\n",
    "    code_to_exec = match.group(1)\n",
    "else:\n",
    "    code_to_exec = code\n",
    "\n",
    "try:\n",
    "    exec(code_to_exec)\n",
    "except Exception as e:\n",
    "    print(\"Execution failed:\", e)"
   ]
  }
 ],
 "metadata": {
  "kernelspec": {
   "display_name": "Python [conda env:.conda-metadisco]",
   "language": "python",
   "name": "conda-env-.conda-metadisco-py"
  },
  "language_info": {
   "codemirror_mode": {
    "name": "ipython",
    "version": 3
   },
   "file_extension": ".py",
   "mimetype": "text/x-python",
   "name": "python",
   "nbconvert_exporter": "python",
   "pygments_lexer": "ipython3",
   "version": "3.8.20"
  }
 },
 "nbformat": 4,
 "nbformat_minor": 5
}
