{
 "cells": [
  {
   "cell_type": "code",
   "execution_count": 1,
   "id": "659bbd9e",
   "metadata": {},
   "outputs": [],
   "source": [
    "import plotly.express as px\n",
    "import json\n",
    "import pandas as pd\n",
    "from ollama import chat\n",
    "from ollama import ChatResponse"
   ]
  },
  {
   "cell_type": "code",
   "execution_count": 2,
   "id": "50c5acb3",
   "metadata": {},
   "outputs": [],
   "source": [
    "hprc_r2_df = pd.read_csv('findability-funk/hprc_release2_sample_metadata.csv',encoding='latin-1')\n",
    "ont_r2_df = pd.read_csv('findability-funk/data_ont_pre_release.index.csv')\n",
    "ont_r2_df.rename(columns={\n",
    "    'sample_ID':'sample_id'\n",
    "}, inplace=True)\n",
    "\n",
    "hprc_ont_r2_df = pd.merge(hprc_r2_df,\n",
    "                          ont_r2_df, \n",
    "                          on='sample_id', \n",
    "                          how='right')"
   ]
  },
  {
   "cell_type": "code",
   "execution_count": 3,
   "id": "49da6d65",
   "metadata": {},
   "outputs": [],
   "source": [
    "df = hprc_ont_r2_df[['sample_id', 'population_abbreviation', 'read_N50', 'total_Gbp', 'coverage',\n",
    "         '100kb+', '200kb+', '300kb+', '400kb+', '500kb+', '1Mb+']]\n",
    "df = df.dropna()"
   ]
  },
  {
   "cell_type": "code",
   "execution_count": 4,
   "id": "d27db75a",
   "metadata": {},
   "outputs": [
    {
     "name": "stdout",
     "output_type": "stream",
     "text": [
      "```python\n",
      "import plotly.express as px\n",
      "\n",
      "fig = px.box(df, x='population_abbreviation', y='coverage',\n",
      "              points=\"all\", color='population_abbreviation',\n",
      "              hover_data=['sample_id'], template='plotly_dark')\n",
      "\n",
      "fig.update_traces(hoverinfo='none')\n",
      "fig.update_layout(title='Coverage Distribution by Population',\n",
      "                  xaxis_title='Population',\n",
      "                  yaxis_title='Coverage (x)')\n",
      "fig.show()\n",
      "```\n"
     ]
    }
   ],
   "source": [
    "prompt = f\"\"\"\n",
    "You are a Python data visualization assistant.\n",
    "\n",
    "A pandas DataFrame called `df` already exists and contains the following columns:\n",
    "- 'sample_id'\n",
    "- 'population_abbreviation'\n",
    "- 'coverage'\n",
    "\n",
    "Do not redefine or create the DataFrame.\n",
    "\n",
    "Write Python code that:\n",
    "- Uses Plotly Express (`px.box`) to create a box plot\n",
    "- Sets `x='population_abbreviation'` and `y='coverage'`\n",
    "- Sets `points=\"all\"` to display all sample points\n",
    "- Colors by `'population_abbreviation'`\n",
    "- Includes `'sample_id'` in `hover_data`\n",
    "- Uses the `'plotly_dark'` template\n",
    "- Updates the layout with:\n",
    "  - Title: \"Coverage Distribution by Population\"\n",
    "  - X-axis label: \"Population\"\n",
    "  - Y-axis label: \"Coverage (x)\"\n",
    "- Removes the legend by setting `hoverinfo='none'` in `fig.update_traces()`\n",
    "- Ends with `fig.show()`\n",
    "\n",
    "Respond ONLY with the Python code. Do not redefine `df`. No markdown or explanations.\n",
    "\"\"\"\n",
    "\n",
    "\n",
    "\n",
    "# Send to Ollama\n",
    "response = chat(\n",
    "    model='llama3.2',\n",
    "    messages=[{\"role\": \"user\", \"content\": prompt}],\n",
    "    options={\n",
    "        \"temperature\": 0.3,\n",
    "        \"top_p\": 0.9,\n",
    "        \"num_ctx\": 4096\n",
    "    }\n",
    ")\n",
    "\n",
    "# Print output\n",
    "print(response['message']['content'])\n"
   ]
  },
  {
   "cell_type": "code",
   "execution_count": null,
   "id": "2137c957",
   "metadata": {},
   "outputs": [],
   "source": [
    "import re\n",
    "\n",
    "code = response['message']['content']\n",
    "match = re.search(r\"```(?:python)?\\n(.*?)```\", code, re.DOTALL)\n",
    "if match:\n",
    "    exec(match.group(1))\n",
    "else:\n",
    "    exec(code)"
   ]
  }
 ],
 "metadata": {
  "kernelspec": {
   "display_name": "Python [conda env:.conda-metadisco]",
   "language": "python",
   "name": "conda-env-.conda-metadisco-py"
  },
  "language_info": {
   "codemirror_mode": {
    "name": "ipython",
    "version": 3
   },
   "file_extension": ".py",
   "mimetype": "text/x-python",
   "name": "python",
   "nbconvert_exporter": "python",
   "pygments_lexer": "ipython3",
   "version": "3.8.20"
  }
 },
 "nbformat": 4,
 "nbformat_minor": 5
}
